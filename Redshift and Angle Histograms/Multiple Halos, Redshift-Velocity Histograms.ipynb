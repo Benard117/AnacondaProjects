{
 "cells": [
  {
   "cell_type": "code",
   "execution_count": 228,
   "metadata": {},
   "outputs": [],
   "source": [
    "from astropy.table import Table, Column\n",
    "import numpy as np\n",
    "import pandas as pd\n",
    "import matplotlib.pyplot as plt\n",
    "from matplotlib import colors\n",
    "import os\n",
    "import urllib.request\n",
    "import astropy.units as u\n",
    "from astropy.cosmology import z_at_value, FlatLambdaCDM\n",
    "from astropy import constants as const\n",
    "from scipy.interpolate import interp1d\n",
    "from tqdm import tqdm"
   ]
  },
  {
   "cell_type": "code",
   "execution_count": 229,
   "metadata": {},
   "outputs": [
    {
     "data": {
      "text/plain": [
       "'/home/benardorci/SimulationData'"
      ]
     },
     "execution_count": 229,
     "metadata": {},
     "output_type": "execute_result"
    }
   ],
   "source": [
    "os.chdir(\"/home/benardorci/SimulationData\")\n",
    "os.getcwd()"
   ]
  },
  {
   "cell_type": "code",
   "execution_count": 230,
   "metadata": {},
   "outputs": [],
   "source": [
    "Halos = np.load(\"/home/benardorci/SimulationData/halos.npy\")\n",
    "DMP = np.load(\"/home/benardorci/SimulationData/dm_cat_ds_10000.npy\")\n",
    "CheckingEverythingIsAlright = 117"
   ]
  },
  {
   "cell_type": "code",
   "execution_count": 231,
   "metadata": {},
   "outputs": [],
   "source": [
    "# MassBins, where:  \n",
    "\n",
    "MassBin1 = []    #         MB >= 1e15\n",
    "MassBin2 = []    # 5e14 <= MB <1e15\n",
    "MassBin3 = []    # 1e14 <= MB <5e14\n",
    "MassBin4 = []    # 5e13 <= MB <1e14\n",
    "MassBin5 = []    # 1e13 <= MB <5e13\n",
    "MassBin6 = []    #         MB < 1e13\n",
    "\n",
    "for m, x, y, z, Vx, Vy, Vz in zip(Halos[:,0], Halos[:,1], Halos[:,2], Halos[:,3], Halos[:,4], Halos[:,5], Halos[:,6]) :\n",
    "    if m >= 1.0*10**13.5 :\n",
    "        MassBin1.append([m, x, y, z, Vx, Vy, Vz])\n",
    "#    if m >= 1.0*10**15 :\n",
    " #       MassBin1.append([m, x, y, z, Vx, Vy, Vz])\n",
    "  #  elif m >= 5.0*10**14 :\n",
    "   #     MassBin2.append([m, x, y, z, Vx, Vy, Vz])\n",
    "    #elif m >= 1.0*10**14 :\n",
    "     #   MassBin3.append([m, x, y, z, Vx, Vy, Vz])\n",
    "#    elif m >= 5.0*10**13 :\n",
    " #       MassBin4.append([m, x, y, z, Vx, Vy, Vz])\n",
    "  #  elif m >= 1.0*10**13 :\n",
    "   #     MassBin5.append([m, x, y, z, Vx, Vy, Vz])\n",
    "    #else :\n",
    "     #   MassBin6.append([m, x, y, z, Vx, Vy, Vz])\n",
    "\n",
    "MassBin1 = np.array(MassBin1)\n",
    "MassBin2 = np.array(MassBin2)\n",
    "MassBin3 = np.array(MassBin3)\n",
    "MassBin4 = np.array(MassBin4)\n",
    "MassBin5 = np.array(MassBin5)\n",
    "MassBin6 = np.array(MassBin6)"
   ]
  },
  {
   "cell_type": "code",
   "execution_count": 232,
   "metadata": {},
   "outputs": [],
   "source": [
    "#-----------------------------------------------------------------------------------------\n",
    "#\n",
    "# NewDMPBoxShell will not be complete is both the Radius and the HalfHeight parameters are\n",
    "# bigger than 525.\n",
    "#\n",
    "#-----------------------------------------------------------------------------------------"
   ]
  },
  {
   "cell_type": "code",
   "execution_count": 233,
   "metadata": {},
   "outputs": [],
   "source": [
    "Radius = 10\n",
    "HalfHeight = 525\n",
    "\n",
    "NewDMPBoxShell = []\n",
    "\n",
    "for m, x, y, z, Vx, Vy, Vz in zip(DMP[:,0], DMP[:,1], DMP[:,2], DMP[:,3], DMP[:,4], DMP[:,5], DMP[:,6]) :\n",
    "    if  x < Radius :\n",
    "        if y < Radius :\n",
    "            if z < HalfHeight :\n",
    "                NewDMPBoxShell.append([m, x+1050+Radius, y+1050+Radius, z+1050+HalfHeight, Vx, Vy, Vz]) #PUNTO\n",
    "            elif z > 1050-HalfHeight :\n",
    "                NewDMPBoxShell.append([m, x+1050+Radius, y+1050+Radius, z-1050+HalfHeight, Vx, Vy, Vz]) #PUNTO\n",
    "            \n",
    "        elif y > 1050-Radius :\n",
    "            if z < HalfHeight :\n",
    "                NewDMPBoxShell.append([m, x+1050+Radius, y-1050+Radius, z+1050+HalfHeight, Vx, Vy, Vz]) #PUNTO\n",
    "            elif z > 1050-HalfHeight :\n",
    "                NewDMPBoxShell.append([m, x+1050+Radius, y-1050+Radius, z-1050+HalfHeight, Vx, Vy, Vz]) #PUNTO\n",
    "            \n",
    "    elif  x > 1050-Radius :\n",
    "        if y < Radius :\n",
    "            if z < HalfHeight :\n",
    "                NewDMPBoxShell.append([m, x-1050+Radius, y+1050+Radius, z+1050+HalfHeight, Vx, Vy, Vz]) #PUNTO\n",
    "            elif z > 1050-HalfHeight :\n",
    "                NewDMPBoxShell.append([m, x-1050+Radius, y+1050+Radius, z-1050+HalfHeight, Vx, Vy, Vz]) #PUNTO\n",
    "            \n",
    "        elif y > 1050-Radius :\n",
    "            if z < HalfHeight :\n",
    "                NewDMPBoxShell.append([m, x-1050+Radius, y-1050+Radius, z+1050+HalfHeight, Vx, Vy, Vz]) #PUNTO\n",
    "            elif z > 1050-HalfHeight :\n",
    "                NewDMPBoxShell.append([m, x-1050+Radius, y-1050+Radius, z-1050+HalfHeight, Vx, Vy, Vz]) #PUNTO"
   ]
  },
  {
   "cell_type": "code",
   "execution_count": 234,
   "metadata": {},
   "outputs": [],
   "source": [
    "for m, x, y, z, Vx, Vy, Vz in zip(DMP[:,0], DMP[:,1], DMP[:,2], DMP[:,3], DMP[:,4], DMP[:,5], DMP[:,6]) :\n",
    "    if  x < Radius :\n",
    "        if y < Radius :    \n",
    "            NewDMPBoxShell.append([m, x+1050+Radius, y+1050+Radius, z+HalfHeight, Vx, Vy, Vz]) #ARISTA        \n",
    "        elif y > 1050-Radius :    \n",
    "            NewDMPBoxShell.append([m, x+1050+Radius, y-1050+Radius, z+HalfHeight, Vx, Vy, Vz]) #ARISTA\n",
    "\n",
    "    elif  x > 1050-Radius :\n",
    "        if y < Radius :    \n",
    "            NewDMPBoxShell.append([m, x-1050+Radius, y+1050+Radius, z+HalfHeight, Vx, Vy, Vz]) #ARISTA     \n",
    "        elif y > 1050-Radius :    \n",
    "            NewDMPBoxShell.append([m, x-1050+Radius, y-1050+Radius, z+HalfHeight, Vx, Vy, Vz]) #ARISTA"
   ]
  },
  {
   "cell_type": "code",
   "execution_count": 235,
   "metadata": {},
   "outputs": [],
   "source": [
    "for m, x, y, z, Vx, Vy, Vz in zip(DMP[:,0], DMP[:,1], DMP[:,2], DMP[:,3], DMP[:,4], DMP[:,5], DMP[:,6]) :\n",
    "    if y < Radius :\n",
    "        if z < HalfHeight :\n",
    "            NewDMPBoxShell.append([m, x+Radius, y+1050+Radius, z+1050+HalfHeight, Vx, Vy, Vz]) #ARISTA\n",
    "        elif z > 1050-HalfHeight :\n",
    "            NewDMPBoxShell.append([m, x+Radius, y+1050+Radius, z-1050+HalfHeight, Vx, Vy, Vz]) #ARISTA\n",
    "        \n",
    "    elif y > 1050-Radius :\n",
    "        if z < HalfHeight :\n",
    "            NewDMPBoxShell.append([m, x+Radius, y-1050+Radius, z+1050+HalfHeight, Vx, Vy, Vz]) #ARISTA\n",
    "        elif z > 1050-HalfHeight :\n",
    "            NewDMPBoxShell.append([m, x+Radius, y-1050+Radius, z-1050+HalfHeight, Vx, Vy, Vz]) #ARISTA"
   ]
  },
  {
   "cell_type": "code",
   "execution_count": 236,
   "metadata": {},
   "outputs": [],
   "source": [
    "for m, x, y, z, Vx, Vy, Vz in zip(DMP[:,0], DMP[:,1], DMP[:,2], DMP[:,3], DMP[:,4], DMP[:,5], DMP[:,6]) :\n",
    "    if  x < Radius :                \n",
    "        if z < HalfHeight :\n",
    "            NewDMPBoxShell.append([m, x+1050+Radius, y+Radius, z+1050+HalfHeight, Vx, Vy, Vz]) #ARISTA\n",
    "        elif z > 1050-HalfHeight :\n",
    "            NewDMPBoxShell.append([m, x+1050+Radius, y+Radius, z-1050+HalfHeight, Vx, Vy, Vz]) #ARISTA\n",
    "\n",
    "    elif  x > 1050-Radius :\n",
    "        if z < HalfHeight :\n",
    "            NewDMPBoxShell.append([m, x-1050+Radius, y+Radius, z+1050+HalfHeight, Vx, Vy, Vz]) #ARISTA\n",
    "        elif z > 1050-HalfHeight :\n",
    "            NewDMPBoxShell.append([m, x-1050+Radius, y+Radius, z-1050+HalfHeight, Vx, Vy, Vz]) #ARISTA"
   ]
  },
  {
   "cell_type": "code",
   "execution_count": 237,
   "metadata": {},
   "outputs": [],
   "source": [
    "for m, x, y, z, Vx, Vy, Vz in zip(DMP[:,0], DMP[:,1], DMP[:,2], DMP[:,3], DMP[:,4], DMP[:,5], DMP[:,6]) :\n",
    "    if  x < Radius :\n",
    "        NewDMPBoxShell.append([m, x+1050+Radius, y+Radius, z+HalfHeight, Vx, Vy, Vz]) #CARA\n",
    "            \n",
    "    elif  x > 1050-Radius :\n",
    "        NewDMPBoxShell.append([m, x-1050+Radius, y+Radius, z+HalfHeight, Vx, Vy, Vz]) #CARA"
   ]
  },
  {
   "cell_type": "code",
   "execution_count": 238,
   "metadata": {},
   "outputs": [],
   "source": [
    "for m, x, y, z, Vx, Vy, Vz in zip(DMP[:,0], DMP[:,1], DMP[:,2], DMP[:,3], DMP[:,4], DMP[:,5], DMP[:,6]) :\n",
    "    if y < Radius :\n",
    "        NewDMPBoxShell.append([m, x+Radius, y+1050+Radius, z+HalfHeight, Vx, Vy, Vz]) #CARA\n",
    "        \n",
    "    elif y > 1050-Radius :\n",
    "        NewDMPBoxShell.append([m, x+Radius, y-1050+Radius, z+HalfHeight, Vx, Vy, Vz]) #CARA"
   ]
  },
  {
   "cell_type": "code",
   "execution_count": 239,
   "metadata": {},
   "outputs": [],
   "source": [
    "for m, x, y, z, Vx, Vy, Vz in zip(DMP[:,0], DMP[:,1], DMP[:,2], DMP[:,3], DMP[:,4], DMP[:,5], DMP[:,6]) :\n",
    "    if z < HalfHeight :\n",
    "        NewDMPBoxShell.append([m, x+Radius, y+Radius, z+1050+HalfHeight, Vx, Vy, Vz]) #CARA             \n",
    "                  \n",
    "    elif z > 1050-HalfHeight :\n",
    "        NewDMPBoxShell.append([m, x+Radius, y+Radius, z-1050+HalfHeight, Vx, Vy, Vz]) #CARA"
   ]
  },
  {
   "cell_type": "code",
   "execution_count": 240,
   "metadata": {},
   "outputs": [],
   "source": [
    "DMP[:,1] = DMP[:,1] + Radius \n",
    "DMP[:,2] = DMP[:,2] + Radius \n",
    "DMP[:,3] = DMP[:,3] + HalfHeight"
   ]
  },
  {
   "cell_type": "code",
   "execution_count": 241,
   "metadata": {},
   "outputs": [
    {
     "name": "stdout",
     "output_type": "stream",
     "text": [
      "117\n"
     ]
    }
   ],
   "source": [
    "print(CheckingEverythingIsAlright)"
   ]
  },
  {
   "cell_type": "code",
   "execution_count": 242,
   "metadata": {},
   "outputs": [],
   "source": [
    "NewDMPBox = np.concatenate((DMP, NewDMPBoxShell))"
   ]
  },
  {
   "cell_type": "code",
   "execution_count": 243,
   "metadata": {},
   "outputs": [
    {
     "name": "stdout",
     "output_type": "stream",
     "text": [
      "117\n"
     ]
    }
   ],
   "source": [
    "print(CheckingEverythingIsAlright)"
   ]
  },
  {
   "cell_type": "code",
   "execution_count": 244,
   "metadata": {},
   "outputs": [],
   "source": [
    "cosmo = FlatLambdaCDM(H0=70, Om0=0.3)\n",
    "\n",
    "DistanceOfRS0dot3 = cosmo.comoving_distance(0.3)\n",
    "DistanceOfRS0dot3 = DistanceOfRS0dot3.value\n",
    "\n",
    "# -------------------------------------- INTERPOLATION --------------------------------------\n",
    "\n",
    "MPCMin = z_at_value(cosmo.comoving_distance, 0.001*u.Mpc)\n",
    "MPCMax = z_at_value(cosmo.comoving_distance, 1800*u.Mpc) # ~1200 + 525 = 1725 < 1800 MPC\n",
    "RSgrid = np.linspace(MPCMin, MPCMax, 50000)\n",
    "MPCgrid = cosmo.comoving_distance(RSgrid)\n",
    "\n",
    "MPCtoRSInterpolation = interp1d(MPCgrid, RSgrid)   \n",
    "\n",
    "# -------------------------------------- INTERPOLATION --------------------------------------\n",
    "\n",
    "TemporaryFrameOfReference = np.zeros((np.size(NewDMPBox[:,3]),3))"
   ]
  },
  {
   "cell_type": "code",
   "execution_count": 245,
   "metadata": {},
   "outputs": [
    {
     "name": "stdout",
     "output_type": "stream",
     "text": [
      "117\n"
     ]
    }
   ],
   "source": [
    "print(CheckingEverythingIsAlright)"
   ]
  },
  {
   "cell_type": "code",
   "execution_count": 246,
   "metadata": {},
   "outputs": [],
   "source": [
    "ID = 0\n",
    "\n",
    "UpperMPCDistanceLimit = DistanceOfRS0dot3 + 525 # In this case, the size of the DMP box is 1050 MPC, so we are\n",
    "LowerMPCDistanceLimit = DistanceOfRS0dot3 - 525 # taking half of that upwards and downwards form the halo of \n",
    "\n",
    "TemporaryMasses = []\n",
    "TemporaryRedshifts = []\n",
    "TemporaryAngles = []\n",
    "\n",
    "AngleAt0dot3RS = np.radians(0.3)\n",
    "\n",
    "DMPBoxMassesAll = []\n",
    "DMPBoxRedshiftsAll = []\n",
    "DMPBoxAnglesAll = []\n",
    "\n",
    "FinalVelocities = []"
   ]
  },
  {
   "cell_type": "code",
   "execution_count": 247,
   "metadata": {},
   "outputs": [
    {
     "name": "stderr",
     "output_type": "stream",
     "text": [
      "  1%|          | 1344/264149 [01:25<4:39:25, 15.68it/s]"
     ]
    },
    {
     "ename": "KeyboardInterrupt",
     "evalue": "",
     "output_type": "error",
     "traceback": [
      "\u001b[0;31m---------------------------------------------------------------------------\u001b[0m",
      "\u001b[0;31mKeyboardInterrupt\u001b[0m                         Traceback (most recent call last)",
      "\u001b[0;32m<ipython-input-247-63903e7a0075>\u001b[0m in \u001b[0;36m<module>\u001b[0;34m\u001b[0m\n\u001b[1;32m     14\u001b[0m     \u001b[0;31m# Interpolate those numbers.\u001b[0m\u001b[0;34m\u001b[0m\u001b[0;34m\u001b[0m\u001b[0;34m\u001b[0m\u001b[0m\n\u001b[1;32m     15\u001b[0m \u001b[0;34m\u001b[0m\u001b[0m\n\u001b[0;32m---> 16\u001b[0;31m     \u001b[0mInterpolatedRS\u001b[0m \u001b[0;34m=\u001b[0m \u001b[0mMPCtoRSInterpolation\u001b[0m\u001b[0;34m(\u001b[0m\u001b[0mTemporaryFrameOfReference\u001b[0m\u001b[0;34m[\u001b[0m\u001b[0mIndexNumbers\u001b[0m\u001b[0;34m,\u001b[0m\u001b[0;36m2\u001b[0m\u001b[0;34m]\u001b[0m\u001b[0;34m)\u001b[0m\u001b[0;34m\u001b[0m\u001b[0;34m\u001b[0m\u001b[0m\n\u001b[0m\u001b[1;32m     17\u001b[0m \u001b[0;34m\u001b[0m\u001b[0m\n\u001b[1;32m     18\u001b[0m     \u001b[0;31m# Save their respective parameter on their temporary arrays.\u001b[0m\u001b[0;34m\u001b[0m\u001b[0;34m\u001b[0m\u001b[0;34m\u001b[0m\u001b[0m\n",
      "\u001b[0;32m~/anaconda3/lib/python3.7/site-packages/scipy/interpolate/polyint.py\u001b[0m in \u001b[0;36m__call__\u001b[0;34m(self, x)\u001b[0m\n\u001b[1;32m     77\u001b[0m         \"\"\"\n\u001b[1;32m     78\u001b[0m         \u001b[0mx\u001b[0m\u001b[0;34m,\u001b[0m \u001b[0mx_shape\u001b[0m \u001b[0;34m=\u001b[0m \u001b[0mself\u001b[0m\u001b[0;34m.\u001b[0m\u001b[0m_prepare_x\u001b[0m\u001b[0;34m(\u001b[0m\u001b[0mx\u001b[0m\u001b[0;34m)\u001b[0m\u001b[0;34m\u001b[0m\u001b[0;34m\u001b[0m\u001b[0m\n\u001b[0;32m---> 79\u001b[0;31m         \u001b[0my\u001b[0m \u001b[0;34m=\u001b[0m \u001b[0mself\u001b[0m\u001b[0;34m.\u001b[0m\u001b[0m_evaluate\u001b[0m\u001b[0;34m(\u001b[0m\u001b[0mx\u001b[0m\u001b[0;34m)\u001b[0m\u001b[0;34m\u001b[0m\u001b[0;34m\u001b[0m\u001b[0m\n\u001b[0m\u001b[1;32m     80\u001b[0m         \u001b[0;32mreturn\u001b[0m \u001b[0mself\u001b[0m\u001b[0;34m.\u001b[0m\u001b[0m_finish_y\u001b[0m\u001b[0;34m(\u001b[0m\u001b[0my\u001b[0m\u001b[0;34m,\u001b[0m \u001b[0mx_shape\u001b[0m\u001b[0;34m)\u001b[0m\u001b[0;34m\u001b[0m\u001b[0;34m\u001b[0m\u001b[0m\n\u001b[1;32m     81\u001b[0m \u001b[0;34m\u001b[0m\u001b[0m\n",
      "\u001b[0;32m~/anaconda3/lib/python3.7/site-packages/scipy/interpolate/interpolate.py\u001b[0m in \u001b[0;36m_evaluate\u001b[0;34m(self, x_new)\u001b[0m\n\u001b[1;32m    660\u001b[0m         \u001b[0;31m#    The behavior is set by the bounds_error variable.\u001b[0m\u001b[0;34m\u001b[0m\u001b[0;34m\u001b[0m\u001b[0;34m\u001b[0m\u001b[0m\n\u001b[1;32m    661\u001b[0m         \u001b[0mx_new\u001b[0m \u001b[0;34m=\u001b[0m \u001b[0masarray\u001b[0m\u001b[0;34m(\u001b[0m\u001b[0mx_new\u001b[0m\u001b[0;34m)\u001b[0m\u001b[0;34m\u001b[0m\u001b[0;34m\u001b[0m\u001b[0m\n\u001b[0;32m--> 662\u001b[0;31m         \u001b[0my_new\u001b[0m \u001b[0;34m=\u001b[0m \u001b[0mself\u001b[0m\u001b[0;34m.\u001b[0m\u001b[0m_call\u001b[0m\u001b[0;34m(\u001b[0m\u001b[0mself\u001b[0m\u001b[0;34m,\u001b[0m \u001b[0mx_new\u001b[0m\u001b[0;34m)\u001b[0m\u001b[0;34m\u001b[0m\u001b[0;34m\u001b[0m\u001b[0m\n\u001b[0m\u001b[1;32m    663\u001b[0m         \u001b[0;32mif\u001b[0m \u001b[0;32mnot\u001b[0m \u001b[0mself\u001b[0m\u001b[0;34m.\u001b[0m\u001b[0m_extrapolate\u001b[0m\u001b[0;34m:\u001b[0m\u001b[0;34m\u001b[0m\u001b[0;34m\u001b[0m\u001b[0m\n\u001b[1;32m    664\u001b[0m             \u001b[0mbelow_bounds\u001b[0m\u001b[0;34m,\u001b[0m \u001b[0mabove_bounds\u001b[0m \u001b[0;34m=\u001b[0m \u001b[0mself\u001b[0m\u001b[0;34m.\u001b[0m\u001b[0m_check_bounds\u001b[0m\u001b[0;34m(\u001b[0m\u001b[0mx_new\u001b[0m\u001b[0;34m)\u001b[0m\u001b[0;34m\u001b[0m\u001b[0;34m\u001b[0m\u001b[0m\n",
      "\u001b[0;32m~/anaconda3/lib/python3.7/site-packages/scipy/interpolate/interpolate.py\u001b[0m in \u001b[0;36m_call_linear_np\u001b[0;34m(self, x_new)\u001b[0m\n\u001b[1;32m    584\u001b[0m     \u001b[0;32mdef\u001b[0m \u001b[0m_call_linear_np\u001b[0m\u001b[0;34m(\u001b[0m\u001b[0mself\u001b[0m\u001b[0;34m,\u001b[0m \u001b[0mx_new\u001b[0m\u001b[0;34m)\u001b[0m\u001b[0;34m:\u001b[0m\u001b[0;34m\u001b[0m\u001b[0;34m\u001b[0m\u001b[0m\n\u001b[1;32m    585\u001b[0m         \u001b[0;31m# Note that out-of-bounds values are taken care of in self._evaluate\u001b[0m\u001b[0;34m\u001b[0m\u001b[0;34m\u001b[0m\u001b[0;34m\u001b[0m\u001b[0m\n\u001b[0;32m--> 586\u001b[0;31m         \u001b[0;32mreturn\u001b[0m \u001b[0mnp\u001b[0m\u001b[0;34m.\u001b[0m\u001b[0minterp\u001b[0m\u001b[0;34m(\u001b[0m\u001b[0mx_new\u001b[0m\u001b[0;34m,\u001b[0m \u001b[0mself\u001b[0m\u001b[0;34m.\u001b[0m\u001b[0mx\u001b[0m\u001b[0;34m,\u001b[0m \u001b[0mself\u001b[0m\u001b[0;34m.\u001b[0m\u001b[0my\u001b[0m\u001b[0;34m)\u001b[0m\u001b[0;34m\u001b[0m\u001b[0;34m\u001b[0m\u001b[0m\n\u001b[0m\u001b[1;32m    587\u001b[0m \u001b[0;34m\u001b[0m\u001b[0m\n\u001b[1;32m    588\u001b[0m     \u001b[0;32mdef\u001b[0m \u001b[0m_call_linear\u001b[0m\u001b[0;34m(\u001b[0m\u001b[0mself\u001b[0m\u001b[0;34m,\u001b[0m \u001b[0mx_new\u001b[0m\u001b[0;34m)\u001b[0m\u001b[0;34m:\u001b[0m\u001b[0;34m\u001b[0m\u001b[0;34m\u001b[0m\u001b[0m\n",
      "\u001b[0;32m~/anaconda3/lib/python3.7/site-packages/numpy/lib/function_base.py\u001b[0m in \u001b[0;36minterp\u001b[0;34m(x, xp, fp, left, right, period)\u001b[0m\n\u001b[1;32m   1410\u001b[0m         \u001b[0mfp\u001b[0m \u001b[0;34m=\u001b[0m \u001b[0mnp\u001b[0m\u001b[0;34m.\u001b[0m\u001b[0mconcatenate\u001b[0m\u001b[0;34m(\u001b[0m\u001b[0;34m(\u001b[0m\u001b[0mfp\u001b[0m\u001b[0;34m[\u001b[0m\u001b[0;34m-\u001b[0m\u001b[0;36m1\u001b[0m\u001b[0;34m:\u001b[0m\u001b[0;34m]\u001b[0m\u001b[0;34m,\u001b[0m \u001b[0mfp\u001b[0m\u001b[0;34m,\u001b[0m \u001b[0mfp\u001b[0m\u001b[0;34m[\u001b[0m\u001b[0;36m0\u001b[0m\u001b[0;34m:\u001b[0m\u001b[0;36m1\u001b[0m\u001b[0;34m]\u001b[0m\u001b[0;34m)\u001b[0m\u001b[0;34m)\u001b[0m\u001b[0;34m\u001b[0m\u001b[0;34m\u001b[0m\u001b[0m\n\u001b[1;32m   1411\u001b[0m \u001b[0;34m\u001b[0m\u001b[0m\n\u001b[0;32m-> 1412\u001b[0;31m     \u001b[0;32mreturn\u001b[0m \u001b[0minterp_func\u001b[0m\u001b[0;34m(\u001b[0m\u001b[0mx\u001b[0m\u001b[0;34m,\u001b[0m \u001b[0mxp\u001b[0m\u001b[0;34m,\u001b[0m \u001b[0mfp\u001b[0m\u001b[0;34m,\u001b[0m \u001b[0mleft\u001b[0m\u001b[0;34m,\u001b[0m \u001b[0mright\u001b[0m\u001b[0;34m)\u001b[0m\u001b[0;34m\u001b[0m\u001b[0;34m\u001b[0m\u001b[0m\n\u001b[0m\u001b[1;32m   1413\u001b[0m \u001b[0;34m\u001b[0m\u001b[0m\n\u001b[1;32m   1414\u001b[0m \u001b[0;34m\u001b[0m\u001b[0m\n",
      "\u001b[0;31mKeyboardInterrupt\u001b[0m: "
     ]
    }
   ],
   "source": [
    "for QQ in tqdm(MassBin1[:,0]) :\n",
    "\n",
    "    # New frame of reference (The Halo that was selected).\n",
    "\n",
    "    TemporaryFrameOfReference[:,0] = NewDMPBox[:,1] - (MassBin1[ID,1] + Radius)\n",
    "    TemporaryFrameOfReference[:,1] = NewDMPBox[:,2] - (MassBin1[ID,2] + Radius)\n",
    "    TemporaryFrameOfReference[:,2] = NewDMPBox[:,3] - (MassBin1[ID,3] + HalfHeight) + DistanceOfRS0dot3\n",
    "\n",
    "    # Filter 1: Index numbers for vertical range.\n",
    "    \n",
    "    IndexNumbers = np.where((TemporaryFrameOfReference[:,2] >= LowerMPCDistanceLimit) &\n",
    "                            (TemporaryFrameOfReference[:,2] <= UpperMPCDistanceLimit))[0]\n",
    "\n",
    "    # Interpolate those numbers.\n",
    "    \n",
    "    InterpolatedRS = MPCtoRSInterpolation(TemporaryFrameOfReference[IndexNumbers,2])\n",
    "    \n",
    "    # Save their respective parameter on their temporary arrays.\n",
    "    \n",
    "    TemporaryMasses = NewDMPBox[IndexNumbers,0]\n",
    "    TemporaryRedshifts = InterpolatedRS + (NewDMPBox[IndexNumbers,6]/const.c.value)*(1/(1+InterpolatedRS))\n",
    "    TemporaryAngles = np.arctan(np.sqrt(TemporaryFrameOfReference[IndexNumbers,0]**2 + TemporaryFrameOfReference[IndexNumbers,1]**2)/TemporaryFrameOfReference[IndexNumbers,2])\n",
    "    \n",
    "    # Filter 2: Index numbers angles.\n",
    "    \n",
    "    IndexNumbers = np.where(TemporaryAngles <= AngleAt0dot3RS)[0]\n",
    "    \n",
    "    # Save their respective parameter on their final arrays.\n",
    "    \n",
    "    DMPBoxMassesAll = np.append(DMPBoxMassesAll, TemporaryMasses[IndexNumbers])\n",
    "    DMPBoxRedshiftsAll = np.append(DMPBoxRedshiftsAll, TemporaryRedshifts[IndexNumbers])    \n",
    "    DMPBoxAnglesAll = np.append(DMPBoxAnglesAll, TemporaryAngles[IndexNumbers])\n",
    "    \n",
    "    # Calculate the Halo's redshift (currente iteration Halo).\n",
    "    \n",
    "    HaloTotalRedshift = (MassBin1[ID,6]/const.c.value)*(1/(1+0.3)) + 0.3\n",
    "                        \n",
    "    # Save the (filtered) DMP velocities\n",
    "                         \n",
    "    FinalVelocities = np.append(FinalVelocities, const.c.value*(TemporaryRedshifts[IndexNumbers]-HaloTotalRedshift)/((1+HaloTotalRedshift)*1000))   \n",
    "    \n",
    "    ID = ID + 1"
   ]
  },
  {
   "cell_type": "code",
   "execution_count": null,
   "metadata": {},
   "outputs": [],
   "source": [
    "print(CheckingEverythingIsAlright)"
   ]
  },
  {
   "cell_type": "code",
   "execution_count": null,
   "metadata": {},
   "outputs": [],
   "source": [
    "np.size(FinalVelocities)"
   ]
  },
  {
   "cell_type": "code",
   "execution_count": null,
   "metadata": {},
   "outputs": [],
   "source": [
    "#np.savetxt(\"/home/benardorci/SimulationData/MassBin#HistogramsDS1000Height###.txt\",FinalVelocities,fmt='%s')"
   ]
  },
  {
   "cell_type": "code",
   "execution_count": null,
   "metadata": {},
   "outputs": [],
   "source": [
    "#plt.hist(FinalVelocities, bins=100, histtype='bar', stacked=True)\n",
    "#plt.savefig(\"/Users/Roberto Benard Orci/Documents/UNI/Verano Investigacion/Simulation data/Many Histograms/MassBin#HistogramsDS1000.png\")"
   ]
  },
  {
   "cell_type": "code",
   "execution_count": null,
   "metadata": {},
   "outputs": [],
   "source": [
    "print(CheckingEverythingIsAlright)"
   ]
  },
  {
   "cell_type": "code",
   "execution_count": null,
   "metadata": {},
   "outputs": [],
   "source": [
    "#np.save(\"/home/benardorci/SimulationData/MassBin#HistogramsDS1000Height###.npy\",FinalVelocities)\n",
    "################################################################################################################\n",
    "#### np.save(\"/calvin1/benardorci/VelocityHistogramsFromRedshift/DS10000-MassBin1-Angle0dot3-Redshift.npy\",Cone)"
   ]
  },
  {
   "cell_type": "code",
   "execution_count": null,
   "metadata": {},
   "outputs": [],
   "source": [
    "plt.hist(DMPBoxRedshiftsAll, bins=100) #density=True\n",
    "plt.xlabel(\"Redshift\")\n",
    "plt.show()\n",
    "#plt.savefig(\"/home/benardorci/SimulationData/MassBin#HistogramsDS1000Height###.png\")\n",
    "################################################################################################################\n",
    "#### plt.savefig(\"/calvin1/benardorci/VelocityHistogramsFromRedshift/DS10000-MassBin1-Angle0dot3-Redshift.png\")"
   ]
  },
  {
   "cell_type": "code",
   "execution_count": null,
   "metadata": {},
   "outputs": [],
   "source": [
    "plt.hist(DMPBoxAnglesAll, bins=100) #density=True\n",
    "plt.xlabel(\"Angles (Radians)\")\n",
    "plt.show()"
   ]
  },
  {
   "cell_type": "code",
   "execution_count": null,
   "metadata": {},
   "outputs": [],
   "source": [
    "V = []\n",
    "\n",
    "for Vz, m in zip(FinalVelocities,DMPBoxMassesAll) :\n",
    "    if (-3000 <= Vz <= 3000) :\n",
    "        V.append([m,Vz])\n",
    "        \n",
    "V = np.array(V)\n",
    "\n",
    "################################################################################################################\n",
    "#### np.save(\"/calvin1/benardorci/VelocityHistogramsFromRedshift/DS10000-MassBin1-Angle0dot3-Velocity.npy\",Cone)"
   ]
  },
  {
   "cell_type": "code",
   "execution_count": null,
   "metadata": {},
   "outputs": [],
   "source": [
    "print(np.size(V))\n",
    "print(V[:,0].max())\n",
    "print(V[:,1].max())\n",
    "\n",
    "NewDMPBoxShell = np.array(NewDMPBoxShell)\n",
    "\n",
    "print(DMP[:,0].size)\n",
    "print(NewDMPBoxShell[:,0].size)"
   ]
  },
  {
   "cell_type": "code",
   "execution_count": null,
   "metadata": {
    "scrolled": false
   },
   "outputs": [],
   "source": [
    "plt.hist(V[:,1], bins=100)\n",
    "plt.xlabel(\"Velocities\")\n",
    "plt.show()\n",
    "################################################################################################################\n",
    "#### plt.savefig(\"/calvin1/benardorci/VelocityHistogramsFromRedshift/DS10000-MassBin1-Angle0dot3-Velocity.png\")"
   ]
  },
  {
   "cell_type": "code",
   "execution_count": null,
   "metadata": {
    "scrolled": false
   },
   "outputs": [],
   "source": [
    "plt.hist(FinalVelocities, bins=100)\n",
    "plt.show()"
   ]
  },
  {
   "cell_type": "code",
   "execution_count": null,
   "metadata": {},
   "outputs": [],
   "source": [
    "cosmo.angular_diameter_distance(0.3)"
   ]
  },
  {
   "cell_type": "code",
   "execution_count": null,
   "metadata": {},
   "outputs": [],
   "source": [
    "print(np.size(MassBin1[:,0]))\n",
    "#print(np.size(MassBin2[:,0]))\n",
    "#print(np.size(MassBin3[:,0]))\n",
    "#print(np.size(MassBin4[:,0]))\n",
    "#print(np.size(MassBin5[:,0]))\n",
    "#print(np.size(MassBin6[:,0]))"
   ]
  },
  {
   "cell_type": "code",
   "execution_count": null,
   "metadata": {},
   "outputs": [],
   "source": []
  }
 ],
 "metadata": {
  "kernelspec": {
   "display_name": "Python 3",
   "language": "python",
   "name": "python3"
  },
  "language_info": {
   "codemirror_mode": {
    "name": "ipython",
    "version": 3
   },
   "file_extension": ".py",
   "mimetype": "text/x-python",
   "name": "python",
   "nbconvert_exporter": "python",
   "pygments_lexer": "ipython3",
   "version": "3.7.3"
  }
 },
 "nbformat": 4,
 "nbformat_minor": 2
}
