{
 "cells": [
  {
   "cell_type": "code",
   "execution_count": 58,
   "metadata": {},
   "outputs": [],
   "source": [
    "from astropy.table import Table, Column\n",
    "import numpy as np\n",
    "import pandas as pd\n",
    "import matplotlib.pyplot as plt\n",
    "from matplotlib import colors\n",
    "import os\n",
    "import urllib.request\n",
    "import astropy.units as u\n",
    "from astropy.cosmology import z_at_value, FlatLambdaCDM\n",
    "from astropy import constants as const\n",
    "from scipy.interpolate import interp1d\n",
    "from tqdm import tqdm"
   ]
  },
  {
   "cell_type": "code",
   "execution_count": 59,
   "metadata": {},
   "outputs": [
    {
     "data": {
      "text/plain": [
       "'/home/benardorci/SimulationData'"
      ]
     },
     "execution_count": 59,
     "metadata": {},
     "output_type": "execute_result"
    }
   ],
   "source": [
    "os.chdir(\"/home/benardorci/SimulationData\")\n",
    "os.getcwd()"
   ]
  },
  {
   "cell_type": "code",
   "execution_count": 60,
   "metadata": {},
   "outputs": [],
   "source": [
    "Halos = np.load(\"/home/benardorci/SimulationData/halos.npy\")\n",
    "DMP = np.load(\"/home/benardorci/SimulationData/dm_cat_ds_10000.npy\")\n",
    "CheckingEverythingIsAlright = 117"
   ]
  },
  {
   "cell_type": "code",
   "execution_count": 61,
   "metadata": {},
   "outputs": [],
   "source": [
    "# MassBins, where:  \n",
    "\n",
    "MassBin1 = []    #         MB >= 1e15\n",
    "MassBin2 = []    # 5e14 <= MB <1e15\n",
    "MassBin3 = []    # 1e14 <= MB <5e14\n",
    "MassBin4 = []    # 5e13 <= MB <1e14\n",
    "MassBin5 = []    # 1e13 <= MB <5e13\n",
    "MassBin6 = []    #         MB < 1e13\n",
    "\n",
    "for m, x, y, z, Vx, Vy, Vz in zip(Halos[:,0], Halos[:,1], Halos[:,2], Halos[:,3], Halos[:,4], Halos[:,5], Halos[:,6]) :\n",
    "    if m >= 1.0*10**13.5 :\n",
    "        MassBin1.append([m, x, y, z, Vx, Vy, Vz])\n",
    "#    if m >= 1.0*10**15 :\n",
    " #       MassBin1.append([m, x, y, z, Vx, Vy, Vz])\n",
    "  #  elif m >= 5.0*10**14 :\n",
    "   #     MassBin2.append([m, x, y, z, Vx, Vy, Vz])\n",
    "    #elif m >= 1.0*10**14 :\n",
    "     #   MassBin3.append([m, x, y, z, Vx, Vy, Vz])\n",
    "#    elif m >= 5.0*10**13 :\n",
    " #       MassBin4.append([m, x, y, z, Vx, Vy, Vz])\n",
    "  #  elif m >= 1.0*10**13 :\n",
    "   #     MassBin5.append([m, x, y, z, Vx, Vy, Vz])\n",
    "    #else :\n",
    "     #   MassBin6.append([m, x, y, z, Vx, Vy, Vz])\n",
    "\n",
    "MassBin1 = np.array(MassBin1)\n",
    "MassBin2 = np.array(MassBin2)\n",
    "MassBin3 = np.array(MassBin3)\n",
    "MassBin4 = np.array(MassBin4)\n",
    "MassBin5 = np.array(MassBin5)\n",
    "MassBin6 = np.array(MassBin6)"
   ]
  },
  {
   "cell_type": "code",
   "execution_count": 62,
   "metadata": {},
   "outputs": [],
   "source": [
    "#-----------------------------------------------------------------------------------------\n",
    "#\n",
    "# NewDMPBoxShell will not be complete is both the Radius and the HalfHeight parameters are\n",
    "# bigger than 525.\n",
    "#\n",
    "#-----------------------------------------------------------------------------------------"
   ]
  },
  {
   "cell_type": "code",
   "execution_count": 63,
   "metadata": {},
   "outputs": [],
   "source": [
    "Radius = 10\n",
    "HalfHeight = 525\n",
    "\n",
    "NewDMPBoxShell = []\n",
    "\n",
    "for m, x, y, z, Vx, Vy, Vz in zip(DMP[:,0], DMP[:,1], DMP[:,2], DMP[:,3], DMP[:,4], DMP[:,5], DMP[:,6]) :\n",
    "    if  x < Radius :\n",
    "        if y < Radius :\n",
    "            if z < HalfHeight :\n",
    "                NewDMPBoxShell.append([m, x+1050+Radius, y+1050+Radius, z+1050+HalfHeight, Vx, Vy, Vz]) #PUNTO\n",
    "            elif z > 1050-HalfHeight :\n",
    "                NewDMPBoxShell.append([m, x+1050+Radius, y+1050+Radius, z-1050+HalfHeight, Vx, Vy, Vz]) #PUNTO\n",
    "            \n",
    "        elif y > 1050-Radius :\n",
    "            if z < HalfHeight :\n",
    "                NewDMPBoxShell.append([m, x+1050+Radius, y-1050+Radius, z+1050+HalfHeight, Vx, Vy, Vz]) #PUNTO\n",
    "            elif z > 1050-HalfHeight :\n",
    "                NewDMPBoxShell.append([m, x+1050+Radius, y-1050+Radius, z-1050+HalfHeight, Vx, Vy, Vz]) #PUNTO\n",
    "            \n",
    "    elif  x > 1050-Radius :\n",
    "        if y < Radius :\n",
    "            if z < HalfHeight :\n",
    "                NewDMPBoxShell.append([m, x-1050+Radius, y+1050+Radius, z+1050+HalfHeight, Vx, Vy, Vz]) #PUNTO\n",
    "            elif z > 1050-HalfHeight :\n",
    "                NewDMPBoxShell.append([m, x-1050+Radius, y+1050+Radius, z-1050+HalfHeight, Vx, Vy, Vz]) #PUNTO\n",
    "            \n",
    "        elif y > 1050-Radius :\n",
    "            if z < HalfHeight :\n",
    "                NewDMPBoxShell.append([m, x-1050+Radius, y-1050+Radius, z+1050+HalfHeight, Vx, Vy, Vz]) #PUNTO\n",
    "            elif z > 1050-HalfHeight :\n",
    "                NewDMPBoxShell.append([m, x-1050+Radius, y-1050+Radius, z-1050+HalfHeight, Vx, Vy, Vz]) #PUNTO"
   ]
  },
  {
   "cell_type": "code",
   "execution_count": 64,
   "metadata": {},
   "outputs": [],
   "source": [
    "for m, x, y, z, Vx, Vy, Vz in zip(DMP[:,0], DMP[:,1], DMP[:,2], DMP[:,3], DMP[:,4], DMP[:,5], DMP[:,6]) :\n",
    "    if  x < Radius :\n",
    "        if y < Radius :    \n",
    "            NewDMPBoxShell.append([m, x+1050+Radius, y+1050+Radius, z+HalfHeight, Vx, Vy, Vz]) #ARISTA        \n",
    "        elif y > 1050-Radius :    \n",
    "            NewDMPBoxShell.append([m, x+1050+Radius, y-1050+Radius, z+HalfHeight, Vx, Vy, Vz]) #ARISTA\n",
    "\n",
    "    elif  x > 1050-Radius :\n",
    "        if y < Radius :    \n",
    "            NewDMPBoxShell.append([m, x-1050+Radius, y+1050+Radius, z+HalfHeight, Vx, Vy, Vz]) #ARISTA     \n",
    "        elif y > 1050-Radius :    \n",
    "            NewDMPBoxShell.append([m, x-1050+Radius, y-1050+Radius, z+HalfHeight, Vx, Vy, Vz]) #ARISTA"
   ]
  },
  {
   "cell_type": "code",
   "execution_count": 65,
   "metadata": {},
   "outputs": [],
   "source": [
    "for m, x, y, z, Vx, Vy, Vz in zip(DMP[:,0], DMP[:,1], DMP[:,2], DMP[:,3], DMP[:,4], DMP[:,5], DMP[:,6]) :\n",
    "    if y < Radius :\n",
    "        if z < HalfHeight :\n",
    "            NewDMPBoxShell.append([m, x+Radius, y+1050+Radius, z+1050+HalfHeight, Vx, Vy, Vz]) #ARISTA\n",
    "        elif z > 1050-HalfHeight :\n",
    "            NewDMPBoxShell.append([m, x+Radius, y+1050+Radius, z-1050+HalfHeight, Vx, Vy, Vz]) #ARISTA\n",
    "        \n",
    "    elif y > 1050-Radius :\n",
    "        if z < HalfHeight :\n",
    "            NewDMPBoxShell.append([m, x+Radius, y-1050+Radius, z+1050+HalfHeight, Vx, Vy, Vz]) #ARISTA\n",
    "        elif z > 1050-HalfHeight :\n",
    "            NewDMPBoxShell.append([m, x+Radius, y-1050+Radius, z-1050+HalfHeight, Vx, Vy, Vz]) #ARISTA"
   ]
  },
  {
   "cell_type": "code",
   "execution_count": 66,
   "metadata": {},
   "outputs": [],
   "source": [
    "for m, x, y, z, Vx, Vy, Vz in zip(DMP[:,0], DMP[:,1], DMP[:,2], DMP[:,3], DMP[:,4], DMP[:,5], DMP[:,6]) :\n",
    "    if  x < Radius :                \n",
    "        if z < HalfHeight :\n",
    "            NewDMPBoxShell.append([m, x+1050+Radius, y+Radius, z+1050+HalfHeight, Vx, Vy, Vz]) #ARISTA\n",
    "        elif z > 1050-HalfHeight :\n",
    "            NewDMPBoxShell.append([m, x+1050+Radius, y+Radius, z-1050+HalfHeight, Vx, Vy, Vz]) #ARISTA\n",
    "\n",
    "    elif  x > 1050-Radius :\n",
    "        if z < HalfHeight :\n",
    "            NewDMPBoxShell.append([m, x-1050+Radius, y+Radius, z+1050+HalfHeight, Vx, Vy, Vz]) #ARISTA\n",
    "        elif z > 1050-HalfHeight :\n",
    "            NewDMPBoxShell.append([m, x-1050+Radius, y+Radius, z-1050+HalfHeight, Vx, Vy, Vz]) #ARISTA"
   ]
  },
  {
   "cell_type": "code",
   "execution_count": 67,
   "metadata": {},
   "outputs": [],
   "source": [
    "for m, x, y, z, Vx, Vy, Vz in zip(DMP[:,0], DMP[:,1], DMP[:,2], DMP[:,3], DMP[:,4], DMP[:,5], DMP[:,6]) :\n",
    "    if  x < Radius :\n",
    "        NewDMPBoxShell.append([m, x+1050+Radius, y+Radius, z+HalfHeight, Vx, Vy, Vz]) #CARA\n",
    "            \n",
    "    elif  x > 1050-Radius :\n",
    "        NewDMPBoxShell.append([m, x-1050+Radius, y+Radius, z+HalfHeight, Vx, Vy, Vz]) #CARA"
   ]
  },
  {
   "cell_type": "code",
   "execution_count": 68,
   "metadata": {},
   "outputs": [],
   "source": [
    "for m, x, y, z, Vx, Vy, Vz in zip(DMP[:,0], DMP[:,1], DMP[:,2], DMP[:,3], DMP[:,4], DMP[:,5], DMP[:,6]) :\n",
    "    if y < Radius :\n",
    "        NewDMPBoxShell.append([m, x+Radius, y+1050+Radius, z+HalfHeight, Vx, Vy, Vz]) #CARA\n",
    "        \n",
    "    elif y > 1050-Radius :\n",
    "        NewDMPBoxShell.append([m, x+Radius, y-1050+Radius, z+HalfHeight, Vx, Vy, Vz]) #CARA"
   ]
  },
  {
   "cell_type": "code",
   "execution_count": 69,
   "metadata": {},
   "outputs": [],
   "source": [
    "for m, x, y, z, Vx, Vy, Vz in zip(DMP[:,0], DMP[:,1], DMP[:,2], DMP[:,3], DMP[:,4], DMP[:,5], DMP[:,6]) :\n",
    "    if z < HalfHeight :\n",
    "        NewDMPBoxShell.append([m, x+Radius, y+Radius, z+1050+HalfHeight, Vx, Vy, Vz]) #CARA             \n",
    "                  \n",
    "    elif z > 1050-HalfHeight :\n",
    "        NewDMPBoxShell.append([m, x+Radius, y+Radius, z-1050+HalfHeight, Vx, Vy, Vz]) #CARA"
   ]
  },
  {
   "cell_type": "code",
   "execution_count": 70,
   "metadata": {},
   "outputs": [],
   "source": [
    "DMP[:,1] = DMP[:,1] + Radius \n",
    "DMP[:,2] = DMP[:,2] + Radius \n",
    "DMP[:,3] = DMP[:,3] + HalfHeight"
   ]
  },
  {
   "cell_type": "code",
   "execution_count": 71,
   "metadata": {},
   "outputs": [
    {
     "name": "stdout",
     "output_type": "stream",
     "text": [
      "117\n"
     ]
    }
   ],
   "source": [
    "print(CheckingEverythingIsAlright)"
   ]
  },
  {
   "cell_type": "code",
   "execution_count": 72,
   "metadata": {},
   "outputs": [],
   "source": [
    "NewDMPBox = np.concatenate((DMP, NewDMPBoxShell))"
   ]
  },
  {
   "cell_type": "code",
   "execution_count": 73,
   "metadata": {},
   "outputs": [
    {
     "name": "stdout",
     "output_type": "stream",
     "text": [
      "117\n"
     ]
    }
   ],
   "source": [
    "print(CheckingEverythingIsAlright)"
   ]
  },
  {
   "cell_type": "code",
   "execution_count": 74,
   "metadata": {},
   "outputs": [],
   "source": [
    "cosmo = FlatLambdaCDM(H0=70, Om0=0.3)\n",
    "\n",
    "DistanceOfRS0dot3 = cosmo.comoving_distance(0.3)\n",
    "DistanceOfRS0dot3 = DistanceOfRS0dot3.value\n",
    "\n",
    "# -------------------------------------- INTERPOLATION --------------------------------------\n",
    "\n",
    "MPCMin = z_at_value(cosmo.comoving_distance, 0.001*u.Mpc)\n",
    "MPCMax = z_at_value(cosmo.comoving_distance, 1800*u.Mpc) # ~1200 + 525 = 1725 < 1800 MPC\n",
    "RSgrid = np.linspace(MPCMin, MPCMax, 50000)\n",
    "MPCgrid = cosmo.comoving_distance(RSgrid)\n",
    "\n",
    "MPCtoRSInterpolation = interp1d(MPCgrid, RSgrid)   \n",
    "\n",
    "# -------------------------------------- INTERPOLATION --------------------------------------\n",
    "\n",
    "TemporaryFrameOfReference = np.zeros((np.size(NewDMPBox[:,3]),3))"
   ]
  },
  {
   "cell_type": "code",
   "execution_count": 75,
   "metadata": {},
   "outputs": [
    {
     "name": "stdout",
     "output_type": "stream",
     "text": [
      "117\n"
     ]
    }
   ],
   "source": [
    "print(CheckingEverythingIsAlright)"
   ]
  },
  {
   "cell_type": "code",
   "execution_count": 76,
   "metadata": {},
   "outputs": [],
   "source": [
    "ID = 0\n",
    "\n",
    "UpperMPCDistanceLimit = DistanceOfRS0dot3 + 525 # In this case, the size of the DMP box is 1050 MPC, so we are\n",
    "LowerMPCDistanceLimit = DistanceOfRS0dot3 - 525 # taking half of that upwards and downwards form the halo of \n",
    "\n",
    "TemporaryMasses = []\n",
    "TemporaryRedshifts = []\n",
    "TemporaryAngles = []\n",
    "\n",
    "AngleAt0dot3RS = np.radians(0.3)\n",
    "\n",
    "DMPBoxMassesAll = []\n",
    "DMPBoxRedshiftsAll = []\n",
    "DMPBoxAnglesAll = []\n",
    "\n",
    "FinalVelocities = []"
   ]
  },
  {
   "cell_type": "code",
   "execution_count": 77,
   "metadata": {},
   "outputs": [
    {
     "name": "stderr",
     "output_type": "stream",
     "text": [
      "100%|██████████| 264149/264149 [6:49:05<00:00,  7.59it/s]  \n"
     ]
    }
   ],
   "source": [
    "for QQ in tqdm(MassBin1[:,0]) :\n",
    "\n",
    "    # New frame of reference (The Halo that was selected).\n",
    "\n",
    "    TemporaryFrameOfReference[:,0] = NewDMPBox[:,1] - (MassBin1[ID,1] + Radius)\n",
    "    TemporaryFrameOfReference[:,1] = NewDMPBox[:,2] - (MassBin1[ID,2] + Radius)\n",
    "    TemporaryFrameOfReference[:,2] = NewDMPBox[:,3] - (MassBin1[ID,3] + HalfHeight) + DistanceOfRS0dot3\n",
    "\n",
    "    # Filter 1: Index numbers for vertical range.\n",
    "    \n",
    "    IndexNumbers = np.where((TemporaryFrameOfReference[:,2] >= LowerMPCDistanceLimit) &\n",
    "                            (TemporaryFrameOfReference[:,2] <= UpperMPCDistanceLimit))[0]\n",
    "\n",
    "    # Interpolate those numbers.\n",
    "    \n",
    "    InterpolatedRS = MPCtoRSInterpolation(TemporaryFrameOfReference[IndexNumbers,2])\n",
    "    \n",
    "    # Save their respective parameter on their temporary arrays.\n",
    "    \n",
    "    TemporaryMasses = NewDMPBox[IndexNumbers,0]\n",
    "    TemporaryRedshifts = InterpolatedRS + (NewDMPBox[IndexNumbers,6]/const.c.value)*(1/(1+InterpolatedRS))\n",
    "    TemporaryAngles = np.arctan(np.sqrt(TemporaryFrameOfReference[IndexNumbers,0]**2 + TemporaryFrameOfReference[IndexNumbers,1]**2)/TemporaryFrameOfReference[IndexNumbers,2])\n",
    "    \n",
    "    # Filter 2: Index numbers angles.\n",
    "    \n",
    "    IndexNumbers = np.where(TemporaryAngles <= AngleAt0dot3RS)[0]\n",
    "    \n",
    "    # Save their respective parameter on their final arrays.\n",
    "    \n",
    "    DMPBoxMassesAll = np.append(DMPBoxMassesAll, TemporaryMasses[IndexNumbers])\n",
    "    DMPBoxRedshiftsAll = np.append(DMPBoxRedshiftsAll, TemporaryRedshifts[IndexNumbers])    \n",
    "    DMPBoxAnglesAll = np.append(DMPBoxAnglesAll, TemporaryAngles[IndexNumbers])\n",
    "    \n",
    "    # Calculate the Halo's redshift (currente iteration Halo).\n",
    "    \n",
    "    HaloTotalRedshift = (MassBin1[ID,6]/const.c.value)*(1/(1+0.3)) + 0.3\n",
    "                        \n",
    "    # Save the (filtered) DMP velocities\n",
    "                         \n",
    "    FinalVelocities = np.append(FinalVelocities, const.c.value*(TemporaryRedshifts[IndexNumbers]-HaloTotalRedshift)/((1+HaloTotalRedshift)*1000))   \n",
    "    \n",
    "    ID = ID + 1"
   ]
  },
  {
   "cell_type": "code",
   "execution_count": 78,
   "metadata": {},
   "outputs": [
    {
     "name": "stdout",
     "output_type": "stream",
     "text": [
      "117\n"
     ]
    }
   ],
   "source": [
    "print(CheckingEverythingIsAlright)"
   ]
  },
  {
   "cell_type": "code",
   "execution_count": 79,
   "metadata": {},
   "outputs": [
    {
     "data": {
      "text/plain": [
       "9018612"
      ]
     },
     "execution_count": 79,
     "metadata": {},
     "output_type": "execute_result"
    }
   ],
   "source": [
    "np.size(FinalVelocities)"
   ]
  },
  {
   "cell_type": "code",
   "execution_count": 80,
   "metadata": {},
   "outputs": [],
   "source": [
    "#np.savetxt(\"/home/benardorci/SimulationData/MassBin#HistogramsDS1000Height###.txt\",FinalVelocities,fmt='%s')"
   ]
  },
  {
   "cell_type": "code",
   "execution_count": 81,
   "metadata": {},
   "outputs": [],
   "source": [
    "#plt.hist(FinalVelocities, bins=100, histtype='bar', stacked=True)\n",
    "#plt.savefig(\"/Users/Roberto Benard Orci/Documents/UNI/Verano Investigacion/Simulation data/Many Histograms/MassBin#HistogramsDS1000.png\")"
   ]
  },
  {
   "cell_type": "code",
   "execution_count": 82,
   "metadata": {},
   "outputs": [
    {
     "name": "stdout",
     "output_type": "stream",
     "text": [
      "117\n"
     ]
    }
   ],
   "source": [
    "print(CheckingEverythingIsAlright)"
   ]
  },
  {
   "cell_type": "code",
   "execution_count": 83,
   "metadata": {},
   "outputs": [],
   "source": [
    "#np.save(\"/home/benardorci/SimulationData/MassBin#HistogramsDS1000Height###.npy\",FinalVelocities)\n",
    "################################################################################################################\n",
    "np.save(\"/calvin1/benardorci/VelocityHistogramsFromRedshift/DS10000-MassBin13.5-Redshift.npy\",DMPBoxRedshiftsAll)\n",
    "np.save(\"/calvin1/benardorci/VelocityHistogramsFromRedshift/DS10000-MassBin13.5-Angle.npy\",DMPBoxAnglesAll)\n",
    "np.save(\"/calvin1/benardorci/VelocityHistogramsFromRedshift/DS10000-MassBin13.5-Mass.npy\",DMPBoxMassesAll)\n",
    "np.save(\"/calvin1/benardorci/VelocityHistogramsFromRedshift/DS10000-MassBin13.5-VelocitiesNotFiltered.npy\",FinalVelocities)"
   ]
  },
  {
   "cell_type": "code",
   "execution_count": 84,
   "metadata": {},
   "outputs": [
    {
     "data": {
      "image/png": "[encoded data removed]",
      "text/plain": [
       "<Figure size 432x288 with 1 Axes>"
      ]
     },
     "metadata": {
      "needs_background": "light"
     },
     "output_type": "display_data"
    },
    {
     "data": {
      "text/plain": [
       "<Figure size 432x288 with 0 Axes>"
      ]
     },
     "metadata": {},
     "output_type": "display_data"
    }
   ],
   "source": [
    "plt.hist(DMPBoxRedshiftsAll, bins=100) #density=True\n",
    "plt.xlabel(\"Redshift\")\n",
    "plt.show()\n",
    "#plt.savefig(\"/home/benardorci/SimulationData/MassBin#HistogramsDS1000Height###.png\")\n",
    "################################################################################################################\n",
    "plt.savefig(\"/calvin1/benardorci/VelocityHistogramsFromRedshift/DS10000-MassBin13.5-Redshift.png\")"
   ]
  },
  {
   "cell_type": "code",
   "execution_count": 85,
   "metadata": {},
   "outputs": [
    {
     "data": {
      "image/png": "[encoded data removed]",
      "text/plain": [
       "<Figure size 432x288 with 1 Axes>"
      ]
     },
     "metadata": {
      "needs_background": "light"
     },
     "output_type": "display_data"
    }
   ],
   "source": [
    "plt.hist(DMPBoxAnglesAll, bins=100) #density=True\n",
    "plt.xlabel(\"Angles (Radians)\")\n",
    "plt.show()"
   ]
  },
  {
   "cell_type": "code",
   "execution_count": 86,
   "metadata": {},
   "outputs": [],
   "source": [
    "V = []\n",
    "\n",
    "for Vz, m in zip(FinalVelocities,DMPBoxMassesAll) :\n",
    "    if (-3000 <= Vz <= 3000) :\n",
    "        V.append([m,Vz])\n",
    "        \n",
    "V = np.array(V)\n",
    "\n",
    "################################################################################################################\n",
    "np.save(\"/calvin1/benardorci/VelocityHistogramsFromRedshift/DS10000-MassBin13.5-Mass-VelocityFiltered.npy\",V)"
   ]
  },
  {
   "cell_type": "code",
   "execution_count": 87,
   "metadata": {},
   "outputs": [
    {
     "name": "stdout",
     "output_type": "stream",
     "text": [
      "2320026\n",
      "2743988554.0\n",
      "2999.989623624122\n",
      "274140\n",
      "295032\n"
     ]
    }
   ],
   "source": [
    "print(np.size(V))\n",
    "print(V[:,0].max())\n",
    "print(V[:,1].max())\n",
    "\n",
    "NewDMPBoxShell = np.array(NewDMPBoxShell)\n",
    "\n",
    "print(DMP[:,0].size)\n",
    "print(NewDMPBoxShell[:,0].size)"
   ]
  },
  {
   "cell_type": "code",
   "execution_count": 96,
   "metadata": {
    "scrolled": false
   },
   "outputs": [
    {
     "data": {
      "image/png": "[encoded data removed]",
      "text/plain": [
       "<Figure size 432x288 with 1 Axes>"
      ]
     },
     "metadata": {
      "needs_background": "light"
     },
     "output_type": "display_data"
    }
   ],
   "source": [
    "plt.hist(V[:,1], bins=110)\n",
    "plt.xlabel(\"Velocities\")\n",
    "plt.show()\n",
    "################################################################################################################\n",
    "#plt.savefig(\"/calvin1/benardorci/VelocityHistogramsFromRedshift/DS10000-MassBin13.5-Velocity-200bins.png\")"
   ]
  },
  {
   "cell_type": "code",
   "execution_count": 89,
   "metadata": {
    "scrolled": false
   },
   "outputs": [
    {
     "data": {
      "image/png": "[encoded data removed]",
      "text/plain": [
       "<Figure size 432x288 with 1 Axes>"
      ]
     },
     "metadata": {
      "needs_background": "light"
     },
     "output_type": "display_data"
    }
   ],
   "source": [
    "plt.hist(FinalVelocities, bins=100)\n",
    "plt.show()"
   ]
  },
  {
   "cell_type": "code",
   "execution_count": 90,
   "metadata": {},
   "outputs": [
    {
     "data": {
      "text/latex": [
       "$918.76682 \\; \\mathrm{Mpc}$"
      ],
      "text/plain": [
       "<Quantity 918.76682286 Mpc>"
      ]
     },
     "execution_count": 90,
     "metadata": {},
     "output_type": "execute_result"
    }
   ],
   "source": [
    "cosmo.angular_diameter_distance(0.3)"
   ]
  },
  {
   "cell_type": "code",
   "execution_count": 91,
   "metadata": {},
   "outputs": [
    {
     "name": "stdout",
     "output_type": "stream",
     "text": [
      "264149\n"
     ]
    }
   ],
   "source": [
    "print(np.size(MassBin1[:,0]))\n",
    "#print(np.size(MassBin2[:,0]))\n",
    "#print(np.size(MassBin3[:,0]))\n",
    "#print(np.size(MassBin4[:,0]))\n",
    "#print(np.size(MassBin5[:,0]))\n",
    "#print(np.size(MassBin6[:,0]))"
   ]
  },
  {
   "cell_type": "code",
   "execution_count": 92,
   "metadata": {
    "scrolled": true
   },
   "outputs": [
    {
     "data": {
      "image/png": "[encoded data removed]",
      "text/plain": [
       "<Figure size 432x288 with 1 Axes>"
      ]
     },
     "metadata": {
      "needs_background": "light"
     },
     "output_type": "display_data"
    }
   ],
   "source": [
    "\n",
    "fig = plt.figure()\n",
    "ax = fig.add_subplot(1,1,1)\n",
    "ax.set_yscale('log')\n",
    "ax.set_xscale('log')\n",
    "plt.plot(DMPBoxMassesAll, FinalVelocities,'ro')\n",
    "plt.show()\n",
    "\n"
   ]
  },
  {
   "cell_type": "code",
   "execution_count": null,
   "metadata": {},
   "outputs": [],
   "source": []
  }
 ],
 "metadata": {
  "kernelspec": {
   "display_name": "Python 3",
   "language": "python",
   "name": "python3"
  },
  "language_info": {
   "codemirror_mode": {
    "name": "ipython",
    "version": 3
   },
   "file_extension": ".py",
   "mimetype": "text/x-python",
   "name": "python",
   "nbconvert_exporter": "python",
   "pygments_lexer": "ipython3",
   "version": "3.7.3"
  }
 },
 "nbformat": 4,
 "nbformat_minor": 2
}
