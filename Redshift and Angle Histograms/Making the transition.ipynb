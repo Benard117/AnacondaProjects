{
 "cells": [
  {
   "cell_type": "code",
   "execution_count": 23,
   "metadata": {},
   "outputs": [],
   "source": [
    "from astropy.table import Table, Column\n",
    "import numpy as np\n",
    "import pandas as pd\n",
    "import matplotlib.pyplot as plt\n",
    "from matplotlib import colors\n",
    "import os\n",
    "import urllib.request\n",
    "import astropy.units as u\n",
    "from astropy.cosmology import z_at_value, FlatLambdaCDM\n",
    "from astropy import constants as const"
   ]
  },
  {
   "cell_type": "code",
   "execution_count": 2,
   "metadata": {},
   "outputs": [
    {
     "data": {
      "text/plain": [
       "'/home/benardorci/SimulationData'"
      ]
     },
     "execution_count": 2,
     "metadata": {},
     "output_type": "execute_result"
    }
   ],
   "source": [
    "os.chdir(\"/home/benardorci/SimulationData\")\n",
    "os.getcwd()"
   ]
  },
  {
   "cell_type": "code",
   "execution_count": 3,
   "metadata": {},
   "outputs": [],
   "source": [
    "Halos = np.load(\"/home/benardorci/SimulationData/halos.npy\")\n",
    "DMP = np.load(\"/home/benardorci/SimulationData/dm_cat_ds_100.npy\")\n",
    "CheckingEverythingIsAlright = 117"
   ]
  },
  {
   "cell_type": "code",
   "execution_count": 4,
   "metadata": {},
   "outputs": [],
   "source": [
    "# MassBins, where:  \n",
    "\n",
    "#\n",
    "#                                RETURN MASS BINS !!!!!!!!!!!!!!!!\n",
    "#\n",
    "\n",
    "#\n",
    "#                               NOT USED FOR SINGLE HALO !!!!!!!!!!!!!!!\n",
    "#"
   ]
  },
  {
   "cell_type": "code",
   "execution_count": 5,
   "metadata": {},
   "outputs": [
    {
     "name": "stdout",
     "output_type": "stream",
     "text": [
      "117\n"
     ]
    }
   ],
   "source": [
    "print(CheckingEverythingIsAlright)"
   ]
  },
  {
   "cell_type": "code",
   "execution_count": 6,
   "metadata": {},
   "outputs": [],
   "source": [
    "DMP = np.array(DMP)\n",
    "DMPCopy = DMP\n",
    "DMPCopy = np.array(DMPCopy)\n",
    "\n",
    "Radius = 1\n",
    "HalfHeight = 5\n",
    "\n",
    "DMP[:,1] = DMP[:,1] + Radius \n",
    "DMP[:,2] = DMP[:,2] + Radius \n",
    "DMP[:,3] = DMP[:,3] + HalfHeight\n",
    "\n",
    "NewDMPBoxShell = []\n",
    "\n",
    "for m, x, y, z, Vx, Vy, Vz in zip(DMPCopy[:,0], DMPCopy[:,1], DMPCopy[:,2], DMPCopy[:,3], DMPCopy[:,4], DMPCopy[:,5], DMPCopy[:,6]) :\n",
    "    if  x < Radius :\n",
    "        if y < Radius :\n",
    "            if z < HalfHeight :\n",
    "                NewDMPBoxShell.append([m, x+1050+Radius, y+1050+Radius, z+1050+HalfHeight, Vx, Vy, Vz]) #PUNTO\n",
    "            elif z > 1050-HalfHeight :\n",
    "                NewDMPBoxShell.append([m, x+1050+Radius, y+1050+Radius, z-1050+HalfHeight, Vx, Vy, Vz]) #PUNTO\n",
    "            else :    \n",
    "                NewDMPBoxShell.append([m, x+1050+Radius, y+1050+Radius, z+HalfHeight, Vx, Vy, Vz]) #ARISTA\n",
    "            \n",
    "        elif y > 1050-Radius :\n",
    "            if z < HalfHeight :\n",
    "                NewDMPBoxShell.append([m, x+1050+Radius, y-1050+Radius, z+1050+HalfHeight, Vx, Vy, Vz]) #PUNTO\n",
    "            elif z > 1050-HalfHeight :\n",
    "                NewDMPBoxShell.append([m, x+1050+Radius, y-1050+Radius, z-1050+HalfHeight, Vx, Vy, Vz]) #PUNTO\n",
    "            else :    \n",
    "                NewDMPBoxShell.append([m, x+1050+Radius, y-1050+Radius, z+HalfHeight, Vx, Vy, Vz]) #ARISTA\n",
    "                \n",
    "        elif z < HalfHeight :\n",
    "            NewDMPBoxShell.append([m, x+1050+Radius, y+Radius, z+1050+HalfHeight, Vx, Vy, Vz]) #ARISTA\n",
    "        elif z > 1050-HalfHeight :\n",
    "            NewDMPBoxShell.append([m, x+1050+Radius, y+Radius, z-1050+HalfHeight, Vx, Vy, Vz]) #ARISTA  \n",
    "            \n",
    "        else :\n",
    "            NewDMPBoxShell.append([m, x+1050+Radius, y+Radius, z+HalfHeight, Vx, Vy, Vz]) #CARA\n",
    "            \n",
    "    elif  x > 1050-Radius :\n",
    "        if y < Radius :\n",
    "            if z < HalfHeight :\n",
    "                NewDMPBoxShell.append([m, x-1050+Radius, y+1050+Radius, z+1050+HalfHeight, Vx, Vy, Vz]) #PUNTO\n",
    "            elif z > 1050-HalfHeight :\n",
    "                NewDMPBoxShell.append([m, x-1050+Radius, y+1050+Radius, z-1050+HalfHeight, Vx, Vy, Vz]) #PUNTO\n",
    "            else :    \n",
    "                NewDMPBoxShell.append([m, x-1050+Radius, y+1050+Radius, z+HalfHeight, Vx, Vy, Vz]) #ARISTA\n",
    "            \n",
    "        elif y > 1050-Radius :\n",
    "            if z < HalfHeight :\n",
    "                NewDMPBoxShell.append([m, x-1050+Radius, y-1050+Radius, z+1050+HalfHeight, Vx, Vy, Vz]) #PUNTO\n",
    "            elif z > 1050-HalfHeight :\n",
    "                NewDMPBoxShell.append([m, x-1050+Radius, y-1050+Radius, z-1050+HalfHeight, Vx, Vy, Vz]) #PUNTO\n",
    "            else :    \n",
    "                NewDMPBoxShell.append([m, x-1050+Radius, y-1050+Radius, z+HalfHeight, Vx, Vy, Vz]) #ARISTA\n",
    "                \n",
    "        elif z < HalfHeight :\n",
    "            NewDMPBoxShell.append([m, x-1050+Radius, y+Radius, z+1050+HalfHeight, Vx, Vy, Vz]) #ARISTA\n",
    "        elif z > 1050-HalfHeight :\n",
    "            NewDMPBoxShell.append([m, x-1050+Radius, y+Radius, z-1050+HalfHeight, Vx, Vy, Vz]) #ARISTA\n",
    "            \n",
    "        else :\n",
    "            NewDMPBoxShell.append([m, x-1050+Radius, y+Radius, z+HalfHeight, Vx, Vy, Vz]) #CARA\n",
    "        \n",
    "    elif y < Radius :\n",
    "        if z < HalfHeight :\n",
    "            NewDMPBoxShell.append([m, x+Radius, y+1050+Radius, z+1050+HalfHeight, Vx, Vy, Vz]) #ARISTA\n",
    "        elif z > 1050-HalfHeight :\n",
    "            NewDMPBoxShell.append([m, x+Radius, y+1050+Radius, z-1050+HalfHeight, Vx, Vy, Vz]) #ARISTA\n",
    "        else :\n",
    "            NewDMPBoxShell.append([m, x+Radius, y+1050+Radius, z+HalfHeight, Vx, Vy, Vz]) #CARA\n",
    "        \n",
    "    elif y > 1050-Radius :\n",
    "        if z < HalfHeight :\n",
    "            NewDMPBoxShell.append([m, x+Radius, y-1050+Radius, z+1050+HalfHeight, Vx, Vy, Vz]) #ARISTA\n",
    "        elif z > 1050-HalfHeight :\n",
    "            NewDMPBoxShell.append([m, x+Radius, y-1050+Radius, z-1050+HalfHeight, Vx, Vy, Vz]) #ARISTA\n",
    "        else :\n",
    "            NewDMPBoxShell.append([m, x+Radius, y-1050+Radius, z+HalfHeight, Vx, Vy, Vz]) #CARA\n",
    "        \n",
    "    elif z < HalfHeight :\n",
    "        NewDMPBoxShell.append([m, x+Radius, y+Radius, z+1050+HalfHeight, Vx, Vy, Vz]) #CARA             \n",
    "                  \n",
    "    elif z > 1050-HalfHeight :\n",
    "        NewDMPBoxShell.append([m, x+Radius, y+Radius, z-1050+HalfHeight, Vx, Vy, Vz]) #CARA"
   ]
  },
  {
   "cell_type": "code",
   "execution_count": 7,
   "metadata": {},
   "outputs": [
    {
     "name": "stdout",
     "output_type": "stream",
     "text": [
      "117\n"
     ]
    }
   ],
   "source": [
    "print(CheckingEverythingIsAlright)"
   ]
  },
  {
   "cell_type": "code",
   "execution_count": 8,
   "metadata": {},
   "outputs": [],
   "source": [
    "NewDMPBox = np.concatenate((DMP, NewDMPBoxShell))"
   ]
  },
  {
   "cell_type": "code",
   "execution_count": 9,
   "metadata": {},
   "outputs": [
    {
     "name": "stdout",
     "output_type": "stream",
     "text": [
      "117\n"
     ]
    }
   ],
   "source": [
    "print(CheckingEverythingIsAlright)"
   ]
  },
  {
   "cell_type": "code",
   "execution_count": 10,
   "metadata": {},
   "outputs": [],
   "source": [
    "MostMassiveHalo = Halos[:,0].max()\n",
    "IDMostMassiveHalo = 0\n",
    "\n",
    "for x in Halos[:,0]:\n",
    "    if x == MostMassiveHalo:\n",
    "        break\n",
    "    IDMostMassiveHalo = IDMostMassiveHalo+1"
   ]
  },
  {
   "cell_type": "code",
   "execution_count": 36,
   "metadata": {},
   "outputs": [
    {
     "name": "stdout",
     "output_type": "stream",
     "text": [
      "1194.3968697152304 MPC\n"
     ]
    }
   ],
   "source": [
    "cosmo = FlatLambdaCDM(H0=70, Om0=0.3)\n",
    "\n",
    "DistanceOfRS0dot3=cosmo.comoving_distance(0.3)\n",
    "DistanceOfRS0dot3 = DistanceOfRS0dot3.value\n",
    "print(DistanceOfRS0dot3,\"MPC\")"
   ]
  },
  {
   "cell_type": "code",
   "execution_count": 42,
   "metadata": {},
   "outputs": [],
   "source": [
    "#Halos = np.array(Halos)\n",
    "#HalosMOVED = Halos\n",
    "#HalosMOVED = np.array(HalosMOVED)\n",
    "\n",
    "#HalosMOVED[:,1] = HalosMOVED[:,1] + Radius\n",
    "#HalosMOVED[:,2] = HalosMOVED[:,2] + Radius           # Usefull???/Should I delete it?\n",
    "#HalosMOVED[:,3] = HalosMOVED[:,3] + HalfHeight\n",
    "\n",
    "\n",
    "# New frame of reference (The Halo that was selected).\n",
    "\n",
    "NewDMPBox[:,1] = NewDMPBox[:,1] - (Halos[IDMostMassiveHalo,1] + Radius)\n",
    "NewDMPBox[:,2] = NewDMPBox[:,2] - (Halos[IDMostMassiveHalo,2] + Radius)\n",
    "NewDMPBox[:,3] = NewDMPBox[:,3] - (Halos[IDMostMassiveHalo,3] + HalfHeight) + DistanceOfRS0dot3\n",
    "\n",
    "# Redshift of the DMP.\n",
    "\n",
    "DMPBoxRSandA = np.zeros((np.size(NewDMPBox[:,3]),2))\n",
    "DMPBoxRSandA[:,0] = z_at_value(cosmo.comoving_distance, NewDMPBox[:,3].item()*u.Mpc)\n",
    "DMPBoxRSandA[:,0] = DMPBoxRSandA[:,0] + (NewDMPBox[:,6].item()/const.c)*(1/(1+DMPBoxRSandA[:,0].item()))\n",
    "\n",
    "# Angles of the DMP.\n",
    "\n",
    "DistanceSquared = NewDMPBox[:,1]**2 + NewDMPBox[:,2]**2 \n",
    "DMPBoxRSandA[:,1] = np.arctan(np.sqrt(DistanceSquared)/NewDMPBox[:,3])"
   ]
  },
  {
   "cell_type": "code",
   "execution_count": 11,
   "metadata": {},
   "outputs": [],
   "source": [
    "FinalVelocities = []\n",
    "                                                                         #\n",
    "                                                                         # CHANGE IF RADIUS IS CHANGED!!!\n",
    "IndexNumbers = np.array(np.where(2.5<=DMPBoxAandRS[:,0]<=3.5))           # here too c:                                       #\n",
    "\n",
    "for x in IndexNumbers[:,0] :\n",
    "    w = int(x)\n",
    "    Cylinder.append([Box[w,0], Box[w,1], Box[w,2], Box[w,3]])\n",
    "\n",
    "MBElementVelocity = Halos[IDMostMassiveHalo,6]\n",
    "\n",
    "Cylinder = np.array(Cylinder)\n",
    "        \n",
    "for x in Cylinder[:,3] :\n",
    "    FinalVelocities.append(x - MBElementVelocity)"
   ]
  },
  {
   "cell_type": "code",
   "execution_count": 12,
   "metadata": {},
   "outputs": [
    {
     "name": "stdout",
     "output_type": "stream",
     "text": [
      "117\n"
     ]
    }
   ],
   "source": [
    "print(CheckingEverythingIsAlright)"
   ]
  },
  {
   "cell_type": "code",
   "execution_count": 13,
   "metadata": {},
   "outputs": [
    {
     "data": {
      "text/plain": [
       "-3645.0551171875"
      ]
     },
     "execution_count": 13,
     "metadata": {},
     "output_type": "execute_result"
    }
   ],
   "source": [
    "FinalVelocities[1]"
   ]
  },
  {
   "cell_type": "code",
   "execution_count": 14,
   "metadata": {},
   "outputs": [
    {
     "data": {
      "text/plain": [
       "263"
      ]
     },
     "execution_count": 14,
     "metadata": {},
     "output_type": "execute_result"
    }
   ],
   "source": [
    "np.size(FinalVelocities)"
   ]
  },
  {
   "cell_type": "code",
   "execution_count": 15,
   "metadata": {},
   "outputs": [
    {
     "name": "stdout",
     "output_type": "stream",
     "text": [
      "117\n"
     ]
    }
   ],
   "source": [
    "print(CheckingEverythingIsAlright)"
   ]
  },
  {
   "cell_type": "code",
   "execution_count": 16,
   "metadata": {},
   "outputs": [],
   "source": [
    "#np.savetxt(\"/home/benardorci/SimulationData/MassBin#HistogramsDS1000Height###.txt\",FinalVelocities,fmt='%s')"
   ]
  },
  {
   "cell_type": "code",
   "execution_count": 17,
   "metadata": {},
   "outputs": [
    {
     "name": "stdout",
     "output_type": "stream",
     "text": [
      "117\n"
     ]
    }
   ],
   "source": [
    "print(CheckingEverythingIsAlright)"
   ]
  },
  {
   "cell_type": "code",
   "execution_count": 18,
   "metadata": {},
   "outputs": [],
   "source": [
    "#np.save(\"/home/benardorci/SimulationData/MassBin#HistogramsDS1000Height###.npy\",FinalVelocities)\n",
    "#np.save(\"/calvin1/benardorci/MassBin3HistogramsDS1000Height2Radius0dot5.npy\",FinalVelocities)"
   ]
  },
  {
   "cell_type": "code",
   "execution_count": 19,
   "metadata": {},
   "outputs": [
    {
     "name": "stdout",
     "output_type": "stream",
     "text": [
      "117\n"
     ]
    }
   ],
   "source": [
    "print(CheckingEverythingIsAlright)"
   ]
  },
  {
   "cell_type": "code",
   "execution_count": 20,
   "metadata": {},
   "outputs": [],
   "source": [
    "#plt.hist(FinalVelocities, bins=100, histtype='bar', stacked=True)\n",
    "#plt.savefig(\"/Users/Roberto Benard Orci/Documents/UNI/Verano Investigacion/Simulation data/Many Histograms/MassBin#HistogramsDS1000.png\")"
   ]
  },
  {
   "cell_type": "code",
   "execution_count": 21,
   "metadata": {},
   "outputs": [
    {
     "name": "stdout",
     "output_type": "stream",
     "text": [
      "117\n"
     ]
    }
   ],
   "source": [
    "print(CheckingEverythingIsAlright)"
   ]
  },
  {
   "cell_type": "code",
   "execution_count": 22,
   "metadata": {},
   "outputs": [
    {
     "data": {
      "text/plain": [
       "(array([ 4.,  3.,  4., 14.,  6., 16., 16., 20., 23., 26., 30., 25., 24.,\n",
       "        14.,  9., 12.,  6.,  5.,  3.,  3.]),\n",
       " array([-4114.93988281, -3682.7942041 , -3250.64852539, -2818.50284668,\n",
       "        -2386.35716797, -1954.21148926, -1522.06581055, -1089.92013184,\n",
       "         -657.77445312,  -225.62877441,   206.5169043 ,   638.66258301,\n",
       "         1070.80826172,  1502.95394043,  1935.09961914,  2367.24529785,\n",
       "         2799.39097656,  3231.53665527,  3663.68233398,  4095.8280127 ,\n",
       "         4527.97369141]),\n",
       " <a list of 20 Patch objects>)"
      ]
     },
     "execution_count": 22,
     "metadata": {},
     "output_type": "execute_result"
    },
    {
     "data": {
      "image/png": "[encoded data removed]",
      "text/plain": [
       "<Figure size 432x288 with 1 Axes>"
      ]
     },
     "metadata": {
      "needs_background": "light"
     },
     "output_type": "display_data"
    }
   ],
   "source": [
    "plt.hist(FinalVelocities, bins=20) #density=True\n",
    "#plt.savefig(\"/home/benardorci/SimulationData/MassBin#HistogramsDS1000Height###.png\")\n",
    "#plt.savefig(\"/calvin1/benardorci/MassBin3HistogramsDS1000Height2Radius0dot5.png\")"
   ]
  },
  {
   "cell_type": "code",
   "execution_count": null,
   "metadata": {},
   "outputs": [],
   "source": []
  }
 ],
 "metadata": {
  "kernelspec": {
   "display_name": "Python 3",
   "language": "python",
   "name": "python3"
  },
  "language_info": {
   "codemirror_mode": {
    "name": "ipython",
    "version": 3
   },
   "file_extension": ".py",
   "mimetype": "text/x-python",
   "name": "python",
   "nbconvert_exporter": "python",
   "pygments_lexer": "ipython3",
   "version": "3.7.3"
  }
 },
 "nbformat": 4,
 "nbformat_minor": 2
}
