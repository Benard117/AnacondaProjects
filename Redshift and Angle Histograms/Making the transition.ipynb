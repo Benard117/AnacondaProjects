{
 "cells": [
  {
   "cell_type": "code",
   "execution_count": 118,
   "metadata": {},
   "outputs": [],
   "source": [
    "from astropy.table import Table, Column\n",
    "import numpy as np\n",
    "import pandas as pd\n",
    "import matplotlib.pyplot as plt\n",
    "from matplotlib import colors\n",
    "import os\n",
    "import urllib.request\n",
    "import astropy.units as u\n",
    "from astropy.cosmology import z_at_value, FlatLambdaCDM\n",
    "from astropy import constants as const\n",
    "from scipy.interpolate import interp1d"
   ]
  },
  {
   "cell_type": "code",
   "execution_count": 119,
   "metadata": {},
   "outputs": [
    {
     "data": {
      "text/plain": [
       "'/home/benardorci/SimulationData'"
      ]
     },
     "execution_count": 119,
     "metadata": {},
     "output_type": "execute_result"
    }
   ],
   "source": [
    "os.chdir(\"/home/benardorci/SimulationData\")\n",
    "os.getcwd()"
   ]
  },
  {
   "cell_type": "code",
   "execution_count": 120,
   "metadata": {},
   "outputs": [],
   "source": [
    "Halos = np.load(\"/home/benardorci/SimulationData/halos.npy\")\n",
    "DMP = np.load(\"/home/benardorci/SimulationData/dm_cat_ds_100.npy\")\n",
    "CheckingEverythingIsAlright = 117"
   ]
  },
  {
   "cell_type": "code",
   "execution_count": 121,
   "metadata": {},
   "outputs": [],
   "source": [
    "# MassBins, where:  \n",
    "\n",
    "#\n",
    "#                                RETURN MASS BINS !!!!!!!!!!!!!!!!\n",
    "#\n",
    "\n",
    "#\n",
    "#                               NOT USED FOR SINGLE HALO !!!!!!!!!!!!!!!\n",
    "#"
   ]
  },
  {
   "cell_type": "code",
   "execution_count": 122,
   "metadata": {},
   "outputs": [],
   "source": [
    "DMP = np.array(DMP)\n",
    "DMPCopy = DMP.copy()\n",
    "\n",
    "Radius = 100\n",
    "HalfHeight = 500\n",
    "\n",
    "DMP[:,1] = DMP[:,1] + Radius \n",
    "DMP[:,2] = DMP[:,2] + Radius \n",
    "DMP[:,3] = DMP[:,3] + HalfHeight\n",
    "\n",
    "NewDMPBoxShell = []\n",
    "\n",
    "for m, x, y, z, Vx, Vy, Vz in zip(DMPCopy[:,0], DMPCopy[:,1], DMPCopy[:,2], DMPCopy[:,3], DMPCopy[:,4], DMPCopy[:,5], DMPCopy[:,6]) :\n",
    "    if  x < Radius :\n",
    "        if y < Radius :\n",
    "            if z < HalfHeight :\n",
    "                NewDMPBoxShell.append([m, x+1050+Radius, y+1050+Radius, z+1050+HalfHeight, Vx, Vy, Vz]) #PUNTO\n",
    "            elif z > 1050-HalfHeight :\n",
    "                NewDMPBoxShell.append([m, x+1050+Radius, y+1050+Radius, z-1050+HalfHeight, Vx, Vy, Vz]) #PUNTO\n",
    "            else :    \n",
    "                NewDMPBoxShell.append([m, x+1050+Radius, y+1050+Radius, z+HalfHeight, Vx, Vy, Vz]) #ARISTA\n",
    "            \n",
    "        elif y > 1050-Radius :\n",
    "            if z < HalfHeight :\n",
    "                NewDMPBoxShell.append([m, x+1050+Radius, y-1050+Radius, z+1050+HalfHeight, Vx, Vy, Vz]) #PUNTO\n",
    "            elif z > 1050-HalfHeight :\n",
    "                NewDMPBoxShell.append([m, x+1050+Radius, y-1050+Radius, z-1050+HalfHeight, Vx, Vy, Vz]) #PUNTO\n",
    "            else :    \n",
    "                NewDMPBoxShell.append([m, x+1050+Radius, y-1050+Radius, z+HalfHeight, Vx, Vy, Vz]) #ARISTA\n",
    "                \n",
    "        elif z < HalfHeight :\n",
    "            NewDMPBoxShell.append([m, x+1050+Radius, y+Radius, z+1050+HalfHeight, Vx, Vy, Vz]) #ARISTA\n",
    "        elif z > 1050-HalfHeight :\n",
    "            NewDMPBoxShell.append([m, x+1050+Radius, y+Radius, z-1050+HalfHeight, Vx, Vy, Vz]) #ARISTA  \n",
    "            \n",
    "        else :\n",
    "            NewDMPBoxShell.append([m, x+1050+Radius, y+Radius, z+HalfHeight, Vx, Vy, Vz]) #CARA\n",
    "            \n",
    "    elif  x > 1050-Radius :\n",
    "        if y < Radius :\n",
    "            if z < HalfHeight :\n",
    "                NewDMPBoxShell.append([m, x-1050+Radius, y+1050+Radius, z+1050+HalfHeight, Vx, Vy, Vz]) #PUNTO\n",
    "            elif z > 1050-HalfHeight :\n",
    "                NewDMPBoxShell.append([m, x-1050+Radius, y+1050+Radius, z-1050+HalfHeight, Vx, Vy, Vz]) #PUNTO\n",
    "            else :    \n",
    "                NewDMPBoxShell.append([m, x-1050+Radius, y+1050+Radius, z+HalfHeight, Vx, Vy, Vz]) #ARISTA\n",
    "            \n",
    "        elif y > 1050-Radius :\n",
    "            if z < HalfHeight :\n",
    "                NewDMPBoxShell.append([m, x-1050+Radius, y-1050+Radius, z+1050+HalfHeight, Vx, Vy, Vz]) #PUNTO\n",
    "            elif z > 1050-HalfHeight :\n",
    "                NewDMPBoxShell.append([m, x-1050+Radius, y-1050+Radius, z-1050+HalfHeight, Vx, Vy, Vz]) #PUNTO\n",
    "            else :    \n",
    "                NewDMPBoxShell.append([m, x-1050+Radius, y-1050+Radius, z+HalfHeight, Vx, Vy, Vz]) #ARISTA\n",
    "                \n",
    "        elif z < HalfHeight :\n",
    "            NewDMPBoxShell.append([m, x-1050+Radius, y+Radius, z+1050+HalfHeight, Vx, Vy, Vz]) #ARISTA\n",
    "        elif z > 1050-HalfHeight :\n",
    "            NewDMPBoxShell.append([m, x-1050+Radius, y+Radius, z-1050+HalfHeight, Vx, Vy, Vz]) #ARISTA\n",
    "            \n",
    "        else :\n",
    "            NewDMPBoxShell.append([m, x-1050+Radius, y+Radius, z+HalfHeight, Vx, Vy, Vz]) #CARA\n",
    "        \n",
    "    elif y < Radius :\n",
    "        if z < HalfHeight :\n",
    "            NewDMPBoxShell.append([m, x+Radius, y+1050+Radius, z+1050+HalfHeight, Vx, Vy, Vz]) #ARISTA\n",
    "        elif z > 1050-HalfHeight :\n",
    "            NewDMPBoxShell.append([m, x+Radius, y+1050+Radius, z-1050+HalfHeight, Vx, Vy, Vz]) #ARISTA\n",
    "        else :\n",
    "            NewDMPBoxShell.append([m, x+Radius, y+1050+Radius, z+HalfHeight, Vx, Vy, Vz]) #CARA\n",
    "        \n",
    "    elif y > 1050-Radius :\n",
    "        if z < HalfHeight :\n",
    "            NewDMPBoxShell.append([m, x+Radius, y-1050+Radius, z+1050+HalfHeight, Vx, Vy, Vz]) #ARISTA\n",
    "        elif z > 1050-HalfHeight :\n",
    "            NewDMPBoxShell.append([m, x+Radius, y-1050+Radius, z-1050+HalfHeight, Vx, Vy, Vz]) #ARISTA\n",
    "        else :\n",
    "            NewDMPBoxShell.append([m, x+Radius, y-1050+Radius, z+HalfHeight, Vx, Vy, Vz]) #CARA\n",
    "        \n",
    "    elif z < HalfHeight :\n",
    "        NewDMPBoxShell.append([m, x+Radius, y+Radius, z+1050+HalfHeight, Vx, Vy, Vz]) #CARA             \n",
    "                  \n",
    "    elif z > 1050-HalfHeight :\n",
    "        NewDMPBoxShell.append([m, x+Radius, y+Radius, z-1050+HalfHeight, Vx, Vy, Vz]) #CARA"
   ]
  },
  {
   "cell_type": "code",
   "execution_count": 123,
   "metadata": {},
   "outputs": [
    {
     "name": "stdout",
     "output_type": "stream",
     "text": [
      "117\n"
     ]
    }
   ],
   "source": [
    "print(CheckingEverythingIsAlright)"
   ]
  },
  {
   "cell_type": "code",
   "execution_count": 124,
   "metadata": {},
   "outputs": [],
   "source": [
    "NewDMPBox = np.concatenate((DMP, NewDMPBoxShell))"
   ]
  },
  {
   "cell_type": "code",
   "execution_count": 125,
   "metadata": {},
   "outputs": [
    {
     "name": "stdout",
     "output_type": "stream",
     "text": [
      "117\n"
     ]
    }
   ],
   "source": [
    "print(CheckingEverythingIsAlright)"
   ]
  },
  {
   "cell_type": "code",
   "execution_count": 163,
   "metadata": {},
   "outputs": [],
   "source": [
    "IDMostMassiveHalo = np.argmax(Halos[:,0])\n",
    "\n",
    "#np.argsor       orden de menor a mayor, ::-1 to reverse it"
   ]
  },
  {
   "cell_type": "code",
   "execution_count": 164,
   "metadata": {},
   "outputs": [
    {
     "name": "stdout",
     "output_type": "stream",
     "text": [
      "706836\n",
      "4506300000000000.0\n"
     ]
    }
   ],
   "source": [
    "print(IDMostMassiveHalo)\n",
    "print(MostMassiveHalo)"
   ]
  },
  {
   "cell_type": "code",
   "execution_count": 128,
   "metadata": {},
   "outputs": [
    {
     "name": "stdout",
     "output_type": "stream",
     "text": [
      "1194.3968697152304 MPC\n"
     ]
    }
   ],
   "source": [
    "cosmo = FlatLambdaCDM(H0=70, Om0=0.3)\n",
    "\n",
    "DistanceOfRS0dot3=cosmo.comoving_distance(0.3)\n",
    "DistanceOfRS0dot3 = DistanceOfRS0dot3.value\n",
    "print(DistanceOfRS0dot3,\"MPC\")"
   ]
  },
  {
   "cell_type": "code",
   "execution_count": 129,
   "metadata": {},
   "outputs": [],
   "source": [
    "#                             INTERPOLATION\n",
    "\n",
    "MPCMin = z_at_value(cosmo.comoving_distance, 0.001*u.Mpc)\n",
    "MPCMax = z_at_value(cosmo.comoving_distance, 3300*u.Mpc) # 1050 + 1200 + 1050, box + 0.3 RS + Shell (525 each side)\n",
    "RSgrid = np.linspace(MPCMin, MPCMax, 50000)\n",
    "MPCgrid = cosmo.comoving_distance(RSgrid)\n",
    "\n",
    "MPCtoRSInterpolation = interp1d(MPCgrid, RSgrid)                #scipy.interpolate.UnivariateSpline"
   ]
  },
  {
   "cell_type": "code",
   "execution_count": 130,
   "metadata": {},
   "outputs": [],
   "source": [
    "# New frame of reference (The Halo that was selected).\n",
    "\n",
    "NewDMPBox[:,1] = NewDMPBox[:,1] - (Halos[IDMostMassiveHalo,1] + Radius)\n",
    "NewDMPBox[:,2] = NewDMPBox[:,2] - (Halos[IDMostMassiveHalo,2] + Radius)\n",
    "NewDMPBox[:,3] = NewDMPBox[:,3] - (Halos[IDMostMassiveHalo,3] + HalfHeight) + DistanceOfRS0dot3\n",
    "\n",
    "# Redshift of the DMP.\n",
    "\n",
    "DMPBoxRSandA = np.zeros((np.size(NewDMPBox[:,3]),2))\n",
    "DMPBoxRSandA[:,0] = MPCtoRSInterpolation(NewDMPBox[:,3])\n",
    "DMPBoxRSandA[:,0] = DMPBoxRSandA[:,0] + (NewDMPBox[:,6]/const.c.value)*(1/(1+DMPBoxRSandA[:,0]))\n",
    "\n",
    "# Angles of the DMP.\n",
    "\n",
    "DistanceSquared = NewDMPBox[:,1]**2 + NewDMPBox[:,2]**2 \n",
    "DMPBoxRSandA[:,1] = np.arctan(np.sqrt(DistanceSquared)/NewDMPBox[:,3])\n",
    "\n",
    "# Distancesquared can be calculated in this line\n",
    "\n",
    "#look up arctan2"
   ]
  },
  {
   "cell_type": "code",
   "execution_count": 142,
   "metadata": {},
   "outputs": [],
   "source": [
    "Cylinder= []\n",
    "Radians = 3*np.pi/180\n",
    "\n",
    "for x,y in zip(DMPBoxRSandA[:,0], DMPBoxRSandA[:,1]) :\n",
    "    if (0.2 <= x <= 0.5 and y <= Radians) :\n",
    "        Cylinder.append([x, y])\n",
    "\n",
    "\n",
    "Cylinder = np.array(Cylinder)"
   ]
  },
  {
   "cell_type": "code",
   "execution_count": 143,
   "metadata": {},
   "outputs": [
    {
     "data": {
      "text/plain": [
       "array([0.27762682, 0.05012772])"
      ]
     },
     "execution_count": 143,
     "metadata": {},
     "output_type": "execute_result"
    }
   ],
   "source": [
    "Cylinder[0,:]"
   ]
  },
  {
   "cell_type": "code",
   "execution_count": 144,
   "metadata": {},
   "outputs": [
    {
     "data": {
      "text/plain": [
       "695136"
      ]
     },
     "execution_count": 144,
     "metadata": {},
     "output_type": "execute_result"
    }
   ],
   "source": [
    "np.size(Cylinder)"
   ]
  },
  {
   "cell_type": "code",
   "execution_count": 145,
   "metadata": {},
   "outputs": [],
   "source": [
    "#np.savetxt(\"/home/benardorci/SimulationData/MassBin#HistogramsDS1000Height###.txt\",FinalVelocities,fmt='%s')"
   ]
  },
  {
   "cell_type": "code",
   "execution_count": 146,
   "metadata": {},
   "outputs": [
    {
     "name": "stdout",
     "output_type": "stream",
     "text": [
      "117\n"
     ]
    }
   ],
   "source": [
    "print(CheckingEverythingIsAlright)"
   ]
  },
  {
   "cell_type": "code",
   "execution_count": 147,
   "metadata": {},
   "outputs": [],
   "source": [
    "#np.save(\"/home/benardorci/SimulationData/MassBin#HistogramsDS1000Height###.npy\",FinalVelocities)\n",
    "#np.save(\"/calvin1/benardorci/MassBin3HistogramsDS1000Height2Radius0dot5.npy\",FinalVelocities)"
   ]
  },
  {
   "cell_type": "code",
   "execution_count": 148,
   "metadata": {},
   "outputs": [
    {
     "name": "stdout",
     "output_type": "stream",
     "text": [
      "117\n"
     ]
    }
   ],
   "source": [
    "print(CheckingEverythingIsAlright)"
   ]
  },
  {
   "cell_type": "code",
   "execution_count": 149,
   "metadata": {},
   "outputs": [],
   "source": [
    "#plt.hist(FinalVelocities, bins=100, histtype='bar', stacked=True)\n",
    "#plt.savefig(\"/Users/Roberto Benard Orci/Documents/UNI/Verano Investigacion/Simulation data/Many Histograms/MassBin#HistogramsDS1000.png\")"
   ]
  },
  {
   "cell_type": "code",
   "execution_count": 150,
   "metadata": {},
   "outputs": [
    {
     "name": "stdout",
     "output_type": "stream",
     "text": [
      "117\n"
     ]
    }
   ],
   "source": [
    "print(CheckingEverythingIsAlright)"
   ]
  },
  {
   "cell_type": "code",
   "execution_count": 151,
   "metadata": {},
   "outputs": [
    {
     "data": {
      "text/plain": [
       "(array([  28.,   13.,   19.,   24.,   44.,   51.,   61.,   60.,  137.,\n",
       "         126.,   47.,  100.,   72.,   55.,  108., 1851., 3424., 3297.,\n",
       "        2683., 2732., 2946., 2591., 2411., 2638., 3023., 2657., 3261.,\n",
       "        3076., 2765., 2478., 3452., 3154., 3310., 5248., 4093., 2965.,\n",
       "        2393., 2258., 2708., 2896., 2655., 2397., 3118., 3464., 3509.,\n",
       "        4469., 2868., 2751., 4150., 3950., 3292., 3705., 3177., 3005.,\n",
       "        3158., 3305., 3791., 4233., 4376., 4342., 3637., 5111., 4996.,\n",
       "        6074., 5646., 4423., 3395., 3612., 3817., 4525., 4812., 4173.,\n",
       "        3571., 5306., 4314., 4868., 4730., 5606., 5346., 5495., 6099.,\n",
       "        4965., 5159., 4744., 4652., 3580., 3593., 4587., 5011., 5242.,\n",
       "        5462., 4857., 4553., 6948., 5841., 6157., 5648., 7629., 7310.,\n",
       "        7104.]),\n",
       " array([0.20004295, 0.20304252, 0.20604208, 0.20904165, 0.21204121,\n",
       "        0.21504077, 0.21804034, 0.2210399 , 0.22403946, 0.22703903,\n",
       "        0.23003859, 0.23303816, 0.23603772, 0.23903728, 0.24203685,\n",
       "        0.24503641, 0.24803597, 0.25103554, 0.2540351 , 0.25703466,\n",
       "        0.26003423, 0.26303379, 0.26603336, 0.26903292, 0.27203248,\n",
       "        0.27503205, 0.27803161, 0.28103117, 0.28403074, 0.2870303 ,\n",
       "        0.29002986, 0.29302943, 0.29602899, 0.29902856, 0.30202812,\n",
       "        0.30502768, 0.30802725, 0.31102681, 0.31402637, 0.31702594,\n",
       "        0.3200255 , 0.32302506, 0.32602463, 0.32902419, 0.33202376,\n",
       "        0.33502332, 0.33802288, 0.34102245, 0.34402201, 0.34702157,\n",
       "        0.35002114, 0.3530207 , 0.35602026, 0.35901983, 0.36201939,\n",
       "        0.36501896, 0.36801852, 0.37101808, 0.37401765, 0.37701721,\n",
       "        0.38001677, 0.38301634, 0.3860159 , 0.38901547, 0.39201503,\n",
       "        0.39501459, 0.39801416, 0.40101372, 0.40401328, 0.40701285,\n",
       "        0.41001241, 0.41301197, 0.41601154, 0.4190111 , 0.42201067,\n",
       "        0.42501023, 0.42800979, 0.43100936, 0.43400892, 0.43700848,\n",
       "        0.44000805, 0.44300761, 0.44600717, 0.44900674, 0.4520063 ,\n",
       "        0.45500587, 0.45800543, 0.46100499, 0.46400456, 0.46700412,\n",
       "        0.47000368, 0.47300325, 0.47600281, 0.47900237, 0.48200194,\n",
       "        0.4850015 , 0.48800107, 0.49100063, 0.49400019, 0.49699976,\n",
       "        0.49999932]),\n",
       " <a list of 100 Patch objects>)"
      ]
     },
     "execution_count": 151,
     "metadata": {},
     "output_type": "execute_result"
    },
    {
     "data": {
      "image/png": "[encoded data removed]",
      "text/plain": [
       "<Figure size 432x288 with 1 Axes>"
      ]
     },
     "metadata": {
      "needs_background": "light"
     },
     "output_type": "display_data"
    }
   ],
   "source": [
    "plt.hist(Cylinder[:,0], bins=100) #density=True\n",
    "#plt.savefig(\"/home/benardorci/SimulationData/MassBin#HistogramsDS1000Height###.png\")\n",
    "#plt.savefig(\"/calvin1/benardorci/MassBin3HistogramsDS1000Height2Radius0dot5.png\")"
   ]
  },
  {
   "cell_type": "code",
   "execution_count": 152,
   "metadata": {},
   "outputs": [
    {
     "data": {
      "text/plain": [
       "(array([ 374.,  454.,  501.,  681.,  981.,  882.,  910., 1141., 1205.,\n",
       "        1251., 1313., 1244., 1432., 1661., 1528., 1724., 1938., 1989.,\n",
       "        2441., 2543., 2561., 2705., 2504., 2381., 2668., 2528., 2573.,\n",
       "        2726., 2660., 2780., 2910., 3190., 3440., 3319., 3263., 3232.,\n",
       "        3213., 3309., 3347., 3313., 3275., 3487., 3620., 3843., 4225.,\n",
       "        3827., 3720., 3584., 3668., 3710., 3904., 3611., 3590., 3520.,\n",
       "        3698., 3601., 3689., 3927., 4249., 4453., 4119., 4038., 4104.,\n",
       "        3977., 4192., 4191., 4385., 4396., 4270., 4058., 4287., 4239.,\n",
       "        4294., 4092., 4094., 4070., 4340., 4201., 4229., 4135., 4462.,\n",
       "        4395., 4869., 4731., 4857., 4801., 5193., 5203., 5143., 4963.,\n",
       "        5099., 5267., 5397., 5901., 5945., 5490., 5607., 5688., 5569.,\n",
       "        5261.]),\n",
       " array([1.23279615e-05, 5.35803204e-04, 1.05927845e-03, 1.58275369e-03,\n",
       "        2.10622893e-03, 2.62970418e-03, 3.15317942e-03, 3.67665466e-03,\n",
       "        4.20012990e-03, 4.72360515e-03, 5.24708039e-03, 5.77055563e-03,\n",
       "        6.29403087e-03, 6.81750612e-03, 7.34098136e-03, 7.86445660e-03,\n",
       "        8.38793185e-03, 8.91140709e-03, 9.43488233e-03, 9.95835757e-03,\n",
       "        1.04818328e-02, 1.10053081e-02, 1.15287833e-02, 1.20522585e-02,\n",
       "        1.25757338e-02, 1.30992090e-02, 1.36226843e-02, 1.41461595e-02,\n",
       "        1.46696348e-02, 1.51931100e-02, 1.57165852e-02, 1.62400605e-02,\n",
       "        1.67635357e-02, 1.72870110e-02, 1.78104862e-02, 1.83339615e-02,\n",
       "        1.88574367e-02, 1.93809119e-02, 1.99043872e-02, 2.04278624e-02,\n",
       "        2.09513377e-02, 2.14748129e-02, 2.19982882e-02, 2.25217634e-02,\n",
       "        2.30452386e-02, 2.35687139e-02, 2.40921891e-02, 2.46156644e-02,\n",
       "        2.51391396e-02, 2.56626149e-02, 2.61860901e-02, 2.67095653e-02,\n",
       "        2.72330406e-02, 2.77565158e-02, 2.82799911e-02, 2.88034663e-02,\n",
       "        2.93269416e-02, 2.98504168e-02, 3.03738920e-02, 3.08973673e-02,\n",
       "        3.14208425e-02, 3.19443178e-02, 3.24677930e-02, 3.29912683e-02,\n",
       "        3.35147435e-02, 3.40382187e-02, 3.45616940e-02, 3.50851692e-02,\n",
       "        3.56086445e-02, 3.61321197e-02, 3.66555950e-02, 3.71790702e-02,\n",
       "        3.77025454e-02, 3.82260207e-02, 3.87494959e-02, 3.92729712e-02,\n",
       "        3.97964464e-02, 4.03199217e-02, 4.08433969e-02, 4.13668721e-02,\n",
       "        4.18903474e-02, 4.24138226e-02, 4.29372979e-02, 4.34607731e-02,\n",
       "        4.39842484e-02, 4.45077236e-02, 4.50311988e-02, 4.55546741e-02,\n",
       "        4.60781493e-02, 4.66016246e-02, 4.71250998e-02, 4.76485751e-02,\n",
       "        4.81720503e-02, 4.86955255e-02, 4.92190008e-02, 4.97424760e-02,\n",
       "        5.02659513e-02, 5.07894265e-02, 5.13129017e-02, 5.18363770e-02,\n",
       "        5.23598522e-02]),\n",
       " <a list of 100 Patch objects>)"
      ]
     },
     "execution_count": 152,
     "metadata": {},
     "output_type": "execute_result"
    },
    {
     "data": {
      "image/png": "[encoded data removed]",
      "text/plain": [
       "<Figure size 432x288 with 1 Axes>"
      ]
     },
     "metadata": {
      "needs_background": "light"
     },
     "output_type": "display_data"
    }
   ],
   "source": [
    "plt.hist(Cylinder[:,1], bins=100) #density=True"
   ]
  },
  {
   "cell_type": "code",
   "execution_count": 165,
   "metadata": {},
   "outputs": [],
   "source": [
    "FinalVelocitys = const.c.value*(DMPBoxRSandA[:,0]-0.3)/(1.3)"
   ]
  },
  {
   "cell_type": "code",
   "execution_count": 173,
   "metadata": {},
   "outputs": [],
   "source": [
    "V = []\n",
    "\n",
    "for x in FinalVelocitys :\n",
    "    if (-3000000 <= x <= 3000000) :\n",
    "        V.append(x)"
   ]
  },
  {
   "cell_type": "code",
   "execution_count": 174,
   "metadata": {},
   "outputs": [
    {
     "data": {
      "text/plain": [
       "(array([25585., 24547., 24649., 24164., 24969., 25137., 24690., 25070.,\n",
       "        24506., 24396., 25204., 25529., 25293., 24785., 24948., 25391.,\n",
       "        25423., 25421., 25605., 25399., 25104., 25380., 25700., 24922.,\n",
       "        24519., 24519., 25318., 25604., 24803., 24844., 24854., 23970.,\n",
       "        24355., 24782., 24812., 24218., 24320., 24999., 24693., 24149.,\n",
       "        24658., 24728., 24239., 24452., 24658., 24711., 25423., 25960.,\n",
       "        25755., 25101., 24872., 24205., 24267., 24051., 24102., 23290.,\n",
       "        23988., 23797., 23876., 24243., 24291., 23692., 24511., 24704.,\n",
       "        25105., 25024., 25940., 25867., 24895., 24516., 24762., 24100.,\n",
       "        24226., 25030., 25322., 25211., 24926., 25849., 25030., 24856.,\n",
       "        24728., 25508., 25747., 25049., 25005., 24228., 24223., 24505.,\n",
       "        24659., 24874., 24889., 24607., 25013., 26213., 25057., 24696.,\n",
       "        24526., 24358., 24577., 24996.]),\n",
       " array([-2.99999781e+06, -2.93999785e+06, -2.87999789e+06, -2.81999793e+06,\n",
       "        -2.75999797e+06, -2.69999801e+06, -2.63999805e+06, -2.57999808e+06,\n",
       "        -2.51999812e+06, -2.45999816e+06, -2.39999820e+06, -2.33999824e+06,\n",
       "        -2.27999828e+06, -2.21999832e+06, -2.15999836e+06, -2.09999840e+06,\n",
       "        -2.03999844e+06, -1.97999848e+06, -1.91999852e+06, -1.85999856e+06,\n",
       "        -1.79999860e+06, -1.73999864e+06, -1.67999868e+06, -1.61999872e+06,\n",
       "        -1.55999876e+06, -1.49999880e+06, -1.43999884e+06, -1.37999888e+06,\n",
       "        -1.31999892e+06, -1.25999896e+06, -1.19999900e+06, -1.13999904e+06,\n",
       "        -1.07999908e+06, -1.01999912e+06, -9.59999157e+05, -8.99999197e+05,\n",
       "        -8.39999237e+05, -7.79999276e+05, -7.19999316e+05, -6.59999356e+05,\n",
       "        -5.99999395e+05, -5.39999435e+05, -4.79999475e+05, -4.19999515e+05,\n",
       "        -3.59999554e+05, -2.99999594e+05, -2.39999634e+05, -1.79999673e+05,\n",
       "        -1.19999713e+05, -5.99997529e+04,  2.07355130e-01,  6.00001676e+04,\n",
       "         1.20000128e+05,  1.80000088e+05,  2.40000048e+05,  3.00000009e+05,\n",
       "         3.59999969e+05,  4.19999929e+05,  4.79999890e+05,  5.39999850e+05,\n",
       "         5.99999810e+05,  6.59999770e+05,  7.19999731e+05,  7.79999691e+05,\n",
       "         8.39999651e+05,  8.99999612e+05,  9.59999572e+05,  1.01999953e+06,\n",
       "         1.07999949e+06,  1.13999945e+06,  1.19999941e+06,  1.25999937e+06,\n",
       "         1.31999933e+06,  1.37999929e+06,  1.43999925e+06,  1.49999921e+06,\n",
       "         1.55999917e+06,  1.61999913e+06,  1.67999910e+06,  1.73999906e+06,\n",
       "         1.79999902e+06,  1.85999898e+06,  1.91999894e+06,  1.97999890e+06,\n",
       "         2.03999886e+06,  2.09999882e+06,  2.15999878e+06,  2.21999874e+06,\n",
       "         2.27999870e+06,  2.33999866e+06,  2.39999862e+06,  2.45999858e+06,\n",
       "         2.51999854e+06,  2.57999850e+06,  2.63999846e+06,  2.69999842e+06,\n",
       "         2.75999838e+06,  2.81999834e+06,  2.87999830e+06,  2.93999826e+06,\n",
       "         2.99999822e+06]),\n",
       " <a list of 100 Patch objects>)"
      ]
     },
     "execution_count": 174,
     "metadata": {},
     "output_type": "execute_result"
    },
    {
     "data": {
      "image/png": "[encoded data removed]",
      "text/plain": [
       "<Figure size 432x288 with 1 Axes>"
      ]
     },
     "metadata": {
      "needs_background": "light"
     },
     "output_type": "display_data"
    }
   ],
   "source": [
    "plt.hist(V, bins=100)"
   ]
  },
  {
   "cell_type": "code",
   "execution_count": 182,
   "metadata": {},
   "outputs": [
    {
     "data": {
      "text/plain": [
       "(16000000, 24000000)"
      ]
     },
     "execution_count": 182,
     "metadata": {},
     "output_type": "execute_result"
    },
    {
     "data": {
      "image/png": "[encoded data removed]",
      "text/plain": [
       "<Figure size 432x288 with 1 Axes>"
      ]
     },
     "metadata": {
      "needs_background": "light"
     },
     "output_type": "display_data"
    }
   ],
   "source": [
    "plt.hist(FinalVelocitys, bins=500)\n",
    "plt.xlim(16000000, 24000000)"
   ]
  },
  {
   "cell_type": "code",
   "execution_count": 177,
   "metadata": {},
   "outputs": [
    {
     "data": {
      "text/plain": [
       "(array([645083., 642802., 628234., 628343., 591815., 595935., 644085.,\n",
       "        615721., 606866., 594192., 584677., 608822., 593570., 596300.,\n",
       "        600493., 611494., 608643., 605498., 584784., 598722., 585982.,\n",
       "        573752., 589042., 596522., 587787., 591088., 587588., 587296.,\n",
       "        567095., 570652., 560607., 568612., 566680., 558475., 557624.,\n",
       "        544317., 562758., 556963., 560199., 561902., 561340., 556421.,\n",
       "        553315., 542484., 604466., 730263., 740191., 551390., 556119.,\n",
       "        542431., 539026., 525240., 502056., 510865., 551188., 526999.,\n",
       "        521973., 514117., 493965., 501089., 517863., 504136., 502712.,\n",
       "        508122., 513472., 515196., 513019., 510954., 496763., 499302.,\n",
       "        503184., 486183., 480757., 496153., 503353., 492974., 494776.,\n",
       "        489710., 494982., 488888., 472709., 480086., 468951., 465743.,\n",
       "        476703., 470063., 465839., 459272., 458295., 454155., 470250.,\n",
       "        460579., 459362., 466192., 463544., 465868., 454905., 455270.,\n",
       "        450149., 439718.]),\n",
       " array([-41949537.03778965, -40578639.451456  , -39207741.86512235,\n",
       "        -37836844.2787887 , -36465946.69245505, -35095049.1061214 ,\n",
       "        -33724151.51978774, -32353253.9334541 , -30982356.34712045,\n",
       "        -29611458.76078679, -28240561.17445314, -26869663.58811949,\n",
       "        -25498766.00178584, -24127868.41545219, -22756970.82911854,\n",
       "        -21386073.24278489, -20015175.65645124, -18644278.07011759,\n",
       "        -17273380.48378394, -15902482.89745029, -14531585.31111664,\n",
       "        -13160687.72478299, -11789790.13844934, -10418892.55211569,\n",
       "         -9047994.96578204,  -7677097.37944838,  -6306199.79311474,\n",
       "         -4935302.20678108,  -3564404.62044743,  -2193507.03411378,\n",
       "          -822609.44778013,    548288.13855352,   1919185.72488717,\n",
       "          3290083.31122082,   4660980.89755447,   6031878.48388812,\n",
       "          7402776.07022177,   8773673.65655542,  10144571.24288908,\n",
       "         11515468.82922272,  12886366.41555638,  14257264.00189003,\n",
       "         15628161.58822367,  16999059.17455733,  18369956.76089098,\n",
       "         19740854.34722463,  21111751.93355828,  22482649.51989193,\n",
       "         23853547.10622558,  25224444.69255923,  26595342.27889288,\n",
       "         27966239.86522653,  29337137.45156018,  30708035.03789384,\n",
       "         32078932.62422749,  33449830.21056113,  34820727.79689478,\n",
       "         36191625.38322843,  37562522.96956209,  38933420.55589574,\n",
       "         40304318.14222939,  41675215.72856303,  43046113.3148967 ,\n",
       "         44417010.90123034,  45787908.48756399,  47158806.07389764,\n",
       "         48529703.66023128,  49900601.24656495,  51271498.83289859,\n",
       "         52642396.41923224,  54013294.00556589,  55384191.59189955,\n",
       "         56755089.1782332 ,  58125986.76456685,  59496884.35090049,\n",
       "         60867781.93723414,  62238679.5235678 ,  63609577.10990145,\n",
       "         64980474.6962351 ,  66351372.28256875,  67722269.86890242,\n",
       "         69093167.45523605,  70464065.04156971,  71834962.62790334,\n",
       "         73205860.214237  ,  74576757.80057067,  75947655.3869043 ,\n",
       "         77318552.97323796,  78689450.5595716 ,  80060348.14590526,\n",
       "         81431245.73223892,  82802143.31857255,  84173040.90490621,\n",
       "         85543938.49123985,  86914836.07757351,  88285733.66390717,\n",
       "         89656631.2502408 ,  91027528.83657447,  92398426.42290813,\n",
       "         93769324.00924176,  95140221.5955754 ]),\n",
       " <a list of 100 Patch objects>)"
      ]
     },
     "execution_count": 177,
     "metadata": {},
     "output_type": "execute_result"
    },
    {
     "data": {
      "image/png": "[encoded data removed]",
      "text/plain": [
       "<Figure size 432x288 with 1 Axes>"
      ]
     },
     "metadata": {
      "needs_background": "light"
     },
     "output_type": "display_data"
    }
   ],
   "source": [
    "plt.hist(FinalVelocitys, bins=100)"
   ]
  },
  {
   "cell_type": "code",
   "execution_count": null,
   "metadata": {},
   "outputs": [],
   "source": []
  }
 ],
 "metadata": {
  "kernelspec": {
   "display_name": "Python 3",
   "language": "python",
   "name": "python3"
  },
  "language_info": {
   "codemirror_mode": {
    "name": "ipython",
    "version": 3
   },
   "file_extension": ".py",
   "mimetype": "text/x-python",
   "name": "python",
   "nbconvert_exporter": "python",
   "pygments_lexer": "ipython3",
   "version": "3.7.3"
  }
 },
 "nbformat": 4,
 "nbformat_minor": 2
}
