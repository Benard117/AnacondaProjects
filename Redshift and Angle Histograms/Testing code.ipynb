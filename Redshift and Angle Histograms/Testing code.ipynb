{
 "cells": [
  {
   "cell_type": "code",
   "execution_count": 125,
   "metadata": {},
   "outputs": [],
   "source": [
    "from astropy.table import Table, Column\n",
    "import numpy as np\n",
    "import pandas as pd\n",
    "import matplotlib.pyplot as plt\n",
    "from matplotlib import colors\n",
    "import os\n",
    "import urllib.request\n",
    "from scipy.interpolate import interp1d"
   ]
  },
  {
   "cell_type": "code",
   "execution_count": 126,
   "metadata": {},
   "outputs": [],
   "source": [
    "import astropy.units as u\n",
    "from astropy.cosmology import z_at_value, FlatLambdaCDM, Planck13"
   ]
  },
  {
   "cell_type": "code",
   "execution_count": 127,
   "metadata": {},
   "outputs": [
    {
     "data": {
      "text/plain": [
       "5000000.0"
      ]
     },
     "execution_count": 127,
     "metadata": {},
     "output_type": "execute_result"
    }
   ],
   "source": [
    "5e6"
   ]
  },
  {
   "cell_type": "code",
   "execution_count": 128,
   "metadata": {},
   "outputs": [
    {
     "name": "stdout",
     "output_type": "stream",
     "text": [
      "Step: 1\n"
     ]
    }
   ],
   "source": [
    "print(\"Step: 1\")"
   ]
  },
  {
   "cell_type": "code",
   "execution_count": 129,
   "metadata": {},
   "outputs": [],
   "source": [
    "# This will be the distance of the halo that you selected\n",
    "cosmo = FlatLambdaCDM(H0=70, Om0=0.3)\n",
    "DistanceOfRS0dot3=cosmo.comoving_distance(0.3)"
   ]
  },
  {
   "cell_type": "code",
   "execution_count": 130,
   "metadata": {},
   "outputs": [
    {
     "data": {
      "text/latex": [
       "$1194.3969 \\; \\mathrm{Mpc}$"
      ],
      "text/plain": [
       "<Quantity 1194.39686972 Mpc>"
      ]
     },
     "execution_count": 130,
     "metadata": {},
     "output_type": "execute_result"
    }
   ],
   "source": [
    "DistanceOfRS0dot3"
   ]
  },
  {
   "cell_type": "code",
   "execution_count": 131,
   "metadata": {},
   "outputs": [
    {
     "name": "stdout",
     "output_type": "stream",
     "text": [
      "Step: 2\n"
     ]
    }
   ],
   "source": [
    "print(\"Step: 2\")"
   ]
  },
  {
   "cell_type": "code",
   "execution_count": 132,
   "metadata": {},
   "outputs": [],
   "source": [
    "redshift = z_at_value(cosmo.comoving_distance, 5.0095024540353657*u.Mpc)"
   ]
  },
  {
   "cell_type": "code",
   "execution_count": 133,
   "metadata": {},
   "outputs": [
    {
     "name": "stdout",
     "output_type": "stream",
     "text": [
      "0.0011700000000002514\n"
     ]
    }
   ],
   "source": [
    "print(redshift)"
   ]
  },
  {
   "cell_type": "code",
   "execution_count": 134,
   "metadata": {},
   "outputs": [],
   "source": [
    "# Set this distance to the halo you selected and add (1194.3969 - OriginalDistance) to the rest of the halos"
   ]
  },
  {
   "cell_type": "code",
   "execution_count": 135,
   "metadata": {},
   "outputs": [],
   "source": [
    "# Preferable, do the ShellBox first, THEN change the distance to redshift"
   ]
  },
  {
   "cell_type": "code",
   "execution_count": 136,
   "metadata": {},
   "outputs": [
    {
     "name": "stdout",
     "output_type": "stream",
     "text": [
      "Step: 3\n"
     ]
    }
   ],
   "source": [
    "print(\"Step: 3\")"
   ]
  },
  {
   "cell_type": "code",
   "execution_count": 137,
   "metadata": {},
   "outputs": [],
   "source": [
    "# Add Doppler redshift to each particle\n",
    "\n",
    "# ζ d = (Vz/c)*(1/1+ζ cosmo)\n",
    "# Particle redshift  ζ p = ζ d + ζ cosmo\n",
    "\n",
    "# We divide the speed of the particle over C (check units) and we multiply by 1 over the sum of 1 plus the\n",
    "# redshift of the particle\n",
    "\n",
    "#Then we add this DOppler redshift to the other one (should be zero for the 0.3 redshift halo)"
   ]
  },
  {
   "cell_type": "code",
   "execution_count": 138,
   "metadata": {},
   "outputs": [],
   "source": [
    "from astropy import constants as const\n",
    "const.c\n",
    "Vz=2e8"
   ]
  },
  {
   "cell_type": "code",
   "execution_count": 139,
   "metadata": {},
   "outputs": [],
   "source": [
    "TotalRedshift = (Vz/const.c)*(1/(1+redshift))"
   ]
  },
  {
   "cell_type": "code",
   "execution_count": 140,
   "metadata": {},
   "outputs": [
    {
     "name": "stdout",
     "output_type": "stream",
     "text": [
      "0.6663485625780875 s / m\n"
     ]
    }
   ],
   "source": [
    "print(TotalRedshift)"
   ]
  },
  {
   "cell_type": "code",
   "execution_count": 141,
   "metadata": {},
   "outputs": [],
   "source": [
    "#\n",
    "#\n",
    "# Checar unidades de la variable \"Redshift\" y de \"Vz\" para que \"TotalRedshift\" tenga las unidades correctas. \n",
    "#\n",
    "#"
   ]
  },
  {
   "cell_type": "code",
   "execution_count": 142,
   "metadata": {},
   "outputs": [
    {
     "name": "stdout",
     "output_type": "stream",
     "text": [
      "Step: 4\n"
     ]
    }
   ],
   "source": [
    "print(\"Step: 4\")"
   ]
  },
  {
   "cell_type": "code",
   "execution_count": 143,
   "metadata": {},
   "outputs": [],
   "source": [
    "# Compute Δθ (Angular separation from halo) and Δ ζ = ζhalo - ζparticle."
   ]
  },
  {
   "cell_type": "code",
   "execution_count": 144,
   "metadata": {},
   "outputs": [],
   "source": [
    "#\n",
    "# se obtendran los angulos con Tan(θ)=CO/CA, donde el CA es la distancia del observador hasta la particula en el \n",
    "# eje Z, y CO es la distancia mas corta hasta el eje del observador, es decir sqrt(x^2 + y^2).\n",
    "#"
   ]
  },
  {
   "cell_type": "code",
   "execution_count": 145,
   "metadata": {},
   "outputs": [],
   "source": [
    "Halos = np.load(\"/home/benardorci/SimulationData/halos.npy\")\n",
    "DMP = np.load(\"/home/benardorci/SimulationData/dm_cat_ds_10000.npy\")"
   ]
  },
  {
   "cell_type": "code",
   "execution_count": 146,
   "metadata": {},
   "outputs": [
    {
     "data": {
      "text/plain": [
       "274140"
      ]
     },
     "execution_count": 146,
     "metadata": {},
     "output_type": "execute_result"
    }
   ],
   "source": [
    "np.size(DMP[:,0])"
   ]
  },
  {
   "cell_type": "code",
   "execution_count": 214,
   "metadata": {},
   "outputs": [
    {
     "name": "stdout",
     "output_type": "stream",
     "text": [
      "Interpolation\n"
     ]
    }
   ],
   "source": [
    "#\n",
    "#\n",
    "print(\"Interpolation\")\n",
    "#\n",
    "#"
   ]
  },
  {
   "cell_type": "code",
   "execution_count": 198,
   "metadata": {},
   "outputs": [],
   "source": [
    "x = np.linspace(0.0001, 2250, num=22500, endpoint=True)"
   ]
  },
  {
   "cell_type": "code",
   "execution_count": 199,
   "metadata": {},
   "outputs": [
    {
     "name": "stdout",
     "output_type": "stream",
     "text": [
      "[1.00000000e-04 1.00104440e-01 2.00108880e-01 ... 2.24979999e+03\n",
      " 2.24990000e+03 2.25000000e+03]\n"
     ]
    }
   ],
   "source": [
    "print(x)"
   ]
  },
  {
   "cell_type": "code",
   "execution_count": 200,
   "metadata": {},
   "outputs": [],
   "source": [
    "#import random\n",
    "#for x in range(10):\n",
    " #   print(random.randint(1,100))"
   ]
  },
  {
   "cell_type": "code",
   "execution_count": 201,
   "metadata": {},
   "outputs": [
    {
     "name": "stdout",
     "output_type": "stream",
     "text": [
      "2.3571964250003736e-08\n",
      "0.6142083115164456\n",
      "[2.35719643e-08 2.73229314e-05 5.46222908e-05 ... 6.14153713e-01\n",
      " 6.14181012e-01 6.14208312e-01]\n"
     ]
    }
   ],
   "source": [
    "yMin = z_at_value(cosmo.comoving_distance, x.min()*u.Mpc)\n",
    "yMax = z_at_value(cosmo.comoving_distance, x.max()*u.Mpc)\n",
    "#ygrid = np.logspace(np.log10(yMin), np.log10(yMax), 22500)\n",
    "ygrid = np.linspace(yMin, yMax, 22500)\n",
    "DDgrid = cosmo.comoving_distance(ygrid)\n",
    "\n",
    "#y1 = z_at_value(cosmo.comoving_distance, x.all()*u.Mpc, zmin=999)\n",
    "#y2 = z_at_value(cosmo.comoving_distance, x.all()*u.Mpc, zmax=5000)\n",
    "\n",
    "print(yMin)\n",
    "print(yMax)\n",
    "print(ygrid)"
   ]
  },
  {
   "cell_type": "code",
   "execution_count": 202,
   "metadata": {},
   "outputs": [
    {
     "data": {
      "text/plain": [
       "0.2988035309568695"
      ]
     },
     "execution_count": 202,
     "metadata": {},
     "output_type": "execute_result"
    }
   ],
   "source": [
    "z_at_value(cosmo.comoving_distance, 1190*u.Mpc)"
   ]
  },
  {
   "cell_type": "code",
   "execution_count": 203,
   "metadata": {},
   "outputs": [
    {
     "data": {
      "image/png": "[encoded data removed]",
      "text/plain": [
       "<Figure size 432x288 with 1 Axes>"
      ]
     },
     "metadata": {
      "needs_background": "light"
     },
     "output_type": "display_data"
    }
   ],
   "source": [
    "plt.plot(DDgrid, ygrid, 'o')\n",
    "plt.show()"
   ]
  },
  {
   "cell_type": "code",
   "execution_count": 208,
   "metadata": {},
   "outputs": [],
   "source": [
    "f = interp1d(DDgrid, ygrid)"
   ]
  },
  {
   "cell_type": "code",
   "execution_count": 209,
   "metadata": {},
   "outputs": [
    {
     "data": {
      "image/png": "[encoded data removed]",
      "text/plain": [
       "<Figure size 432x288 with 1 Axes>"
      ]
     },
     "metadata": {
      "needs_background": "light"
     },
     "output_type": "display_data"
    }
   ],
   "source": [
    "xnew = np.linspace(0.1, 2249, num=2251, endpoint=True)\n",
    "\n",
    "plt.plot(DDgrid, ygrid, 'o')\n",
    "plt.plot(xnew, f(xnew), '-')\n",
    "plt.show()"
   ]
  },
  {
   "cell_type": "code",
   "execution_count": 213,
   "metadata": {},
   "outputs": [
    {
     "data": {
      "text/plain": [
       "array(0.29989197)"
      ]
     },
     "execution_count": 213,
     "metadata": {},
     "output_type": "execute_result"
    }
   ],
   "source": [
    "f(1194)   #LINspace"
   ]
  },
  {
   "cell_type": "code",
   "execution_count": null,
   "metadata": {},
   "outputs": [],
   "source": []
  }
 ],
 "metadata": {
  "kernelspec": {
   "display_name": "Python 3",
   "language": "python",
   "name": "python3"
  },
  "language_info": {
   "codemirror_mode": {
    "name": "ipython",
    "version": 3
   },
   "file_extension": ".py",
   "mimetype": "text/x-python",
   "name": "python",
   "nbconvert_exporter": "python",
   "pygments_lexer": "ipython3",
   "version": "3.7.3"
  }
 },
 "nbformat": 4,
 "nbformat_minor": 2
}
