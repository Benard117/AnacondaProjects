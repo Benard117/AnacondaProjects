{
 "cells": [
  {
   "cell_type": "code",
   "execution_count": 7,
   "metadata": {},
   "outputs": [],
   "source": [
    "from astropy.table import Table, Column\n",
    "import numpy as np\n",
    "import pandas as pd\n",
    "import matplotlib.pyplot as plt\n",
    "from matplotlib import colors\n",
    "import os\n",
    "import urllib.request"
   ]
  },
  {
   "cell_type": "code",
   "execution_count": 8,
   "metadata": {},
   "outputs": [],
   "source": [
    "import astropy.units as u\n",
    "from astropy.cosmology import z_at_value, FlatLambdaCDM"
   ]
  },
  {
   "cell_type": "code",
   "execution_count": 9,
   "metadata": {},
   "outputs": [
    {
     "data": {
      "text/plain": [
       "5000000.0"
      ]
     },
     "execution_count": 9,
     "metadata": {},
     "output_type": "execute_result"
    }
   ],
   "source": [
    "5e6"
   ]
  },
  {
   "cell_type": "code",
   "execution_count": 10,
   "metadata": {},
   "outputs": [
    {
     "name": "stdout",
     "output_type": "stream",
     "text": [
      "Step: 1\n"
     ]
    }
   ],
   "source": [
    "print(\"Step: 1\")"
   ]
  },
  {
   "cell_type": "code",
   "execution_count": 11,
   "metadata": {},
   "outputs": [],
   "source": [
    "# This will be the distance of the halo that you selected\n",
    "\n",
    "DistanceOfRS0dot3=cosmo.comoving_distance(0.3)"
   ]
  },
  {
   "cell_type": "code",
   "execution_count": 12,
   "metadata": {},
   "outputs": [
    {
     "data": {
      "text/latex": [
       "$1194.3969 \\; \\mathrm{Mpc}$"
      ],
      "text/plain": [
       "<Quantity 1194.39686972 Mpc>"
      ]
     },
     "execution_count": 12,
     "metadata": {},
     "output_type": "execute_result"
    }
   ],
   "source": [
    "DistanceOfRS0dot3"
   ]
  },
  {
   "cell_type": "code",
   "execution_count": 13,
   "metadata": {},
   "outputs": [
    {
     "name": "stdout",
     "output_type": "stream",
     "text": [
      "Step: 2\n"
     ]
    }
   ],
   "source": [
    "print(\"Step: 2\")"
   ]
  },
  {
   "cell_type": "code",
   "execution_count": 14,
   "metadata": {},
   "outputs": [],
   "source": [
    "cosmo = FlatLambdaCDM(H0=70, Om0=0.3)\n",
    "redshift = z_at_value(cosmo.comoving_distance, 5.0095024540353657*u.Mpc)"
   ]
  },
  {
   "cell_type": "code",
   "execution_count": 15,
   "metadata": {},
   "outputs": [
    {
     "name": "stdout",
     "output_type": "stream",
     "text": [
      "0.0011700000000002514\n"
     ]
    }
   ],
   "source": [
    "print(redshift)"
   ]
  },
  {
   "cell_type": "code",
   "execution_count": 16,
   "metadata": {},
   "outputs": [],
   "source": [
    "# Set this distance to the halo you selected and add (1194.3969 - OriginalDistance) to the rest of the halos"
   ]
  },
  {
   "cell_type": "code",
   "execution_count": 17,
   "metadata": {},
   "outputs": [],
   "source": [
    "# Preferable, do the ShellBox first, THEN change the distance to redshift"
   ]
  },
  {
   "cell_type": "code",
   "execution_count": 18,
   "metadata": {},
   "outputs": [
    {
     "name": "stdout",
     "output_type": "stream",
     "text": [
      "Step: 3\n"
     ]
    }
   ],
   "source": [
    "print(\"Step: 3\")"
   ]
  },
  {
   "cell_type": "code",
   "execution_count": 19,
   "metadata": {},
   "outputs": [],
   "source": [
    "# Add Doppler redshift to each particle\n",
    "\n",
    "# ζ d = (Vz/c)*(1/1+ζ cosmo)\n",
    "# Particle redshift  ζ p = ζ d + ζ cosmo\n",
    "\n",
    "# We divide the speed of the particle over C (check units) and we multiply by 1 over the sum of 1 plus the\n",
    "# redshift of the particle\n",
    "\n",
    "#Then we add this DOppler redshift to the other one (should be zero for the 0.3 redshift halo)"
   ]
  },
  {
   "cell_type": "code",
   "execution_count": 25,
   "metadata": {},
   "outputs": [],
   "source": [
    "from astropy import constants as const\n",
    "const.c\n",
    "Vz=2e8"
   ]
  },
  {
   "cell_type": "code",
   "execution_count": 26,
   "metadata": {},
   "outputs": [],
   "source": [
    "TotalRedshift = (Vz/const.c)*(1/(1+redshift))"
   ]
  },
  {
   "cell_type": "code",
   "execution_count": 27,
   "metadata": {},
   "outputs": [
    {
     "name": "stdout",
     "output_type": "stream",
     "text": [
      "0.6663485625780875 s / m\n"
     ]
    }
   ],
   "source": [
    "print(TotalRedshift)"
   ]
  },
  {
   "cell_type": "code",
   "execution_count": 29,
   "metadata": {},
   "outputs": [],
   "source": [
    "#\n",
    "#\n",
    "# Checar unidades de la variable \"Redshift\" y de \"Vz\" para que \"TotalRedshift\" tenga las unidades correctas. \n",
    "#\n",
    "#"
   ]
  },
  {
   "cell_type": "code",
   "execution_count": 30,
   "metadata": {},
   "outputs": [
    {
     "name": "stdout",
     "output_type": "stream",
     "text": [
      "Step: 4\n"
     ]
    }
   ],
   "source": [
    "print(\"Step: 4\")"
   ]
  },
  {
   "cell_type": "code",
   "execution_count": 31,
   "metadata": {},
   "outputs": [],
   "source": [
    "# Compute Δθ (Angular separation from halo) and Δ ζ = ζhalo - ζparticle."
   ]
  },
  {
   "cell_type": "code",
   "execution_count": 32,
   "metadata": {},
   "outputs": [],
   "source": [
    "#\n",
    "# se obtendran los angulos con Tan(θ)=CO/CA, donde el CA es la distancia del observador hasta la particula en el \n",
    "# eje Z, y CO es la distancia mas corta hasta el eje del observador, es decir sqrt(x^2 + y^2).\n",
    "#"
   ]
  },
  {
   "cell_type": "code",
   "execution_count": null,
   "metadata": {},
   "outputs": [],
   "source": []
  }
 ],
 "metadata": {
  "kernelspec": {
   "display_name": "Python 3",
   "language": "python",
   "name": "python3"
  },
  "language_info": {
   "codemirror_mode": {
    "name": "ipython",
    "version": 3
   },
   "file_extension": ".py",
   "mimetype": "text/x-python",
   "name": "python",
   "nbconvert_exporter": "python",
   "pygments_lexer": "ipython3",
   "version": "3.7.3"
  }
 },
 "nbformat": 4,
 "nbformat_minor": 2
}
