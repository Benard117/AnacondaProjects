{
 "cells": [
  {
   "cell_type": "code",
   "execution_count": 111,
   "metadata": {},
   "outputs": [],
   "source": [
    "from astropy.table import Table, Column\n",
    "import numpy as np\n",
    "import pandas as pd\n",
    "import matplotlib.pyplot as plt\n",
    "from matplotlib import colors\n",
    "import os\n",
    "import urllib.request\n",
    "from scipy.interpolate import interp1d"
   ]
  },
  {
   "cell_type": "code",
   "execution_count": 166,
   "metadata": {},
   "outputs": [],
   "source": [
    "import astropy.units as u\n",
    "from astropy.cosmology import z_at_value, FlatLambdaCDM, Planck13"
   ]
  },
  {
   "cell_type": "code",
   "execution_count": 73,
   "metadata": {},
   "outputs": [
    {
     "data": {
      "text/plain": [
       "5000000.0"
      ]
     },
     "execution_count": 73,
     "metadata": {},
     "output_type": "execute_result"
    }
   ],
   "source": [
    "5e6"
   ]
  },
  {
   "cell_type": "code",
   "execution_count": 74,
   "metadata": {},
   "outputs": [
    {
     "name": "stdout",
     "output_type": "stream",
     "text": [
      "Step: 1\n"
     ]
    }
   ],
   "source": [
    "print(\"Step: 1\")"
   ]
  },
  {
   "cell_type": "code",
   "execution_count": 75,
   "metadata": {},
   "outputs": [],
   "source": [
    "# This will be the distance of the halo that you selected\n",
    "\n",
    "DistanceOfRS0dot3=cosmo.comoving_distance(0.3)"
   ]
  },
  {
   "cell_type": "code",
   "execution_count": 76,
   "metadata": {},
   "outputs": [
    {
     "data": {
      "text/latex": [
       "$1194.3969 \\; \\mathrm{Mpc}$"
      ],
      "text/plain": [
       "<Quantity 1194.39686972 Mpc>"
      ]
     },
     "execution_count": 76,
     "metadata": {},
     "output_type": "execute_result"
    }
   ],
   "source": [
    "DistanceOfRS0dot3"
   ]
  },
  {
   "cell_type": "code",
   "execution_count": 77,
   "metadata": {},
   "outputs": [
    {
     "name": "stdout",
     "output_type": "stream",
     "text": [
      "Step: 2\n"
     ]
    }
   ],
   "source": [
    "print(\"Step: 2\")"
   ]
  },
  {
   "cell_type": "code",
   "execution_count": 78,
   "metadata": {},
   "outputs": [],
   "source": [
    "cosmo = FlatLambdaCDM(H0=70, Om0=0.3)\n",
    "redshift = z_at_value(cosmo.comoving_distance, 5.0095024540353657*u.Mpc)"
   ]
  },
  {
   "cell_type": "code",
   "execution_count": 79,
   "metadata": {},
   "outputs": [
    {
     "name": "stdout",
     "output_type": "stream",
     "text": [
      "0.0011700000000002514\n"
     ]
    }
   ],
   "source": [
    "print(redshift)"
   ]
  },
  {
   "cell_type": "code",
   "execution_count": 80,
   "metadata": {},
   "outputs": [],
   "source": [
    "# Set this distance to the halo you selected and add (1194.3969 - OriginalDistance) to the rest of the halos"
   ]
  },
  {
   "cell_type": "code",
   "execution_count": 81,
   "metadata": {},
   "outputs": [],
   "source": [
    "# Preferable, do the ShellBox first, THEN change the distance to redshift"
   ]
  },
  {
   "cell_type": "code",
   "execution_count": 82,
   "metadata": {},
   "outputs": [
    {
     "name": "stdout",
     "output_type": "stream",
     "text": [
      "Step: 3\n"
     ]
    }
   ],
   "source": [
    "print(\"Step: 3\")"
   ]
  },
  {
   "cell_type": "code",
   "execution_count": 83,
   "metadata": {},
   "outputs": [],
   "source": [
    "# Add Doppler redshift to each particle\n",
    "\n",
    "# ζ d = (Vz/c)*(1/1+ζ cosmo)\n",
    "# Particle redshift  ζ p = ζ d + ζ cosmo\n",
    "\n",
    "# We divide the speed of the particle over C (check units) and we multiply by 1 over the sum of 1 plus the\n",
    "# redshift of the particle\n",
    "\n",
    "#Then we add this DOppler redshift to the other one (should be zero for the 0.3 redshift halo)"
   ]
  },
  {
   "cell_type": "code",
   "execution_count": 84,
   "metadata": {},
   "outputs": [],
   "source": [
    "from astropy import constants as const\n",
    "const.c\n",
    "Vz=2e8"
   ]
  },
  {
   "cell_type": "code",
   "execution_count": 85,
   "metadata": {},
   "outputs": [],
   "source": [
    "TotalRedshift = (Vz/const.c)*(1/(1+redshift))"
   ]
  },
  {
   "cell_type": "code",
   "execution_count": 86,
   "metadata": {},
   "outputs": [
    {
     "name": "stdout",
     "output_type": "stream",
     "text": [
      "0.6663485625780875 s / m\n"
     ]
    }
   ],
   "source": [
    "print(TotalRedshift)"
   ]
  },
  {
   "cell_type": "code",
   "execution_count": 87,
   "metadata": {},
   "outputs": [],
   "source": [
    "#\n",
    "#\n",
    "# Checar unidades de la variable \"Redshift\" y de \"Vz\" para que \"TotalRedshift\" tenga las unidades correctas. \n",
    "#\n",
    "#"
   ]
  },
  {
   "cell_type": "code",
   "execution_count": 88,
   "metadata": {},
   "outputs": [
    {
     "name": "stdout",
     "output_type": "stream",
     "text": [
      "Step: 4\n"
     ]
    }
   ],
   "source": [
    "print(\"Step: 4\")"
   ]
  },
  {
   "cell_type": "code",
   "execution_count": 89,
   "metadata": {},
   "outputs": [],
   "source": [
    "# Compute Δθ (Angular separation from halo) and Δ ζ = ζhalo - ζparticle."
   ]
  },
  {
   "cell_type": "code",
   "execution_count": 90,
   "metadata": {},
   "outputs": [],
   "source": [
    "#\n",
    "# se obtendran los angulos con Tan(θ)=CO/CA, donde el CA es la distancia del observador hasta la particula en el \n",
    "# eje Z, y CO es la distancia mas corta hasta el eje del observador, es decir sqrt(x^2 + y^2).\n",
    "#"
   ]
  },
  {
   "cell_type": "code",
   "execution_count": 91,
   "metadata": {},
   "outputs": [],
   "source": [
    "Halos = np.load(\"/home/benardorci/SimulationData/halos.npy\")\n",
    "DMP = np.load(\"/home/benardorci/SimulationData/dm_cat_ds_10000.npy\")"
   ]
  },
  {
   "cell_type": "code",
   "execution_count": 92,
   "metadata": {},
   "outputs": [
    {
     "data": {
      "text/plain": [
       "274140"
      ]
     },
     "execution_count": 92,
     "metadata": {},
     "output_type": "execute_result"
    }
   ],
   "source": [
    "np.size(DMP[:,0])"
   ]
  },
  {
   "cell_type": "code",
   "execution_count": 156,
   "metadata": {},
   "outputs": [],
   "source": [
    "x = np.linspace(0.01, 2250, num=22500, endpoint=True)"
   ]
  },
  {
   "cell_type": "code",
   "execution_count": 157,
   "metadata": {},
   "outputs": [
    {
     "name": "stdout",
     "output_type": "stream",
     "text": [
      "[1.00000000e-02 1.10004000e-01 2.10008000e-01 ... 2.24979999e+03\n",
      " 2.24990000e+03 2.25000000e+03]\n"
     ]
    }
   ],
   "source": [
    "print(x)"
   ]
  },
  {
   "cell_type": "code",
   "execution_count": 158,
   "metadata": {},
   "outputs": [],
   "source": [
    "#import random\n",
    "#for x in range(10):\n",
    " #   print(random.randint(1,100))"
   ]
  },
  {
   "cell_type": "code",
   "execution_count": 159,
   "metadata": {},
   "outputs": [
    {
     "name": "stdout",
     "output_type": "stream",
     "text": [
      "2.3362820299981736e-06\n",
      "0.6142083115164456\n",
      "[2.33628203e-06 2.33757826e-06 2.33887520e-06 ... 6.13527323e-01\n",
      " 6.13867723e-01 6.14208312e-01]\n"
     ]
    }
   ],
   "source": [
    "yMin = z_at_value(cosmo.comoving_distance, x.min()*u.Mpc)\n",
    "yMax = z_at_value(cosmo.comoving_distance, x.max()*u.Mpc)\n",
    "ygrid = np.logspace(np.log10(yMin), np.log10(yMax), 22500)\n",
    "\n",
    "#y1 = z_at_value(cosmo.comoving_distance, x.all()*u.Mpc, zmin=999)\n",
    "#y2 = z_at_value(cosmo.comoving_distance, x.all()*u.Mpc, zmax=5000)\n",
    "\n",
    "print(yMin)\n",
    "print(yMax)\n",
    "print(ygrid)"
   ]
  },
  {
   "cell_type": "code",
   "execution_count": 117,
   "metadata": {},
   "outputs": [
    {
     "name": "stdout",
     "output_type": "stream",
     "text": [
      "22501\n",
      "1\n"
     ]
    }
   ],
   "source": [
    "print(np.size(x))\n",
    "print(np.size(y1))\n",
    "\n",
    "#f1 = interp1d(x, y1)\n",
    "#f2 = interp1d(x, y2)"
   ]
  },
  {
   "cell_type": "code",
   "execution_count": 163,
   "metadata": {},
   "outputs": [
    {
     "data": {
      "text/plain": [
       "0.2988035309568695"
      ]
     },
     "execution_count": 163,
     "metadata": {},
     "output_type": "execute_result"
    }
   ],
   "source": [
    "z_at_value(cosmo.comoving_distance, 1190*u.Mpc)"
   ]
  },
  {
   "cell_type": "code",
   "execution_count": 161,
   "metadata": {},
   "outputs": [
    {
     "data": {
      "image/png": "[encoded data removed]",
      "text/plain": [
       "<Figure size 432x288 with 1 Axes>"
      ]
     },
     "metadata": {
      "needs_background": "light"
     },
     "output_type": "display_data"
    }
   ],
   "source": [
    "plt.plot(x, ygrid, 'o')\n",
    "plt.show()"
   ]
  },
  {
   "cell_type": "code",
   "execution_count": 178,
   "metadata": {},
   "outputs": [],
   "source": [
    "Dvals = (24 + np.random.rand(1000000) * 20) * u.mag\n",
    "\n",
    "zmin = z_at_value(Planck13.distmod, Dvals.min())\n",
    "zmax = z_at_value(Planck13.distmod, Dvals.max())\n",
    "zgrid = np.logspace(np.log10(zmin), np.log10(zmax), 50)\n",
    "Dgrid = Planck13.distmod(zgrid)\n",
    "\n",
    "x = np.linspace(0.01, 2250, num=22500, endpoint=True)"
   ]
  },
  {
   "cell_type": "code",
   "execution_count": 184,
   "metadata": {},
   "outputs": [
    {
     "name": "stdout",
     "output_type": "stream",
     "text": [
      "[1.42616720e-04 1.70658707e-04 2.04214445e-04 2.44368073e-04\n",
      " 2.92416901e-04 3.49913321e-04 4.18714965e-04 5.01044719e-04\n",
      " 5.99562546e-04 7.17451424e-04 8.58520180e-04 1.02732656e-03\n",
      " 1.22932445e-03 1.47104015e-03 1.76028316e-03 2.10639851e-03\n",
      " 2.52056874e-03 3.01617511e-03 3.60923000e-03 4.31889419e-03\n",
      " 5.16809598e-03 6.18427192e-03 7.40025326e-03 8.85532672e-03\n",
      " 1.05965037e-02 1.26800394e-02 1.51732498e-02 1.81566873e-02\n",
      " 2.17267427e-02 2.59987595e-02 3.11107609e-02 3.72279086e-02\n",
      " 4.45478394e-02 5.33070503e-02 6.37885394e-02 7.63309495e-02\n",
      " 9.13395086e-02 1.09299123e-01 1.30790043e-01 1.56506612e-01\n",
      " 1.87279696e-01 2.24103532e-01 2.68167849e-01 3.20896304e-01\n",
      " 3.83992481e-01 4.59494934e-01 5.49843042e-01 6.57955830e-01\n",
      " 7.87326276e-01 9.42134163e-01]\n"
     ]
    },
    {
     "data": {
      "image/png": "[encoded data removed]",
      "text/plain": [
       "<Figure size 432x288 with 1 Axes>"
      ]
     },
     "metadata": {
      "needs_background": "light"
     },
     "output_type": "display_data"
    },
    {
     "name": "stdout",
     "output_type": "stream",
     "text": [
      "[24.00000629 24.38984311 24.77968912 25.16954614 25.55941633 25.94930226\n",
      " 26.33920705 26.72913438 27.11908868 27.50907526 27.89910043 28.28917177\n",
      " 28.67929834 29.06949094 29.4597625  29.85012848 30.2406073  30.63122101\n",
      " 31.02199586 31.41296322 31.80416043 32.19563198 32.58743083 32.97961988\n",
      " 33.37227383 33.76548117 34.15934657 34.55399353 34.94956735 35.34623842\n",
      " 35.74420569 36.14370032 36.54498922 36.94837832 37.35421503 37.76288938\n",
      " 38.17483302 38.59051506 39.01043349 39.4351007  39.86502167 40.30066343\n",
      " 40.7424154  41.19054121 41.64512519 42.10601943 42.57280112 43.04475235\n",
      " 43.52087458 43.99994544] mag\n"
     ]
    }
   ],
   "source": [
    "print(zgrid)\n",
    "plt.plot(zgrid, Dgrid, 'o')\n",
    "plt.show()\n",
    "print(Dgrid)"
   ]
  },
  {
   "cell_type": "code",
   "execution_count": null,
   "metadata": {},
   "outputs": [],
   "source": []
  }
 ],
 "metadata": {
  "kernelspec": {
   "display_name": "Python 3",
   "language": "python",
   "name": "python3"
  },
  "language_info": {
   "codemirror_mode": {
    "name": "ipython",
    "version": 3
   },
   "file_extension": ".py",
   "mimetype": "text/x-python",
   "name": "python",
   "nbconvert_exporter": "python",
   "pygments_lexer": "ipython3",
   "version": "3.7.3"
  }
 },
 "nbformat": 4,
 "nbformat_minor": 2
}
