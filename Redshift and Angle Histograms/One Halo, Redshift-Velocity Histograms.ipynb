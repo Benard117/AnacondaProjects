{
 "cells": [
  {
   "cell_type": "code",
   "execution_count": 40,
   "metadata": {},
   "outputs": [],
   "source": [
    "from astropy.table import Table, Column\n",
    "import numpy as np\n",
    "import pandas as pd\n",
    "import matplotlib.pyplot as plt\n",
    "from matplotlib import colors\n",
    "import os\n",
    "import urllib.request\n",
    "import astropy.units as u\n",
    "from astropy.cosmology import z_at_value, FlatLambdaCDM\n",
    "from astropy import constants as const\n",
    "from scipy.interpolate import interp1d"
   ]
  },
  {
   "cell_type": "code",
   "execution_count": 41,
   "metadata": {},
   "outputs": [
    {
     "data": {
      "text/plain": [
       "'/home/benardorci/SimulationData'"
      ]
     },
     "execution_count": 41,
     "metadata": {},
     "output_type": "execute_result"
    }
   ],
   "source": [
    "os.chdir(\"/home/benardorci/SimulationData\")\n",
    "os.getcwd()"
   ]
  },
  {
   "cell_type": "code",
   "execution_count": 42,
   "metadata": {},
   "outputs": [],
   "source": [
    "Halos = np.load(\"/home/benardorci/SimulationData/halos.npy\")\n",
    "DMP = np.load(\"/home/benardorci/SimulationData/dm_cat_ds_100.npy\")\n",
    "CheckingEverythingIsAlright = 117"
   ]
  },
  {
   "cell_type": "code",
   "execution_count": 43,
   "metadata": {},
   "outputs": [],
   "source": [
    "DMP = np.array(DMP)\n",
    "DMPCopy = DMP.copy()\n",
    "\n",
    "Radius = 400\n",
    "HalfHeight = 0\n",
    "\n",
    "DMP[:,1] = DMP[:,1] + Radius \n",
    "DMP[:,2] = DMP[:,2] + Radius \n",
    "DMP[:,3] = DMP[:,3] + HalfHeight\n",
    "\n",
    "NewDMPBoxShell = []\n",
    "\n",
    "for m, x, y, z, Vx, Vy, Vz in zip(DMPCopy[:,0], DMPCopy[:,1], DMPCopy[:,2], DMPCopy[:,3], DMPCopy[:,4], DMPCopy[:,5], DMPCopy[:,6]) :\n",
    "    if  x < Radius :\n",
    "        if y < Radius :\n",
    "            if z < HalfHeight :\n",
    "                NewDMPBoxShell.append([m, x+1050+Radius, y+1050+Radius, z+1050+HalfHeight, Vx, Vy, Vz]) #PUNTO\n",
    "            elif z > 1050-HalfHeight :\n",
    "                NewDMPBoxShell.append([m, x+1050+Radius, y+1050+Radius, z-1050+HalfHeight, Vx, Vy, Vz]) #PUNTO\n",
    "            else :    \n",
    "                NewDMPBoxShell.append([m, x+1050+Radius, y+1050+Radius, z+HalfHeight, Vx, Vy, Vz]) #ARISTA\n",
    "            \n",
    "        elif y > 1050-Radius :\n",
    "            if z < HalfHeight :\n",
    "                NewDMPBoxShell.append([m, x+1050+Radius, y-1050+Radius, z+1050+HalfHeight, Vx, Vy, Vz]) #PUNTO\n",
    "            elif z > 1050-HalfHeight :\n",
    "                NewDMPBoxShell.append([m, x+1050+Radius, y-1050+Radius, z-1050+HalfHeight, Vx, Vy, Vz]) #PUNTO\n",
    "            else :    \n",
    "                NewDMPBoxShell.append([m, x+1050+Radius, y-1050+Radius, z+HalfHeight, Vx, Vy, Vz]) #ARISTA\n",
    "                \n",
    "        elif z < HalfHeight :\n",
    "            NewDMPBoxShell.append([m, x+1050+Radius, y+Radius, z+1050+HalfHeight, Vx, Vy, Vz]) #ARISTA\n",
    "        elif z > 1050-HalfHeight :\n",
    "            NewDMPBoxShell.append([m, x+1050+Radius, y+Radius, z-1050+HalfHeight, Vx, Vy, Vz]) #ARISTA  \n",
    "            \n",
    "        else :\n",
    "            NewDMPBoxShell.append([m, x+1050+Radius, y+Radius, z+HalfHeight, Vx, Vy, Vz]) #CARA\n",
    "            \n",
    "    elif  x > 1050-Radius :\n",
    "        if y < Radius :\n",
    "            if z < HalfHeight :\n",
    "                NewDMPBoxShell.append([m, x-1050+Radius, y+1050+Radius, z+1050+HalfHeight, Vx, Vy, Vz]) #PUNTO\n",
    "            elif z > 1050-HalfHeight :\n",
    "                NewDMPBoxShell.append([m, x-1050+Radius, y+1050+Radius, z-1050+HalfHeight, Vx, Vy, Vz]) #PUNTO\n",
    "            else :    \n",
    "                NewDMPBoxShell.append([m, x-1050+Radius, y+1050+Radius, z+HalfHeight, Vx, Vy, Vz]) #ARISTA\n",
    "            \n",
    "        elif y > 1050-Radius :\n",
    "            if z < HalfHeight :\n",
    "                NewDMPBoxShell.append([m, x-1050+Radius, y-1050+Radius, z+1050+HalfHeight, Vx, Vy, Vz]) #PUNTO\n",
    "            elif z > 1050-HalfHeight :\n",
    "                NewDMPBoxShell.append([m, x-1050+Radius, y-1050+Radius, z-1050+HalfHeight, Vx, Vy, Vz]) #PUNTO\n",
    "            else :    \n",
    "                NewDMPBoxShell.append([m, x-1050+Radius, y-1050+Radius, z+HalfHeight, Vx, Vy, Vz]) #ARISTA\n",
    "                \n",
    "        elif z < HalfHeight :\n",
    "            NewDMPBoxShell.append([m, x-1050+Radius, y+Radius, z+1050+HalfHeight, Vx, Vy, Vz]) #ARISTA\n",
    "        elif z > 1050-HalfHeight :\n",
    "            NewDMPBoxShell.append([m, x-1050+Radius, y+Radius, z-1050+HalfHeight, Vx, Vy, Vz]) #ARISTA\n",
    "            \n",
    "        else :\n",
    "            NewDMPBoxShell.append([m, x-1050+Radius, y+Radius, z+HalfHeight, Vx, Vy, Vz]) #CARA\n",
    "        \n",
    "    elif y < Radius :\n",
    "        if z < HalfHeight :\n",
    "            NewDMPBoxShell.append([m, x+Radius, y+1050+Radius, z+1050+HalfHeight, Vx, Vy, Vz]) #ARISTA\n",
    "        elif z > 1050-HalfHeight :\n",
    "            NewDMPBoxShell.append([m, x+Radius, y+1050+Radius, z-1050+HalfHeight, Vx, Vy, Vz]) #ARISTA\n",
    "        else :\n",
    "            NewDMPBoxShell.append([m, x+Radius, y+1050+Radius, z+HalfHeight, Vx, Vy, Vz]) #CARA\n",
    "        \n",
    "    elif y > 1050-Radius :\n",
    "        if z < HalfHeight :\n",
    "            NewDMPBoxShell.append([m, x+Radius, y-1050+Radius, z+1050+HalfHeight, Vx, Vy, Vz]) #ARISTA\n",
    "        elif z > 1050-HalfHeight :\n",
    "            NewDMPBoxShell.append([m, x+Radius, y-1050+Radius, z-1050+HalfHeight, Vx, Vy, Vz]) #ARISTA\n",
    "        else :\n",
    "            NewDMPBoxShell.append([m, x+Radius, y-1050+Radius, z+HalfHeight, Vx, Vy, Vz]) #CARA\n",
    "        \n",
    "    elif z < HalfHeight :\n",
    "        NewDMPBoxShell.append([m, x+Radius, y+Radius, z+1050+HalfHeight, Vx, Vy, Vz]) #CARA             \n",
    "                  \n",
    "    elif z > 1050-HalfHeight :\n",
    "        NewDMPBoxShell.append([m, x+Radius, y+Radius, z-1050+HalfHeight, Vx, Vy, Vz]) #CARA\n",
    "    \n",
    "    else :\n",
    "        continue"
   ]
  },
  {
   "cell_type": "code",
   "execution_count": 44,
   "metadata": {},
   "outputs": [
    {
     "name": "stdout",
     "output_type": "stream",
     "text": [
      "117\n"
     ]
    }
   ],
   "source": [
    "print(CheckingEverythingIsAlright)"
   ]
  },
  {
   "cell_type": "code",
   "execution_count": 45,
   "metadata": {},
   "outputs": [],
   "source": [
    "NewDMPBox = np.concatenate((DMP, NewDMPBoxShell))"
   ]
  },
  {
   "cell_type": "code",
   "execution_count": 46,
   "metadata": {},
   "outputs": [
    {
     "name": "stdout",
     "output_type": "stream",
     "text": [
      "117\n"
     ]
    }
   ],
   "source": [
    "print(CheckingEverythingIsAlright)"
   ]
  },
  {
   "cell_type": "code",
   "execution_count": 47,
   "metadata": {},
   "outputs": [],
   "source": [
    "IDMostMassiveHalo = np.argmax(Halos[:,0])\n",
    "\n",
    "#np.argsor       orden de menor a mayor, ::-1 to reverse it"
   ]
  },
  {
   "cell_type": "code",
   "execution_count": 48,
   "metadata": {},
   "outputs": [
    {
     "name": "stdout",
     "output_type": "stream",
     "text": [
      "1194.3968697152304 MPC\n"
     ]
    }
   ],
   "source": [
    "cosmo = FlatLambdaCDM(H0=70, Om0=0.3)\n",
    "\n",
    "DistanceOfRS0dot3=cosmo.comoving_distance(0.3)\n",
    "DistanceOfRS0dot3 = DistanceOfRS0dot3.value\n",
    "print(DistanceOfRS0dot3,\"MPC\")"
   ]
  },
  {
   "cell_type": "code",
   "execution_count": 49,
   "metadata": {},
   "outputs": [],
   "source": [
    "#                             INTERPOLATION\n",
    "\n",
    "MPCMin = z_at_value(cosmo.comoving_distance, 0.001*u.Mpc)\n",
    "MPCMax = z_at_value(cosmo.comoving_distance, 3300*u.Mpc) # 1050 + 1200 + 1050, box + 0.3 RS + Shell (525 each side)\n",
    "RSgrid = np.linspace(MPCMin, MPCMax, 50000)\n",
    "MPCgrid = cosmo.comoving_distance(RSgrid)\n",
    "\n",
    "MPCtoRSInterpolation = interp1d(MPCgrid, RSgrid)                #scipy.interpolate.UnivariateSpline"
   ]
  },
  {
   "cell_type": "code",
   "execution_count": 50,
   "metadata": {},
   "outputs": [],
   "source": [
    "# New frame of reference (The Halo that was selected).\n",
    "\n",
    "NewDMPBox[:,1] = NewDMPBox[:,1] - (Halos[IDMostMassiveHalo,1] + Radius)\n",
    "NewDMPBox[:,2] = NewDMPBox[:,2] - (Halos[IDMostMassiveHalo,2] + Radius)\n",
    "NewDMPBox[:,3] = NewDMPBox[:,3] - (Halos[IDMostMassiveHalo,3] + HalfHeight) + DistanceOfRS0dot3\n",
    "\n",
    "# Redshift of the DMP.\n",
    "\n",
    "DMPBoxRSandA = np.zeros((np.size(NewDMPBox[:,3]),2))\n",
    "DMPBoxRSandA[:,0] = MPCtoRSInterpolation(NewDMPBox[:,3])\n",
    "DMPBoxRSandA[:,0] = DMPBoxRSandA[:,0] + (NewDMPBox[:,6]/const.c.value)*(1/(1+DMPBoxRSandA[:,0]))\n",
    "\n",
    "# Angles of the DMP.\n",
    "\n",
    "DMPBoxRSandA[:,1] = np.arctan(np.sqrt(NewDMPBox[:,1]**2 + NewDMPBox[:,2]**2)/NewDMPBox[:,3]) \n",
    "\n",
    "# can also use arctan2 to get the cuadrant"
   ]
  },
  {
   "cell_type": "code",
   "execution_count": 51,
   "metadata": {},
   "outputs": [],
   "source": [
    "Cylinder= []\n",
    "Radians = np.radians(10)\n",
    "\n",
    "for x,y in zip(DMPBoxRSandA[:,0], DMPBoxRSandA[:,1]) :\n",
    "    if (0.2 <= x <= 0.5 and y <= Radians) :\n",
    "        Cylinder.append([x, y])\n",
    "\n",
    "\n",
    "Cylinder = np.array(Cylinder)"
   ]
  },
  {
   "cell_type": "code",
   "execution_count": 52,
   "metadata": {},
   "outputs": [
    {
     "data": {
      "text/plain": [
       "array([0.38633294, 0.17322607])"
      ]
     },
     "execution_count": 52,
     "metadata": {},
     "output_type": "execute_result"
    }
   ],
   "source": [
    "Cylinder[0,:]"
   ]
  },
  {
   "cell_type": "code",
   "execution_count": 53,
   "metadata": {},
   "outputs": [
    {
     "data": {
      "text/plain": [
       "6966004"
      ]
     },
     "execution_count": 53,
     "metadata": {},
     "output_type": "execute_result"
    }
   ],
   "source": [
    "np.size(Cylinder)"
   ]
  },
  {
   "cell_type": "code",
   "execution_count": 54,
   "metadata": {},
   "outputs": [],
   "source": [
    "#np.savetxt(\"/home/benardorci/SimulationData/MassBin#HistogramsDS1000Height###.txt\",FinalVelocities,fmt='%s')"
   ]
  },
  {
   "cell_type": "code",
   "execution_count": 55,
   "metadata": {},
   "outputs": [
    {
     "name": "stdout",
     "output_type": "stream",
     "text": [
      "117\n"
     ]
    }
   ],
   "source": [
    "print(CheckingEverythingIsAlright)"
   ]
  },
  {
   "cell_type": "code",
   "execution_count": 56,
   "metadata": {},
   "outputs": [],
   "source": [
    "#np.save(\"/home/benardorci/SimulationData/MassBin#HistogramsDS1000Height###.npy\",FinalVelocities)\n",
    "#np.save(\"/calvin1/benardorci/MassBin3HistogramsDS1000Height2Radius0dot5.npy\",FinalVelocities)"
   ]
  },
  {
   "cell_type": "code",
   "execution_count": 57,
   "metadata": {},
   "outputs": [
    {
     "name": "stdout",
     "output_type": "stream",
     "text": [
      "117\n"
     ]
    }
   ],
   "source": [
    "print(CheckingEverythingIsAlright)"
   ]
  },
  {
   "cell_type": "code",
   "execution_count": 58,
   "metadata": {},
   "outputs": [],
   "source": [
    "#plt.hist(FinalVelocities, bins=100, histtype='bar', stacked=True)\n",
    "#plt.savefig(\"/Users/Roberto Benard Orci/Documents/UNI/Verano Investigacion/Simulation data/Many Histograms/MassBin#HistogramsDS1000.png\")"
   ]
  },
  {
   "cell_type": "code",
   "execution_count": 59,
   "metadata": {},
   "outputs": [
    {
     "name": "stdout",
     "output_type": "stream",
     "text": [
      "117\n"
     ]
    }
   ],
   "source": [
    "print(CheckingEverythingIsAlright)"
   ]
  },
  {
   "cell_type": "code",
   "execution_count": 60,
   "metadata": {},
   "outputs": [
    {
     "data": {
      "image/png": "[encoded data removed]",
      "text/plain": [
       "<Figure size 432x288 with 1 Axes>"
      ]
     },
     "metadata": {
      "needs_background": "light"
     },
     "output_type": "display_data"
    }
   ],
   "source": [
    "plt.hist(Cylinder[:,0], bins=100) #density=True\n",
    "plt.show()\n",
    "#plt.savefig(\"/home/benardorci/SimulationData/MassBin#HistogramsDS1000Height###.png\")\n",
    "#plt.savefig(\"/calvin1/benardorci/MassBin3HistogramsDS1000Height2Radius0dot5.png\")"
   ]
  },
  {
   "cell_type": "code",
   "execution_count": 61,
   "metadata": {},
   "outputs": [
    {
     "data": {
      "image/png": "[encoded data removed]",
      "text/plain": [
       "<Figure size 432x288 with 1 Axes>"
      ]
     },
     "metadata": {
      "needs_background": "light"
     },
     "output_type": "display_data"
    }
   ],
   "source": [
    "plt.hist(Cylinder[:,1], bins=100) #density=True\n",
    "plt.show()"
   ]
  },
  {
   "cell_type": "code",
   "execution_count": 71,
   "metadata": {},
   "outputs": [],
   "source": [
    "FinalVelocitys = const.c.value*(Cylinder[:,0]-0.3)/(1.3*1000)"
   ]
  },
  {
   "cell_type": "code",
   "execution_count": 72,
   "metadata": {},
   "outputs": [],
   "source": [
    "V = []\n",
    "\n",
    "for x in FinalVelocitys :\n",
    "    if (-3000 <= x <= 3000) :\n",
    "        V.append(x)"
   ]
  },
  {
   "cell_type": "code",
   "execution_count": 73,
   "metadata": {
    "scrolled": false
   },
   "outputs": [
    {
     "data": {
      "image/png": "[encoded data removed]",
      "text/plain": [
       "<Figure size 432x288 with 1 Axes>"
      ]
     },
     "metadata": {
      "needs_background": "light"
     },
     "output_type": "display_data"
    }
   ],
   "source": [
    "plt.hist(V, bins=50)\n",
    "plt.show()"
   ]
  },
  {
   "cell_type": "code",
   "execution_count": 74,
   "metadata": {
    "scrolled": false
   },
   "outputs": [
    {
     "data": {
      "image/png": "[encoded data removed]",
      "text/plain": [
       "<Figure size 432x288 with 1 Axes>"
      ]
     },
     "metadata": {
      "needs_background": "light"
     },
     "output_type": "display_data"
    }
   ],
   "source": [
    "plt.hist(FinalVelocitys, bins=100)\n",
    "plt.show()"
   ]
  },
  {
   "cell_type": "code",
   "execution_count": 69,
   "metadata": {},
   "outputs": [
    {
     "name": "stdout",
     "output_type": "stream",
     "text": [
      "0.05235987755982989\n"
     ]
    }
   ],
   "source": [
    "print(np.radians(3))"
   ]
  },
  {
   "cell_type": "code",
   "execution_count": 70,
   "metadata": {},
   "outputs": [
    {
     "data": {
      "text/plain": [
       "117.91750338684272"
      ]
     },
     "execution_count": 70,
     "metadata": {},
     "output_type": "execute_result"
    }
   ],
   "source": [
    "np.tan(np.radians(3))*2250"
   ]
  },
  {
   "cell_type": "code",
   "execution_count": null,
   "metadata": {},
   "outputs": [],
   "source": []
  }
 ],
 "metadata": {
  "kernelspec": {
   "display_name": "Python 3",
   "language": "python",
   "name": "python3"
  },
  "language_info": {
   "codemirror_mode": {
    "name": "ipython",
    "version": 3
   },
   "file_extension": ".py",
   "mimetype": "text/x-python",
   "name": "python",
   "nbconvert_exporter": "python",
   "pygments_lexer": "ipython3",
   "version": "3.7.3"
  }
 },
 "nbformat": 4,
 "nbformat_minor": 2
}
