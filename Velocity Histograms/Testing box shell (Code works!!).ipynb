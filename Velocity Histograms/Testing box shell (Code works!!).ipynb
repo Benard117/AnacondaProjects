{
 "cells": [
  {
   "cell_type": "code",
   "execution_count": 54,
   "metadata": {},
   "outputs": [],
   "source": [
    "from astropy.table import Table, Column\n",
    "import numpy as np\n",
    "import pandas as pd\n",
    "import matplotlib.pyplot as plt\n",
    "from matplotlib import colors\n",
    "import os\n",
    "import urllib.request"
   ]
  },
  {
   "cell_type": "code",
   "execution_count": 55,
   "metadata": {},
   "outputs": [
    {
     "data": {
      "text/plain": [
       "'C:\\\\Users\\\\Roberto Benard Orci\\\\Documents\\\\UNI\\\\Verano Investigacion\\\\Simulation data'"
      ]
     },
     "execution_count": 55,
     "metadata": {},
     "output_type": "execute_result"
    }
   ],
   "source": [
    "os.chdir(\"/Users/Roberto Benard Orci/Documents/UNI/Verano Investigacion/Simulation data\")\n",
    "os.getcwd()"
   ]
  },
  {
   "cell_type": "code",
   "execution_count": 56,
   "metadata": {},
   "outputs": [],
   "source": [
    "DMP = np.loadtxt(\"/Users/Roberto Benard Orci/Documents/UNI/Verano Investigacion/Simulation data/Testing box shell.txt\")\n",
    "Halos = np.loadtxt(\"/Users/Roberto Benard Orci/Documents/UNI/Verano Investigacion/Simulation data/Halos Testing.txt\")"
   ]
  },
  {
   "cell_type": "code",
   "execution_count": 57,
   "metadata": {},
   "outputs": [
    {
     "name": "stdout",
     "output_type": "stream",
     "text": [
      "a 1.0\n",
      "c 2.0\n",
      "c 3.0\n",
      "b 4.0\n",
      "d 5.0\n",
      "g 6.0\n",
      "e 7.0\n",
      "f 8.0\n",
      "h 9.0\n",
      "j 10.0\n",
      "m 11.0\n",
      "v 12.0\n",
      "s 13.0\n",
      "p 14.0\n",
      "i 15.0\n",
      "y 16.0\n",
      "k 17.0\n",
      "t 18.0\n",
      "l 19.0\n",
      "u 20.0\n",
      "n 21.0\n",
      "q 22.0\n",
      "w 23.0\n",
      "o 24.0\n",
      "z 25.0\n",
      "x 26.0\n",
      "r 27.0\n"
     ]
    }
   ],
   "source": [
    "DMP = np.array(DMP)\n",
    "DMPCopy = DMP\n",
    "DMPCopy = np.array(DMPCopy)\n",
    "\n",
    "DMP[:,1] = DMP[:,1] + 1 \n",
    "DMP[:,2] = DMP[:,2] + 1 \n",
    "DMP[:,3] = DMP[:,3] + 50\n",
    "\n",
    "NewDMPBoxShell = []\n",
    "\n",
    "for m, x, y, z, Vz in zip(DMPCopy[:,0], DMPCopy[:,1], DMPCopy[:,2], DMPCopy[:,3], DMPCopy[:,4]) :\n",
    "    if  x < 1 :\n",
    "        if y < 1 :\n",
    "            if z < 50 :\n",
    "                NewDMPBoxShell.append([m, x+1051, y+1051, z+1100, Vz]) #PUNTO\n",
    "                print(\"a\",m)\n",
    "            elif z > 1000 :\n",
    "                NewDMPBoxShell.append([m, x+1051, y+1051, z-1000, Vz]) #PUNTO\n",
    "                print(\"b\",m)\n",
    "            else :    \n",
    "                NewDMPBoxShell.append([m, x+1051, y+1051, z+50, Vz]) #ARISTA\n",
    "                print(\"c\",m)\n",
    "            \n",
    "        elif y > 1049 :\n",
    "            if z < 50 :\n",
    "                NewDMPBoxShell.append([m, x+1051, y-1049, z+1100, Vz]) #PUNTO\n",
    "                print(\"d\",m)\n",
    "            elif z > 1000 :\n",
    "                NewDMPBoxShell.append([m, x+1051, y-1049, z-1000, Vz]) #PUNTO\n",
    "                print(\"e\",m)\n",
    "            else :    \n",
    "                NewDMPBoxShell.append([m, x+1051, y-1049, z+50, Vz]) #ARISTA\n",
    "                print(\"f\",m)\n",
    "                \n",
    "        elif z < 50 :\n",
    "            NewDMPBoxShell.append([m, x+1051, y+1, z+1100, Vz]) #ARISTA\n",
    "            print(\"g\",m)\n",
    "        elif z > 1000 :\n",
    "            NewDMPBoxShell.append([m, x+1051, y+1, z-1000, Vz]) #ARISTA\n",
    "            print(\"h\",m)  \n",
    "            \n",
    "        else :\n",
    "            NewDMPBoxShell.append([m, x+1051, y+1, z+50, Vz]) #CARA\n",
    "            print(\"i\",m)\n",
    "            \n",
    "    elif  x > 1049 :\n",
    "        if y < 1 :\n",
    "            if z < 50 :\n",
    "                NewDMPBoxShell.append([m, x-1049, y+1051, z+1100, Vz]) #PUNTO\n",
    "                print(\"j\",m)\n",
    "            elif z > 1000 :\n",
    "                NewDMPBoxShell.append([m, x-1049, y+1051, z-1000, Vz]) #PUNTO\n",
    "                print(\"k\",m)\n",
    "            else :    \n",
    "                NewDMPBoxShell.append([m, x-1049, y+1051, z+50, Vz]) #ARISTA\n",
    "                print(\"l\",m)\n",
    "            \n",
    "        elif y > 1049 :\n",
    "            if z < 50 :\n",
    "                NewDMPBoxShell.append([m, x-1049, y-1049, z+1100, Vz]) #PUNTO\n",
    "                print(\"m\",m)\n",
    "            elif z > 1000 :\n",
    "                NewDMPBoxShell.append([m, x-1049, y-1049, z-1000, Vz]) #PUNTO\n",
    "                print(\"n\",m)\n",
    "            else :    \n",
    "                NewDMPBoxShell.append([m, x-1049, y-1049, z+50, Vz]) #ARISTA\n",
    "                print(\"o\",m)\n",
    "                \n",
    "        elif z < 50 :\n",
    "            NewDMPBoxShell.append([m, x-1049, y+1, z+1100, Vz]) #ARISTA\n",
    "            print(\"p\",m)\n",
    "        elif z > 1000 :\n",
    "            NewDMPBoxShell.append([m, x-1049, y+1, z-1000, Vz]) #ARISTA\n",
    "            print(\"q\",m)\n",
    "            \n",
    "        else :\n",
    "            NewDMPBoxShell.append([m, x-1049, y+1, z+50, Vz]) #CARA\n",
    "            print(\"r\",m)\n",
    "        \n",
    "    elif y < 1 :\n",
    "        if z < 50 :\n",
    "            NewDMPBoxShell.append([m, x+1, y+1051, z+1100, Vz]) #ARISTA\n",
    "            print(\"s\",m)\n",
    "        elif z > 1000 :\n",
    "            NewDMPBoxShell.append([m, x+1, y+1051, z-1000, Vz]) #ARISTA\n",
    "            print(\"t\",m)\n",
    "        else :\n",
    "            NewDMPBoxShell.append([m, x+1, y+1051, z+50, Vz]) #CARA\n",
    "            print(\"u\",m)\n",
    "        \n",
    "    elif y > 1049 :\n",
    "        if z < 50 :\n",
    "            NewDMPBoxShell.append([m, x+1, y-1049, z+1100, Vz]) #ARISTA\n",
    "            print(\"v\",m)\n",
    "        elif z > 1000 :\n",
    "            NewDMPBoxShell.append([m, x+1, y-1049, z-1000, Vz]) #ARISTA\n",
    "            print(\"w\",m)\n",
    "        else :\n",
    "            NewDMPBoxShell.append([m, x+1, y-1049, z+50, Vz]) #CARA\n",
    "            print(\"x\",m)\n",
    "        \n",
    "    elif z < 50 :\n",
    "        NewDMPBoxShell.append([m, x+1, y+1, z+1100, Vz]) #CARA\n",
    "        print(\"y\",m)             \n",
    "                  \n",
    "    elif z > 1000 :\n",
    "        NewDMPBoxShell.append([m, x+1, y+1, z-1000, Vz]) #CARA\n",
    "        print(\"z\",m)"
   ]
  },
  {
   "cell_type": "code",
   "execution_count": 58,
   "metadata": {},
   "outputs": [
    {
     "data": {
      "text/plain": [
       "[[1.0, 1051.5, 1051.05, 1110.0, 523.0],\n",
       " [2.0, 1051.05, 1051.5, 110.0, 765.0],\n",
       " [3.0, 1051.5, 1051.05, 750.0, 123.0],\n",
       " [4.0, 1051.05, 1051.5, 10.0, 673.0],\n",
       " [5.0, 1051.04, 0.2999999999999545, 1117.0, 654.0],\n",
       " [6.0, 1051.04, 905.0, 1117.0, 835.0],\n",
       " [7.0, 1051.4, 0.2999999999999545, 7.0, 924.0],\n",
       " [8.0, 1051.4, 0.2999999999999545, 617.0, 247.0],\n",
       " [9.0, 1051.4, 709.0, 23.0, 147.0],\n",
       " [10.0, 0.17000000000007276, 1051.7, 1143.0, 346.0],\n",
       " [11.0, 0.17000000000007276, 0.650000000000091, 1143.0, 547.0],\n",
       " [12.0, 31.17, 0.650000000000091, 1143.0, 457.0],\n",
       " [13.0, 31.17, 1051.65, 1143.0, 762.0],\n",
       " [14.0, 0.19000000000005457, 457.65, 1143.0, 256.0],\n",
       " [15.0, 1051.5, 11.05, 180.0, 246.0],\n",
       " [16.0, 21.5, 11.05, 1130.0, 987.0],\n",
       " [17.0, 0.30999999999994543, 1051.77, 11.0, 574.0],\n",
       " [18.0, 50.31, 1051.77, 11.0, 765.0],\n",
       " [19.0, 0.30999999999994543, 1051.77, 716.0, 872.0],\n",
       " [20.0, 964.0, 1051.77, 716.0, 356.0],\n",
       " [21.0, 0.30999999999994543, 0.7699999999999818, 11.0, 874.0],\n",
       " [22.0, 0.30999999999994543, 110.77, 11.0, 453.0],\n",
       " [23.0, 150.31, 0.7699999999999818, 11.0, 765.0],\n",
       " [24.0, 0.30999999999994543, 0.7699999999999818, 882.0, 675.0],\n",
       " [25.0, 350.31, 105.77, 11.0, 723.0],\n",
       " [26.0, 450.31, 0.7699999999999818, 691.0, 853.0],\n",
       " [27.0, 0.30999999999994543, 50.77, 325.0, 235.0]]"
      ]
     },
     "execution_count": 58,
     "metadata": {},
     "output_type": "execute_result"
    }
   ],
   "source": [
    "NewDMPBoxShell"
   ]
  },
  {
   "cell_type": "code",
   "execution_count": 59,
   "metadata": {},
   "outputs": [],
   "source": [
    "NewDMPBox = np.concatenate((DMP, NewDMPBoxShell))"
   ]
  },
  {
   "cell_type": "code",
   "execution_count": 60,
   "metadata": {},
   "outputs": [],
   "source": [
    "MostMassiveHalo = Halos[:,0].max()\n",
    "IDMostMassiveHalo = 0\n",
    "\n",
    "for x in Halos[:,0]:\n",
    "    if x == MostMassiveHalo:\n",
    "        break\n",
    "    IDMostMassiveHalo = IDMostMassiveHalo+1"
   ]
  },
  {
   "cell_type": "code",
   "execution_count": 61,
   "metadata": {},
   "outputs": [],
   "source": [
    "x0 = Halos[IDMostMassiveHalo,1].item() + 1\n",
    "y0 = Halos[IDMostMassiveHalo,2].item() + 1\n",
    "z0 = Halos[IDMostMassiveHalo,3].item() +50\n",
    "\n",
    "x0SupLim = x0+10\n",
    "x0InfLim = x0-10   #I added 10 instead of 1 because of the Testing file.\n",
    "y0SupLim = y0+10\n",
    "y0InfLim = y0-10\n",
    "z0SupLim = z0+50\n",
    "z0InfLim = z0-50"
   ]
  },
  {
   "cell_type": "code",
   "execution_count": 62,
   "metadata": {},
   "outputs": [],
   "source": [
    "Box = []\n",
    "Cylinder = []\n",
    "\n",
    "for x, y, z ,Vz in zip(NewDMPBox[:,1], NewDMPBox[:,2], NewDMPBox[:,3], NewDMPBox[:,4]) :\n",
    "    if (x <= x0SupLim) & (x >= x0InfLim) & (y <= y0SupLim) & (y >= y0InfLim) & (z <= z0SupLim) & (z >= z0InfLim) :\n",
    "        Box.append([x, y, z, Vz])\n",
    "        \n",
    "Box = np.array(Box)\n",
    "\n",
    "Delta = np.zeros((np.size(Box[:,0]),2))\n",
    "\n",
    "Delta[:,0]= Box[:,0]-x0\n",
    "Delta[:,1]= Box[:,1]-y0\n",
    "\n",
    "DistanceSquared = Delta[:,0]**2 + Delta[:,1]**2\n",
    "\n",
    "# np.where(DistanceSquared<=25)\n",
    "\n",
    "NewDMPBoxIndex = np.zeros((np.size(np.where(DistanceSquared<=100)),1))\n",
    "IndexNumbers = np.array(np.where(DistanceSquared<=100))\n",
    "NewDMPBoxIndex[:,0] = IndexNumbers\n",
    "\n",
    "for x in NewDMPBoxIndex[:,0] :\n",
    "    w = int(x)\n",
    "    Cylinder.append([Box[w,0], Box[w,1], Box[w,2], Box[w,3]])"
   ]
  },
  {
   "cell_type": "code",
   "execution_count": 63,
   "metadata": {},
   "outputs": [
    {
     "name": "stdout",
     "output_type": "stream",
     "text": [
      "[[501. 501. 600. 362.]] [[501.0, 501.0, 600.0, 362.0]]\n"
     ]
    }
   ],
   "source": [
    "print(Box,Cylinder)"
   ]
  },
  {
   "cell_type": "code",
   "execution_count": 64,
   "metadata": {},
   "outputs": [],
   "source": [
    "MMHVelocity = Halos[IDMostMassiveHalo,4]\n",
    "\n",
    "Cylinder = np.array(Cylinder)"
   ]
  },
  {
   "cell_type": "code",
   "execution_count": 65,
   "metadata": {},
   "outputs": [],
   "source": [
    "FinalVelocities = []\n",
    "\n",
    "for x in Cylinder[:,3] :\n",
    "    VelocityOfDMPRelativeToTheMMH = x - MMHVelocity\n",
    "    FinalVelocities.append(VelocityOfDMPRelativeToTheMMH)"
   ]
  },
  {
   "cell_type": "code",
   "execution_count": 66,
   "metadata": {},
   "outputs": [
    {
     "name": "stdout",
     "output_type": "stream",
     "text": [
      "[16.0]\n"
     ]
    }
   ],
   "source": [
    "print(FinalVelocities)"
   ]
  },
  {
   "cell_type": "code",
   "execution_count": 67,
   "metadata": {},
   "outputs": [
    {
     "data": {
      "image/png": "[encoded data removed]",
      "text/plain": [
       "<Figure size 432x288 with 1 Axes>"
      ]
     },
     "metadata": {
      "needs_background": "light"
     },
     "output_type": "display_data"
    }
   ],
   "source": [
    "plt.hist(FinalVelocities, density=True, bins=5)\n",
    "plt.ylabel('Probability');"
   ]
  },
  {
   "cell_type": "code",
   "execution_count": 68,
   "metadata": {},
   "outputs": [],
   "source": [
    "JustChecking = [[]]\n",
    "\n",
    "LOL=0\n",
    "for QQ in Halos[:,0] :\n",
    "    \n",
    "    Newlist = []\n",
    "    \n",
    "    for x in Cylinder[:,3] :\n",
    "        Newlist.append(x - MMHVelocity)\n",
    "        \n",
    "    FinalVelocities.append(Newlist)\n",
    "    \n",
    "    \n",
    "    JustChecking.append(Newlist)\n",
    "        \n",
    "    LOL=LOL+1"
   ]
  },
  {
   "cell_type": "code",
   "execution_count": 69,
   "metadata": {},
   "outputs": [
    {
     "name": "stdout",
     "output_type": "stream",
     "text": [
      "[[], [16.0], [16.0], [16.0], [16.0], [16.0], [16.0], [16.0], [16.0], [16.0], [16.0]]\n"
     ]
    }
   ],
   "source": [
    "print(JustChecking)"
   ]
  },
  {
   "cell_type": "code",
   "execution_count": 70,
   "metadata": {},
   "outputs": [],
   "source": [
    "Arrat = np.array([1,3,5,2,4,6])"
   ]
  },
  {
   "cell_type": "code",
   "execution_count": 72,
   "metadata": {},
   "outputs": [],
   "source": [
    "np.savetxt('FileExampleArray.txt',Arrat)"
   ]
  },
  {
   "cell_type": "code",
   "execution_count": null,
   "metadata": {},
   "outputs": [],
   "source": []
  }
 ],
 "metadata": {
  "kernelspec": {
   "display_name": "Python 3",
   "language": "python",
   "name": "python3"
  },
  "language_info": {
   "codemirror_mode": {
    "name": "ipython",
    "version": 3
   },
   "file_extension": ".py",
   "mimetype": "text/x-python",
   "name": "python",
   "nbconvert_exporter": "python",
   "pygments_lexer": "ipython3",
   "version": "3.7.3"
  }
 },
 "nbformat": 4,
 "nbformat_minor": 2
}
