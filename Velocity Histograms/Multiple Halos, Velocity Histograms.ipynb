{
 "cells": [
  {
   "cell_type": "code",
   "execution_count": 1,
   "metadata": {},
   "outputs": [],
   "source": [
    "from astropy.table import Table, Column\n",
    "import numpy as np\n",
    "import pandas as pd\n",
    "import matplotlib.pyplot as plt\n",
    "from matplotlib import colors\n",
    "import os\n",
    "import urllib.request\n",
    "from tqdm import tqdm\n",
    "import sys"
   ]
  },
  {
   "cell_type": "code",
   "execution_count": 2,
   "metadata": {},
   "outputs": [
    {
     "data": {
      "text/plain": [
       "'/calvin1/benardorci/SimulationData'"
      ]
     },
     "execution_count": 2,
     "metadata": {},
     "output_type": "execute_result"
    }
   ],
   "source": [
    "os.chdir(\"/calvin1/benardorci/SimulationData\")\n",
    "os.getcwd()"
   ]
  },
  {
   "cell_type": "code",
   "execution_count": 3,
   "metadata": {},
   "outputs": [],
   "source": [
    "Halos = np.load(\"/calvin1/benardorci/SimulationData/halos.npy\")\n",
    "DMP = np.load(\"/calvin1/benardorci/SimulationData/dm_cat_ds_1000.npy\")\n",
    "CheckingEverythingIsAlright = 117"
   ]
  },
  {
   "cell_type": "code",
   "execution_count": 4,
   "metadata": {},
   "outputs": [],
   "source": [
    "# MassBins, where:  \n",
    "\n",
    "MassBin1 = []    #         MB < 1e13\n",
    "MassBin2 = []    # 1e13 <= MB <5e13\n",
    "MassBin3 = []    # 5e13 <= MB <1e14\n",
    "MassBin4 = []    # 1e14 <= MB <5e14\n",
    "MassBin5 = []    # 5e14 <= MB <1e15\n",
    "MassBin6 = []    #         MB >= 1e15\n",
    "\n",
    "for m, x, y, z, Vx, Vy, Vz in zip(Halos[:,0], Halos[:,1], Halos[:,2], Halos[:,3], Halos[:,4], Halos[:,5], Halos[:,6]) :\n",
    "    if m >= 1.0*10**15 :\n",
    "        MassBin1.append([m, x, y, z, Vx, Vy, Vz])\n",
    "    elif m >= 5.0*10**14 :\n",
    "        MassBin2.append([m, x, y, z, Vx, Vy, Vz])\n",
    "    elif m >= 1.0*10**14 :\n",
    "        MassBin3.append([m, x, y, z, Vx, Vy, Vz])\n",
    "    elif m >= 5.0*10**13 :\n",
    "        MassBin4.append([m, x, y, z, Vx, Vy, Vz])\n",
    "    elif m >= 1.0*10**13 :\n",
    "        MassBin5.append([m, x, y, z, Vx, Vy, Vz])\n",
    "    else :\n",
    "        MassBin6.append([m, x, y, z, Vx, Vy, Vz])\n",
    "\n",
    "MassBin1 = np.array(MassBin1)\n",
    "MassBin2 = np.array(MassBin2)\n",
    "MassBin3 = np.array(MassBin3)\n",
    "MassBin4 = np.array(MassBin4)\n",
    "MassBin5 = np.array(MassBin5)\n",
    "MassBin6 = np.array(MassBin6)"
   ]
  },
  {
   "cell_type": "code",
   "execution_count": 5,
   "metadata": {},
   "outputs": [
    {
     "name": "stdout",
     "output_type": "stream",
     "text": [
      "117\n"
     ]
    }
   ],
   "source": [
    "print(CheckingEverythingIsAlright)"
   ]
  },
  {
   "cell_type": "code",
   "execution_count": 6,
   "metadata": {},
   "outputs": [],
   "source": [
    "Radius = 10\n",
    "HalfHeight = 525\n",
    "\n",
    "if ((Radius>525)&(HalfHeight>525)):\n",
    "    sys.exit(\"The Shell will not be complete!\")\n",
    "\n",
    "NewDMPBoxShell = []\n",
    "\n",
    "for m, x, y, z, Vx, Vy, Vz in zip(DMP[:,0], DMP[:,1], DMP[:,2], DMP[:,3], DMP[:,4], DMP[:,5], DMP[:,6]) :\n",
    "    if  x < Radius :\n",
    "        if y < Radius :\n",
    "            if z < HalfHeight :\n",
    "                NewDMPBoxShell.append([m, x+1050+Radius, y+1050+Radius, z+1050+HalfHeight, Vx, Vy, Vz]) #Vertice/Vertex\n",
    "            elif z > 1050-HalfHeight :\n",
    "                NewDMPBoxShell.append([m, x+1050+Radius, y+1050+Radius, z-1050+HalfHeight, Vx, Vy, Vz]) #Vertice/Vertex\n",
    "            \n",
    "        elif y > 1050-Radius :\n",
    "            if z < HalfHeight :\n",
    "                NewDMPBoxShell.append([m, x+1050+Radius, y-1050+Radius, z+1050+HalfHeight, Vx, Vy, Vz]) #Vertice/Vertex\n",
    "            elif z > 1050-HalfHeight :\n",
    "                NewDMPBoxShell.append([m, x+1050+Radius, y-1050+Radius, z-1050+HalfHeight, Vx, Vy, Vz]) #Vertice/Vertex\n",
    "            \n",
    "    elif  x > 1050-Radius :\n",
    "        if y < Radius :\n",
    "            if z < HalfHeight :\n",
    "                NewDMPBoxShell.append([m, x-1050+Radius, y+1050+Radius, z+1050+HalfHeight, Vx, Vy, Vz]) #Vertice/Vertex\n",
    "            elif z > 1050-HalfHeight :\n",
    "                NewDMPBoxShell.append([m, x-1050+Radius, y+1050+Radius, z-1050+HalfHeight, Vx, Vy, Vz]) #Vertice/Vertex\n",
    "            \n",
    "        elif y > 1050-Radius :\n",
    "            if z < HalfHeight :\n",
    "                NewDMPBoxShell.append([m, x-1050+Radius, y-1050+Radius, z+1050+HalfHeight, Vx, Vy, Vz]) #Vertice/Vertex\n",
    "            elif z > 1050-HalfHeight :\n",
    "                NewDMPBoxShell.append([m, x-1050+Radius, y-1050+Radius, z-1050+HalfHeight, Vx, Vy, Vz]) #Vertice/Vertex"
   ]
  },
  {
   "cell_type": "code",
   "execution_count": 7,
   "metadata": {},
   "outputs": [],
   "source": [
    "for m, x, y, z, Vx, Vy, Vz in zip(DMP[:,0], DMP[:,1], DMP[:,2], DMP[:,3], DMP[:,4], DMP[:,5], DMP[:,6]) :\n",
    "    if  x < Radius :\n",
    "        if y < Radius :    \n",
    "            NewDMPBoxShell.append([m, x+1050+Radius, y+1050+Radius, z+HalfHeight, Vx, Vy, Vz]) #Arista/Edge        \n",
    "        elif y > 1050-Radius :    \n",
    "            NewDMPBoxShell.append([m, x+1050+Radius, y-1050+Radius, z+HalfHeight, Vx, Vy, Vz]) #Arista/Edge\n",
    "\n",
    "    elif  x > 1050-Radius :\n",
    "        if y < Radius :    \n",
    "            NewDMPBoxShell.append([m, x-1050+Radius, y+1050+Radius, z+HalfHeight, Vx, Vy, Vz]) #Arista/Edge     \n",
    "        elif y > 1050-Radius :    \n",
    "            NewDMPBoxShell.append([m, x-1050+Radius, y-1050+Radius, z+HalfHeight, Vx, Vy, Vz]) #Arista/Edge"
   ]
  },
  {
   "cell_type": "code",
   "execution_count": 8,
   "metadata": {},
   "outputs": [],
   "source": [
    "for m, x, y, z, Vx, Vy, Vz in zip(DMP[:,0], DMP[:,1], DMP[:,2], DMP[:,3], DMP[:,4], DMP[:,5], DMP[:,6]) :\n",
    "    if y < Radius :\n",
    "        if z < HalfHeight :\n",
    "            NewDMPBoxShell.append([m, x+Radius, y+1050+Radius, z+1050+HalfHeight, Vx, Vy, Vz]) #Arista/Edge\n",
    "        elif z > 1050-HalfHeight :\n",
    "            NewDMPBoxShell.append([m, x+Radius, y+1050+Radius, z-1050+HalfHeight, Vx, Vy, Vz]) #Arista/Edge\n",
    "        \n",
    "    elif y > 1050-Radius :\n",
    "        if z < HalfHeight :\n",
    "            NewDMPBoxShell.append([m, x+Radius, y-1050+Radius, z+1050+HalfHeight, Vx, Vy, Vz]) #Arista/Edge\n",
    "        elif z > 1050-HalfHeight :\n",
    "            NewDMPBoxShell.append([m, x+Radius, y-1050+Radius, z-1050+HalfHeight, Vx, Vy, Vz]) #Arista/Edge"
   ]
  },
  {
   "cell_type": "code",
   "execution_count": 9,
   "metadata": {},
   "outputs": [],
   "source": [
    "for m, x, y, z, Vx, Vy, Vz in zip(DMP[:,0], DMP[:,1], DMP[:,2], DMP[:,3], DMP[:,4], DMP[:,5], DMP[:,6]) :\n",
    "    if  x < Radius :                \n",
    "        if z < HalfHeight :\n",
    "            NewDMPBoxShell.append([m, x+1050+Radius, y+Radius, z+1050+HalfHeight, Vx, Vy, Vz]) #Arista/Edge\n",
    "        elif z > 1050-HalfHeight :\n",
    "            NewDMPBoxShell.append([m, x+1050+Radius, y+Radius, z-1050+HalfHeight, Vx, Vy, Vz]) #Arista/Edge\n",
    "\n",
    "    elif  x > 1050-Radius :\n",
    "        if z < HalfHeight :\n",
    "            NewDMPBoxShell.append([m, x-1050+Radius, y+Radius, z+1050+HalfHeight, Vx, Vy, Vz]) #Arista/Edge\n",
    "        elif z > 1050-HalfHeight :\n",
    "            NewDMPBoxShell.append([m, x-1050+Radius, y+Radius, z-1050+HalfHeight, Vx, Vy, Vz]) #Arista/Edge"
   ]
  },
  {
   "cell_type": "code",
   "execution_count": 10,
   "metadata": {},
   "outputs": [],
   "source": [
    "for m, x, y, z, Vx, Vy, Vz in zip(DMP[:,0], DMP[:,1], DMP[:,2], DMP[:,3], DMP[:,4], DMP[:,5], DMP[:,6]) :\n",
    "    if  x < Radius :\n",
    "        NewDMPBoxShell.append([m, x+1050+Radius, y+Radius, z+HalfHeight, Vx, Vy, Vz]) #Cara/Face\n",
    "            \n",
    "    elif  x > 1050-Radius :\n",
    "        NewDMPBoxShell.append([m, x-1050+Radius, y+Radius, z+HalfHeight, Vx, Vy, Vz]) #Cara/Face"
   ]
  },
  {
   "cell_type": "code",
   "execution_count": 11,
   "metadata": {},
   "outputs": [],
   "source": [
    "for m, x, y, z, Vx, Vy, Vz in zip(DMP[:,0], DMP[:,1], DMP[:,2], DMP[:,3], DMP[:,4], DMP[:,5], DMP[:,6]) :\n",
    "    if y < Radius :\n",
    "        NewDMPBoxShell.append([m, x+Radius, y+1050+Radius, z+HalfHeight, Vx, Vy, Vz]) #Cara/Face\n",
    "        \n",
    "    elif y > 1050-Radius :\n",
    "        NewDMPBoxShell.append([m, x+Radius, y-1050+Radius, z+HalfHeight, Vx, Vy, Vz]) #Cara/Face"
   ]
  },
  {
   "cell_type": "code",
   "execution_count": 12,
   "metadata": {},
   "outputs": [],
   "source": [
    "for m, x, y, z, Vx, Vy, Vz in zip(DMP[:,0], DMP[:,1], DMP[:,2], DMP[:,3], DMP[:,4], DMP[:,5], DMP[:,6]) :\n",
    "    if z < HalfHeight :\n",
    "        NewDMPBoxShell.append([m, x+Radius, y+Radius, z+1050+HalfHeight, Vx, Vy, Vz]) #Cara/Face             \n",
    "                  \n",
    "    elif z > 1050-HalfHeight :\n",
    "        NewDMPBoxShell.append([m, x+Radius, y+Radius, z-1050+HalfHeight, Vx, Vy, Vz]) #Cara/Face"
   ]
  },
  {
   "cell_type": "code",
   "execution_count": 13,
   "metadata": {},
   "outputs": [],
   "source": [
    "DMP[:,1] = DMP[:,1] + Radius \n",
    "DMP[:,2] = DMP[:,2] + Radius \n",
    "DMP[:,3] = DMP[:,3] + HalfHeight"
   ]
  },
  {
   "cell_type": "code",
   "execution_count": 14,
   "metadata": {},
   "outputs": [
    {
     "name": "stdout",
     "output_type": "stream",
     "text": [
      "117\n"
     ]
    }
   ],
   "source": [
    "print(CheckingEverythingIsAlright)"
   ]
  },
  {
   "cell_type": "code",
   "execution_count": 15,
   "metadata": {},
   "outputs": [],
   "source": [
    "NewDMPBox = np.concatenate((DMP, NewDMPBoxShell))"
   ]
  },
  {
   "cell_type": "code",
   "execution_count": 16,
   "metadata": {},
   "outputs": [
    {
     "name": "stdout",
     "output_type": "stream",
     "text": [
      "117\n"
     ]
    }
   ],
   "source": [
    "print(CheckingEverythingIsAlright)"
   ]
  },
  {
   "cell_type": "code",
   "execution_count": 17,
   "metadata": {},
   "outputs": [
    {
     "name": "stderr",
     "output_type": "stream",
     "text": [
      "100%|██████████| 398/398 [01:22<00:00,  4.50it/s]\n"
     ]
    }
   ],
   "source": [
    "ID = 0\n",
    "\n",
    "FinalVelocities = []\n",
    "\n",
    "for QQ in tqdm(MassBin1[:,0]) :\n",
    "    \n",
    "    # ------------------------------ Setting up limits of a box ------------------------------\n",
    "    \n",
    "    x0 = MassBin1[ID,1].item() + Radius\n",
    "    y0 = MassBin1[ID,2].item() + Radius\n",
    "    z0 = MassBin1[ID,3].item() + HalfHeight\n",
    "\n",
    "    x0SupLim = x0+Radius\n",
    "    x0InfLim = x0-Radius\n",
    "    y0SupLim = y0+Radius\n",
    "    y0InfLim = y0-Radius\n",
    "    z0SupLim = z0+HalfHeight\n",
    "    z0InfLim = z0-HalfHeight\n",
    "    \n",
    "    DMPBoxIndex = np.where((NewDMPBox[:,1] >= x0InfLim)&(NewDMPBox[:,1] <= x0SupLim)&(NewDMPBox[:,2] >= y0InfLim)&\n",
    "                           (NewDMPBox[:,2] <= y0SupLim)&(NewDMPBox[:,3] >= z0InfLim)&(NewDMPBox[:,3] <= z0SupLim))[0]\n",
    "    \n",
    "    Box = np.zeros((np.size(np.where(DMPBoxIndex)),4))\n",
    "                   \n",
    "    Box[:,0] = NewDMPBox[DMPBoxIndex,1]\n",
    "    Box[:,1] = NewDMPBox[DMPBoxIndex,2]\n",
    "    Box[:,2] = NewDMPBox[DMPBoxIndex,3]\n",
    "    Box[:,3] = NewDMPBox[DMPBoxIndex,6]\n",
    "        \n",
    "    #Box = np.array(Box)\n",
    "    \n",
    "    # ------------------------------ Setting up limits of a cylinder ------------------------------\n",
    "    \n",
    "    Delta = np.zeros((np.size(Box[:,0]),2))\n",
    "\n",
    "    Delta[:,0]= Box[:,0]-x0\n",
    "    Delta[:,1]= Box[:,1]-y0\n",
    "\n",
    "    DistanceSquared = Delta[:,0]**2 + Delta[:,1]**2                          \n",
    "                                                                             \n",
    "    NewDMPBoxIndex = np.zeros((np.size(np.where(DistanceSquared<=np.power(Radius,2))),1))\n",
    "    IndexNumbers = np.array(np.where(DistanceSquared<=np.power(Radius,2))[0])                 \n",
    "    NewDMPBoxIndex[:,0] = IndexNumbers        \n",
    "    \n",
    "    Cylinder = np.zeros((np.size(IndexNumbers),4))\n",
    "        \n",
    "    Cylinder[:,0] = Box[IndexNumbers,0]\n",
    "    Cylinder[:,1] = Box[IndexNumbers,1]\n",
    "    Cylinder[:,2] = Box[IndexNumbers,2]\n",
    "    Cylinder[:,3] = Box[IndexNumbers,3]\n",
    "    \n",
    "    MBElementVelocity = MassBin1[ID,6]\n",
    "        \n",
    "    # ------------------------------ Saving velocities on an array ------------------------------\n",
    "    #\n",
    "    # Note: If you wanted to also save the mass of the particles, add another column to the 'Box'\n",
    "    # array (Box[:,4] = NewDMPBox[DMPBoxIndex,0])\n",
    "    #\n",
    "    #\n",
    "    #\n",
    "               \n",
    "    FinalVelocities = np.append(FinalVelocities,Cylinder[:,3]-MBElementVelocity)\n",
    "    \n",
    "    ID = ID+1"
   ]
  },
  {
   "cell_type": "code",
   "execution_count": 18,
   "metadata": {},
   "outputs": [],
   "source": [
    "########################################################################################################\n",
    "#np.save(\"/calvin1/benardorci/MassBin3HistogramsDS1000Height2Radius0dot5.npy\",FinalVelocities)"
   ]
  },
  {
   "cell_type": "code",
   "execution_count": 20,
   "metadata": {},
   "outputs": [
    {
     "data": {
      "text/plain": [
       "<function matplotlib.pyplot.show(*args, **kw)>"
      ]
     },
     "execution_count": 20,
     "metadata": {},
     "output_type": "execute_result"
    },
    {
     "data": {
      "image/png": "[encoded data removed]",
      "text/plain": [
       "<Figure size 432x288 with 1 Axes>"
      ]
     },
     "metadata": {
      "needs_background": "light"
     },
     "output_type": "display_data"
    }
   ],
   "source": [
    "# ---------------------- Velocity in a cylinder relative to a Halo's velociy Histogram ----------------------\n",
    "\n",
    "plt.hist(FinalVelocities, bins=200) #density=True\n",
    "plt.xlim(-3000,3000)\n",
    "plt.show\n",
    "########################################################################################################\n",
    "#plt.savefig(\"/calvin1/benardorci/MassBin3HistogramsDS1000Height2Radius0dot5.png\")"
   ]
  },
  {
   "cell_type": "code",
   "execution_count": null,
   "metadata": {},
   "outputs": [],
   "source": []
  }
 ],
 "metadata": {
  "kernelspec": {
   "display_name": "Python 3",
   "language": "python",
   "name": "python3"
  },
  "language_info": {
   "codemirror_mode": {
    "name": "ipython",
    "version": 3
   },
   "file_extension": ".py",
   "mimetype": "text/x-python",
   "name": "python",
   "nbconvert_exporter": "python",
   "pygments_lexer": "ipython3",
   "version": "3.7.3"
  }
 },
 "nbformat": 4,
 "nbformat_minor": 2
}
