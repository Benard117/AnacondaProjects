{
 "cells": [
  {
   "cell_type": "code",
   "execution_count": 1,
   "metadata": {},
   "outputs": [],
   "source": [
    "from astropy.table import Table, Column\n",
    "import numpy as np\n",
    "from numpy.linalg import inv \n",
    "import pandas as pd\n",
    "import matplotlib.pyplot as plt\n",
    "import os\n",
    "import urllib.request"
   ]
  },
  {
   "cell_type": "code",
   "execution_count": 2,
   "metadata": {},
   "outputs": [
    {
     "data": {
      "text/plain": [
       "'C:\\\\Users\\\\Roberto Benard Orci\\\\Documents\\\\Python Scripts'"
      ]
     },
     "execution_count": 2,
     "metadata": {},
     "output_type": "execute_result"
    }
   ],
   "source": [
    "os.chdir(\"/Users/Roberto Benard Orci/Documents/Python Scripts\")\n",
    "os.getcwd()"
   ]
  },
  {
   "cell_type": "code",
   "execution_count": 5,
   "metadata": {},
   "outputs": [],
   "source": [
    "Table1 = np.loadtxt(fname = \"/Users/Roberto Benard Orci/Documents/Python Scripts/Table3.txt\")\n",
    "\n",
    "column_names = ['ID', 'x', 'y','Sigma y', 'Sigma x', 'Rho xy']\n",
    "\n",
    "Table1 = pd.DataFrame(Table1, columns=column_names)"
   ]
  },
  {
   "cell_type": "code",
   "execution_count": 8,
   "metadata": {},
   "outputs": [],
   "source": [
    "Matrix_Y_Transpose = np.array([Table1['y']])\n",
    "\n",
    "Matrix_Y = Matrix_Y_Transpose.transpose()"
   ]
  },
  {
   "cell_type": "code",
   "execution_count": 13,
   "metadata": {},
   "outputs": [],
   "source": [
    "LineOfOnes = np.linspace(1, 1, Table1['ID'].idxmax()+1)\n",
    "\n",
    "Matrix_A_Transpose = np.array([LineOfOnes,Table1['x'],Table1['x']*Table1['x']])\n",
    "\n",
    "Matrix_A = Matrix_A_Transpose.transpose()\n",
    "\n",
    "Covariance_Matrix = np.diag(Table1['Sigma y']*Table1['Sigma y'])\n",
    "\n",
    "Covariance_Matrix_Inverse = inv(Covariance_Matrix)"
   ]
  },
  {
   "cell_type": "code",
   "execution_count": 15,
   "metadata": {},
   "outputs": [],
   "source": [
    "MAT_times_CMI = np.matmul(Matrix_A_Transpose,Covariance_Matrix_Inverse)\n",
    "\n",
    "MAT_CMI_times_MA = np.matmul(MAT_times_CMI,Matrix_A)\n",
    "\n",
    "MAT_CMI_times_MA_Inverse = inv(MAT_CMI_times_MA)\n",
    "\n",
    "MAT_CMI_times_MY = np.matmul(MAT_times_CMI,Matrix_Y)\n",
    "\n",
    "Matrix_X = np.matmul(MAT_CMI_times_MA_Inverse,MAT_CMI_times_MY)"
   ]
  },
  {
   "cell_type": "code",
   "execution_count": 20,
   "metadata": {},
   "outputs": [
    {
     "name": "stdout",
     "output_type": "stream",
     "text": [
      "0.0022988884081209804 1.5960504522748806 72.89462647167238\n"
     ]
    }
   ],
   "source": [
    "b = Matrix_X[0].item()\n",
    "m = Matrix_X[1].item()\n",
    "q = Matrix_X[2].item()\n",
    "\n",
    "print(q,m,b)"
   ]
  },
  {
   "cell_type": "code",
   "execution_count": 21,
   "metadata": {},
   "outputs": [],
   "source": [
    "def f(t):\n",
    "    return q*t**2 + t*m +b\n",
    "\n",
    "t3 = np.arange(0.0, 300.0, 0.1)\n",
    "t4 = np.arange(0.0, 300.0, 0.02)"
   ]
  },
  {
   "cell_type": "code",
   "execution_count": 22,
   "metadata": {},
   "outputs": [
    {
     "data": {
      "text/plain": [
       "[<matplotlib.lines.Line2D at 0x1a43ddb5630>]"
      ]
     },
     "execution_count": 22,
     "metadata": {},
     "output_type": "execute_result"
    },
    {
     "data": {
      "image/png": "[encoded data removed]",
      "text/plain": [
       "<Figure size 432x288 with 1 Axes>"
      ]
     },
     "metadata": {
      "needs_background": "light"
     },
     "output_type": "display_data"
    }
   ],
   "source": [
    "error = Table1['Sigma y']\n",
    "plt.errorbar(Table1['x'], Table1['y'], yerr=error, fmt='ko',capsize=4)\n",
    "plt.plot(t4, f(t4), 'k')"
   ]
  },
  {
   "cell_type": "code",
   "execution_count": null,
   "metadata": {},
   "outputs": [],
   "source": []
  }
 ],
 "metadata": {
  "kernelspec": {
   "display_name": "Python 3",
   "language": "python",
   "name": "python3"
  },
  "language_info": {
   "codemirror_mode": {
    "name": "ipython",
    "version": 3
   },
   "file_extension": ".py",
   "mimetype": "text/x-python",
   "name": "python",
   "nbconvert_exporter": "python",
   "pygments_lexer": "ipython3",
   "version": "3.7.3"
  }
 },
 "nbformat": 4,
 "nbformat_minor": 2
}
