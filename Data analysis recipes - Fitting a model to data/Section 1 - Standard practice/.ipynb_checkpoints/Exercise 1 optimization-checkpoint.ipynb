{
 "cells": [
  {
   "cell_type": "code",
   "execution_count": 233,
   "metadata": {},
   "outputs": [],
   "source": [
    "from astropy.table import Table, Column\n",
    "import numpy as np\n",
    "import pandas as pd\n",
    "import os\n",
    "import urllib.request"
   ]
  },
  {
   "cell_type": "code",
   "execution_count": 234,
   "metadata": {},
   "outputs": [
    {
     "data": {
      "text/plain": [
       "'C:\\\\Users\\\\Roberto Benard Orci\\\\Documents\\\\Python Scripts'"
      ]
     },
     "execution_count": 234,
     "metadata": {},
     "output_type": "execute_result"
    }
   ],
   "source": [
    "os.chdir(\"/Users/Roberto Benard Orci/Documents/Python Scripts\")\n",
    "os.getcwd()"
   ]
  },
  {
   "cell_type": "code",
   "execution_count": 235,
   "metadata": {},
   "outputs": [],
   "source": [
    "Table1 = np.loadtxt(fname = \"/Users/Roberto Benard Orci/Documents/Python Scripts/Table1.txt\")"
   ]
  },
  {
   "cell_type": "code",
   "execution_count": 236,
   "metadata": {},
   "outputs": [
    {
     "name": "stdout",
     "output_type": "stream",
     "text": [
      "      ID      x      y  Sigma y  Sigma x  Rho xy\n",
      "0    1.0  201.0  592.0     61.0      9.0   -0.84\n",
      "1    2.0  244.0  401.0     25.0      4.0    0.31\n",
      "2    3.0   47.0  583.0     38.0     11.0    0.64\n",
      "3    4.0  287.0  402.0     15.0      7.0   -0.27\n",
      "4    5.0  203.0  495.0     21.0      5.0   -0.33\n",
      "5    6.0   58.0  173.0     15.0      9.0    0.67\n",
      "6    7.0  210.0  479.0     27.0      4.0   -0.02\n",
      "7    8.0  202.0  504.0     14.0      4.0   -0.05\n",
      "8    9.0  198.0  510.0     30.0     11.0   -0.84\n",
      "9   10.0  158.0  416.0     16.0      7.0   -0.69\n",
      "10  11.0  165.0  393.0     14.0      5.0    0.30\n",
      "11  12.0  201.0  442.0     25.0      5.0   -0.46\n",
      "12  13.0  157.0  317.0     52.0      5.0   -0.03\n",
      "13  14.0  131.0  311.0     16.0      6.0    0.50\n",
      "14  15.0  166.0  400.0     34.0      6.0    0.73\n",
      "15  16.0  160.0  337.0     31.0      5.0   -0.52\n",
      "16  17.0  186.0  423.0     42.0      9.0    0.90\n",
      "17  18.0  125.0  334.0     26.0      8.0    0.40\n",
      "18  19.0  218.0  533.0     16.0      6.0   -0.78\n",
      "19  20.0  146.0  344.0     22.0      5.0   -0.56\n"
     ]
    }
   ],
   "source": [
    "column_names = ['ID', 'x', 'y','Sigma y', 'Sigma x', 'Rho xy']\n",
    "\n",
    "Table1 = pd.DataFrame(Table1, columns=column_names)\n",
    "print(Table1)"
   ]
  },
  {
   "cell_type": "code",
   "execution_count": 237,
   "metadata": {},
   "outputs": [],
   "source": [
    "Table2 = np.loadtxt(fname = \"/Users/Roberto Benard Orci/Documents/Python Scripts/Table2.txt\")"
   ]
  },
  {
   "cell_type": "code",
   "execution_count": 238,
   "metadata": {},
   "outputs": [
    {
     "name": "stdout",
     "output_type": "stream",
     "text": [
      "      ID      x      y  Sigma y\n",
      "0    5.0  203.0  495.0     21.0\n",
      "1    6.0   58.0  173.0     15.0\n",
      "2    7.0  210.0  479.0     27.0\n",
      "3    8.0  202.0  504.0     14.0\n",
      "4    9.0  198.0  510.0     30.0\n",
      "5   10.0  158.0  416.0     16.0\n",
      "6   11.0  165.0  393.0     14.0\n",
      "7   12.0  201.0  442.0     25.0\n",
      "8   13.0  157.0  317.0     52.0\n",
      "9   14.0  131.0  311.0     16.0\n",
      "10  15.0  166.0  400.0     34.0\n",
      "11  16.0  160.0  337.0     31.0\n",
      "12  17.0  186.0  423.0     42.0\n",
      "13  18.0  125.0  334.0     26.0\n",
      "14  19.0  218.0  533.0     16.0\n",
      "15  20.0  146.0  344.0     22.0\n"
     ]
    }
   ],
   "source": [
    "column_names = ['ID', 'x', 'y','Sigma y']\n",
    "\n",
    "Table2 = pd.DataFrame(Table2, columns=column_names)\n",
    "print(Table2)"
   ]
  },
  {
   "cell_type": "code",
   "execution_count": 239,
   "metadata": {},
   "outputs": [],
   "source": [
    "Matrix_Y_Transpose = np.array([Table2['y']])"
   ]
  },
  {
   "cell_type": "code",
   "execution_count": 240,
   "metadata": {},
   "outputs": [
    {
     "name": "stdout",
     "output_type": "stream",
     "text": [
      "[[495. 173. 479. 504. 510. 416. 393. 442. 317. 311. 400. 337. 423. 334.\n",
      "  533. 344.]]\n"
     ]
    }
   ],
   "source": [
    "print(Matrix_Y_Transpose)"
   ]
  },
  {
   "cell_type": "code",
   "execution_count": 241,
   "metadata": {},
   "outputs": [],
   "source": [
    "Matrix_Y = Matrix_Y_Transpose.transpose()"
   ]
  },
  {
   "cell_type": "code",
   "execution_count": 242,
   "metadata": {},
   "outputs": [
    {
     "name": "stdout",
     "output_type": "stream",
     "text": [
      "[[495.]\n",
      " [173.]\n",
      " [479.]\n",
      " [504.]\n",
      " [510.]\n",
      " [416.]\n",
      " [393.]\n",
      " [442.]\n",
      " [317.]\n",
      " [311.]\n",
      " [400.]\n",
      " [337.]\n",
      " [423.]\n",
      " [334.]\n",
      " [533.]\n",
      " [344.]]\n"
     ]
    }
   ],
   "source": [
    "print(Matrix_Y)"
   ]
  },
  {
   "cell_type": "code",
   "execution_count": 243,
   "metadata": {},
   "outputs": [
    {
     "name": "stdout",
     "output_type": "stream",
     "text": [
      "[1. 1. 1. 1. 1. 1. 1. 1. 1. 1. 1. 1. 1. 1. 1. 1.]\n"
     ]
    }
   ],
   "source": [
    "LineOfOnes = np.linspace(1, 1, Table2['ID'].idxmax()+1)\n",
    "print(LineOfOnes)"
   ]
  },
  {
   "cell_type": "code",
   "execution_count": 244,
   "metadata": {},
   "outputs": [],
   "source": [
    "Matrix_A_Transpose = np.array([LineOfOnes,Table2['x']])"
   ]
  },
  {
   "cell_type": "code",
   "execution_count": 245,
   "metadata": {},
   "outputs": [
    {
     "name": "stdout",
     "output_type": "stream",
     "text": [
      "[[  1.   1.   1.   1.   1.   1.   1.   1.   1.   1.   1.   1.   1.   1.\n",
      "    1.   1.]\n",
      " [203.  58. 210. 202. 198. 158. 165. 201. 157. 131. 166. 160. 186. 125.\n",
      "  218. 146.]]\n"
     ]
    }
   ],
   "source": [
    "print(Matrix_A_Transpose)"
   ]
  },
  {
   "cell_type": "code",
   "execution_count": 246,
   "metadata": {},
   "outputs": [],
   "source": [
    "Covariance_Matrix = np.diag(Table2['Sigma y']*Table2['Sigma y'])"
   ]
  },
  {
   "cell_type": "code",
   "execution_count": 247,
   "metadata": {},
   "outputs": [
    {
     "name": "stdout",
     "output_type": "stream",
     "text": [
      "[[ 441.    0.    0.    0.    0.    0.    0.    0.    0.    0.    0.    0.\n",
      "     0.    0.    0.    0.]\n",
      " [   0.  225.    0.    0.    0.    0.    0.    0.    0.    0.    0.    0.\n",
      "     0.    0.    0.    0.]\n",
      " [   0.    0.  729.    0.    0.    0.    0.    0.    0.    0.    0.    0.\n",
      "     0.    0.    0.    0.]\n",
      " [   0.    0.    0.  196.    0.    0.    0.    0.    0.    0.    0.    0.\n",
      "     0.    0.    0.    0.]\n",
      " [   0.    0.    0.    0.  900.    0.    0.    0.    0.    0.    0.    0.\n",
      "     0.    0.    0.    0.]\n",
      " [   0.    0.    0.    0.    0.  256.    0.    0.    0.    0.    0.    0.\n",
      "     0.    0.    0.    0.]\n",
      " [   0.    0.    0.    0.    0.    0.  196.    0.    0.    0.    0.    0.\n",
      "     0.    0.    0.    0.]\n",
      " [   0.    0.    0.    0.    0.    0.    0.  625.    0.    0.    0.    0.\n",
      "     0.    0.    0.    0.]\n",
      " [   0.    0.    0.    0.    0.    0.    0.    0. 2704.    0.    0.    0.\n",
      "     0.    0.    0.    0.]\n",
      " [   0.    0.    0.    0.    0.    0.    0.    0.    0.  256.    0.    0.\n",
      "     0.    0.    0.    0.]\n",
      " [   0.    0.    0.    0.    0.    0.    0.    0.    0.    0. 1156.    0.\n",
      "     0.    0.    0.    0.]\n",
      " [   0.    0.    0.    0.    0.    0.    0.    0.    0.    0.    0.  961.\n",
      "     0.    0.    0.    0.]\n",
      " [   0.    0.    0.    0.    0.    0.    0.    0.    0.    0.    0.    0.\n",
      "  1764.    0.    0.    0.]\n",
      " [   0.    0.    0.    0.    0.    0.    0.    0.    0.    0.    0.    0.\n",
      "     0.  676.    0.    0.]\n",
      " [   0.    0.    0.    0.    0.    0.    0.    0.    0.    0.    0.    0.\n",
      "     0.    0.  256.    0.]\n",
      " [   0.    0.    0.    0.    0.    0.    0.    0.    0.    0.    0.    0.\n",
      "     0.    0.    0.  484.]]\n"
     ]
    }
   ],
   "source": [
    "print(Covariance_Matrix )"
   ]
  },
  {
   "cell_type": "code",
   "execution_count": 248,
   "metadata": {},
   "outputs": [],
   "source": [
    "Matrix_A = Matrix_A_Transpose.transpose()"
   ]
  },
  {
   "cell_type": "code",
   "execution_count": 249,
   "metadata": {},
   "outputs": [
    {
     "name": "stdout",
     "output_type": "stream",
     "text": [
      "[[  1. 203.]\n",
      " [  1.  58.]\n",
      " [  1. 210.]\n",
      " [  1. 202.]\n",
      " [  1. 198.]\n",
      " [  1. 158.]\n",
      " [  1. 165.]\n",
      " [  1. 201.]\n",
      " [  1. 157.]\n",
      " [  1. 131.]\n",
      " [  1. 166.]\n",
      " [  1. 160.]\n",
      " [  1. 186.]\n",
      " [  1. 125.]\n",
      " [  1. 218.]\n",
      " [  1. 146.]]\n"
     ]
    }
   ],
   "source": [
    "print(Matrix_A)"
   ]
  },
  {
   "cell_type": "code",
   "execution_count": 250,
   "metadata": {},
   "outputs": [],
   "source": [
    "from numpy.linalg import inv "
   ]
  },
  {
   "cell_type": "code",
   "execution_count": 251,
   "metadata": {},
   "outputs": [],
   "source": [
    "Covariance_Matrix_Inverse = inv(Covariance_Matrix)"
   ]
  },
  {
   "cell_type": "code",
   "execution_count": 252,
   "metadata": {},
   "outputs": [
    {
     "name": "stdout",
     "output_type": "stream",
     "text": [
      "[[0.00226757 0.         0.         0.         0.         0.\n",
      "  0.         0.         0.         0.         0.         0.\n",
      "  0.         0.         0.         0.        ]\n",
      " [0.         0.00444444 0.         0.         0.         0.\n",
      "  0.         0.         0.         0.         0.         0.\n",
      "  0.         0.         0.         0.        ]\n",
      " [0.         0.         0.00137174 0.         0.         0.\n",
      "  0.         0.         0.         0.         0.         0.\n",
      "  0.         0.         0.         0.        ]\n",
      " [0.         0.         0.         0.00510204 0.         0.\n",
      "  0.         0.         0.         0.         0.         0.\n",
      "  0.         0.         0.         0.        ]\n",
      " [0.         0.         0.         0.         0.00111111 0.\n",
      "  0.         0.         0.         0.         0.         0.\n",
      "  0.         0.         0.         0.        ]\n",
      " [0.         0.         0.         0.         0.         0.00390625\n",
      "  0.         0.         0.         0.         0.         0.\n",
      "  0.         0.         0.         0.        ]\n",
      " [0.         0.         0.         0.         0.         0.\n",
      "  0.00510204 0.         0.         0.         0.         0.\n",
      "  0.         0.         0.         0.        ]\n",
      " [0.         0.         0.         0.         0.         0.\n",
      "  0.         0.0016     0.         0.         0.         0.\n",
      "  0.         0.         0.         0.        ]\n",
      " [0.         0.         0.         0.         0.         0.\n",
      "  0.         0.         0.00036982 0.         0.         0.\n",
      "  0.         0.         0.         0.        ]\n",
      " [0.         0.         0.         0.         0.         0.\n",
      "  0.         0.         0.         0.00390625 0.         0.\n",
      "  0.         0.         0.         0.        ]\n",
      " [0.         0.         0.         0.         0.         0.\n",
      "  0.         0.         0.         0.         0.00086505 0.\n",
      "  0.         0.         0.         0.        ]\n",
      " [0.         0.         0.         0.         0.         0.\n",
      "  0.         0.         0.         0.         0.         0.00104058\n",
      "  0.         0.         0.         0.        ]\n",
      " [0.         0.         0.         0.         0.         0.\n",
      "  0.         0.         0.         0.         0.         0.\n",
      "  0.00056689 0.         0.         0.        ]\n",
      " [0.         0.         0.         0.         0.         0.\n",
      "  0.         0.         0.         0.         0.         0.\n",
      "  0.         0.00147929 0.         0.        ]\n",
      " [0.         0.         0.         0.         0.         0.\n",
      "  0.         0.         0.         0.         0.         0.\n",
      "  0.         0.         0.00390625 0.        ]\n",
      " [0.         0.         0.         0.         0.         0.\n",
      "  0.         0.         0.         0.         0.         0.\n",
      "  0.         0.         0.         0.00206612]]\n"
     ]
    }
   ],
   "source": [
    "print(Covariance_Matrix_Inverse)"
   ]
  },
  {
   "cell_type": "code",
   "execution_count": 253,
   "metadata": {},
   "outputs": [],
   "source": [
    "MAT_times_CMI = np.matmul(Matrix_A_Transpose,Covariance_Matrix_Inverse)"
   ]
  },
  {
   "cell_type": "code",
   "execution_count": 254,
   "metadata": {},
   "outputs": [
    {
     "name": "stdout",
     "output_type": "stream",
     "text": [
      "[[2.26757370e-03 4.44444444e-03 1.37174211e-03 5.10204082e-03\n",
      "  1.11111111e-03 3.90625000e-03 5.10204082e-03 1.60000000e-03\n",
      "  3.69822485e-04 3.90625000e-03 8.65051903e-04 1.04058273e-03\n",
      "  5.66893424e-04 1.47928994e-03 3.90625000e-03 2.06611570e-03]\n",
      " [4.60317460e-01 2.57777778e-01 2.88065844e-01 1.03061224e+00\n",
      "  2.20000000e-01 6.17187500e-01 8.41836735e-01 3.21600000e-01\n",
      "  5.80621302e-02 5.11718750e-01 1.43598616e-01 1.66493236e-01\n",
      "  1.05442177e-01 1.84911243e-01 8.51562500e-01 3.01652893e-01]]\n"
     ]
    }
   ],
   "source": [
    "print(MAT_times_CMI)"
   ]
  },
  {
   "cell_type": "code",
   "execution_count": 255,
   "metadata": {},
   "outputs": [],
   "source": [
    "MAT_CMI_times_MA = np.matmul(MAT_times_CMI,Matrix_A)"
   ]
  },
  {
   "cell_type": "code",
   "execution_count": 256,
   "metadata": {},
   "outputs": [
    {
     "name": "stdout",
     "output_type": "stream",
     "text": [
      "[[3.91054592e-02 6.36083911e+00]\n",
      " [6.36083911e+00 1.12072864e+03]]\n"
     ]
    }
   ],
   "source": [
    "print(MAT_CMI_times_MA)"
   ]
  },
  {
   "cell_type": "code",
   "execution_count": 257,
   "metadata": {},
   "outputs": [],
   "source": [
    "MAT_CMI_times_MA_Inverse = inv(MAT_CMI_times_MA)"
   ]
  },
  {
   "cell_type": "code",
   "execution_count": 258,
   "metadata": {},
   "outputs": [
    {
     "name": "stdout",
     "output_type": "stream",
     "text": [
      "[[ 3.32922601e+02 -1.88954491e+00]\n",
      " [-1.88954491e+00  1.16166311e-02]]\n"
     ]
    }
   ],
   "source": [
    "print(MAT_CMI_times_MA_Inverse)"
   ]
  },
  {
   "cell_type": "code",
   "execution_count": 259,
   "metadata": {},
   "outputs": [],
   "source": [
    "MAT_CMI_times_MY = np.matmul(MAT_times_CMI,Matrix_Y)"
   ]
  },
  {
   "cell_type": "code",
   "execution_count": 260,
   "metadata": {},
   "outputs": [
    {
     "name": "stdout",
     "output_type": "stream",
     "text": [
      "[[  15.57922805]\n",
      " [2726.91554254]]\n"
     ]
    }
   ],
   "source": [
    "print(MAT_CMI_times_MY)"
   ]
  },
  {
   "cell_type": "code",
   "execution_count": 261,
   "metadata": {},
   "outputs": [],
   "source": [
    "Matrix_X = np.matmul(MAT_CMI_times_MA_Inverse,MAT_CMI_times_MY)"
   ]
  },
  {
   "cell_type": "code",
   "execution_count": 262,
   "metadata": {},
   "outputs": [
    {
     "name": "stdout",
     "output_type": "stream",
     "text": [
      "[[34.04772776]\n",
      " [ 2.23992083]]\n"
     ]
    }
   ],
   "source": [
    "print(Matrix_X)"
   ]
  },
  {
   "cell_type": "code",
   "execution_count": 263,
   "metadata": {},
   "outputs": [],
   "source": [
    "m = Matrix_X[1].item()\n",
    "b = Matrix_X[0].item()"
   ]
  },
  {
   "cell_type": "code",
   "execution_count": 264,
   "metadata": {},
   "outputs": [
    {
     "name": "stdout",
     "output_type": "stream",
     "text": [
      "2.239920831631089 34.047727757542816\n"
     ]
    }
   ],
   "source": [
    "print(m,b)"
   ]
  },
  {
   "cell_type": "code",
   "execution_count": 265,
   "metadata": {},
   "outputs": [],
   "source": [
    "import matplotlib.pyplot as plt"
   ]
  },
  {
   "cell_type": "code",
   "execution_count": 266,
   "metadata": {},
   "outputs": [
    {
     "data": {
      "text/plain": [
       "[<matplotlib.lines.Line2D at 0x1e251d6e320>]"
      ]
     },
     "execution_count": 266,
     "metadata": {},
     "output_type": "execute_result"
    },
    {
     "data": {
      "image/png": "[encoded data removed]",
      "text/plain": [
       "<Figure size 432x288 with 1 Axes>"
      ]
     },
     "metadata": {
      "needs_background": "light"
     },
     "output_type": "display_data"
    }
   ],
   "source": [
    "plt.plot(Table2['x'],Table2['y'],'ro')"
   ]
  },
  {
   "cell_type": "code",
   "execution_count": 267,
   "metadata": {},
   "outputs": [],
   "source": [
    "def f(t):\n",
    "    return t*m +b"
   ]
  },
  {
   "cell_type": "code",
   "execution_count": 268,
   "metadata": {},
   "outputs": [],
   "source": [
    "t3 = np.arange(0.0, 300.0, 0.1)\n",
    "t4 = np.arange(0.0, 300.0, 0.02)"
   ]
  },
  {
   "cell_type": "code",
   "execution_count": 269,
   "metadata": {},
   "outputs": [
    {
     "data": {
      "text/plain": [
       "[<matplotlib.lines.Line2D at 0x1e251dd2470>]"
      ]
     },
     "execution_count": 269,
     "metadata": {},
     "output_type": "execute_result"
    },
    {
     "data": {
      "image/png": "[encoded data removed]",
      "text/plain": [
       "<Figure size 432x288 with 1 Axes>"
      ]
     },
     "metadata": {
      "needs_background": "light"
     },
     "output_type": "display_data"
    }
   ],
   "source": [
    "plt.plot(t4, f(t4), 'k')"
   ]
  },
  {
   "cell_type": "code",
   "execution_count": 270,
   "metadata": {},
   "outputs": [
    {
     "data": {
      "text/plain": [
       "[<matplotlib.lines.Line2D at 0x1e251e052b0>]"
      ]
     },
     "execution_count": 270,
     "metadata": {},
     "output_type": "execute_result"
    },
    {
     "data": {
      "image/png": "[encoded data removed]",
      "text/plain": [
       "<Figure size 432x288 with 1 Axes>"
      ]
     },
     "metadata": {
      "needs_background": "light"
     },
     "output_type": "display_data"
    }
   ],
   "source": [
    "plt.plot(Table2['x'],Table2['y'],'ro')\n",
    "plt.plot(t4, f(t4), 'k')"
   ]
  },
  {
   "cell_type": "code",
   "execution_count": 271,
   "metadata": {},
   "outputs": [
    {
     "data": {
      "text/plain": [
       "<ErrorbarContainer object of 3 artists>"
      ]
     },
     "execution_count": 271,
     "metadata": {},
     "output_type": "execute_result"
    },
    {
     "data": {
      "image/png": "[encoded data removed]",
      "text/plain": [
       "<Figure size 432x288 with 1 Axes>"
      ]
     },
     "metadata": {
      "needs_background": "light"
     },
     "output_type": "display_data"
    }
   ],
   "source": [
    "error = Table2['Sigma y']\n",
    "plt.errorbar(Table2['x'], Table2['y'], yerr=error, fmt='o', capsize=8)"
   ]
  },
  {
   "cell_type": "code",
   "execution_count": 272,
   "metadata": {},
   "outputs": [
    {
     "data": {
      "text/plain": [
       "[<matplotlib.lines.Line2D at 0x1e251ed42e8>]"
      ]
     },
     "execution_count": 272,
     "metadata": {},
     "output_type": "execute_result"
    },
    {
     "data": {
      "image/png": "[encoded data removed]",
      "text/plain": [
       "<Figure size 432x288 with 1 Axes>"
      ]
     },
     "metadata": {
      "needs_background": "light"
     },
     "output_type": "display_data"
    }
   ],
   "source": [
    "error = Table2['Sigma y']\n",
    "plt.errorbar(Table2['x'], Table2['y'], yerr=error, fmt='ko',capsize=4)\n",
    "plt.plot(t4, f(t4), 'k')"
   ]
  },
  {
   "cell_type": "code",
   "execution_count": null,
   "metadata": {},
   "outputs": [],
   "source": []
  }
 ],
 "metadata": {
  "kernelspec": {
   "display_name": "Python 3",
   "language": "python",
   "name": "python3"
  },
  "language_info": {
   "codemirror_mode": {
    "name": "ipython",
    "version": 3
   },
   "file_extension": ".py",
   "mimetype": "text/x-python",
   "name": "python",
   "nbconvert_exporter": "python",
   "pygments_lexer": "ipython3",
   "version": "3.7.3"
  }
 },
 "nbformat": 4,
 "nbformat_minor": 2
}
