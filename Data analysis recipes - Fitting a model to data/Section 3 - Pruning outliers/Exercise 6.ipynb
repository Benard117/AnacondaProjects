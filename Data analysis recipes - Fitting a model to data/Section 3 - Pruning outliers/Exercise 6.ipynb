{
 "cells": [
  {
   "cell_type": "code",
   "execution_count": 1,
   "metadata": {},
   "outputs": [],
   "source": [
    "from astropy.table import Table, Column\n",
    "import numpy as np\n",
    "from numpy.linalg import inv \n",
    "import pandas as pd\n",
    "import matplotlib.pyplot as plt\n",
    "import os\n",
    "import urllib.request"
   ]
  },
  {
   "cell_type": "code",
   "execution_count": 2,
   "metadata": {},
   "outputs": [
    {
     "data": {
      "text/plain": [
       "'C:\\\\Users\\\\Roberto Benard Orci\\\\Documents\\\\Python Scripts'"
      ]
     },
     "execution_count": 2,
     "metadata": {},
     "output_type": "execute_result"
    }
   ],
   "source": [
    "os.chdir(\"/Users/Roberto Benard Orci/Documents/Python Scripts\")\n",
    "os.getcwd()"
   ]
  },
  {
   "cell_type": "code",
   "execution_count": 3,
   "metadata": {},
   "outputs": [],
   "source": [
    "Table1 = np.loadtxt(fname = \"/Users/Roberto Benard Orci/Documents/Python Scripts/Table1.txt\")\n",
    "\n",
    "column_names = ['ID', 'x', 'y','Sigma y', 'Sigma x', 'Rho xy']\n",
    "\n",
    "Table1 = pd.DataFrame(Table1, columns=column_names)"
   ]
  },
  {
   "cell_type": "code",
   "execution_count": 4,
   "metadata": {},
   "outputs": [
    {
     "name": "stdout",
     "output_type": "stream",
     "text": [
      "      ID      x      y  Sigma y  Sigma x  Rho xy\n",
      "0    1.0  201.0  592.0     61.0      9.0   -0.84\n",
      "1    2.0  244.0  401.0     25.0      4.0    0.31\n",
      "2    3.0   47.0  583.0     38.0     11.0    0.64\n",
      "3    4.0  287.0  402.0     15.0      7.0   -0.27\n",
      "4    5.0  203.0  495.0     21.0      5.0   -0.33\n",
      "5    6.0   58.0  173.0     15.0      9.0    0.67\n",
      "6    7.0  210.0  479.0     27.0      4.0   -0.02\n",
      "7    8.0  202.0  504.0     14.0      4.0   -0.05\n",
      "8    9.0  198.0  510.0     30.0     11.0   -0.84\n",
      "9   10.0  158.0  416.0     16.0      7.0   -0.69\n",
      "10  11.0  165.0  393.0     14.0      5.0    0.30\n",
      "11  12.0  201.0  442.0     25.0      5.0   -0.46\n",
      "12  13.0  157.0  317.0     52.0      5.0   -0.03\n",
      "13  14.0  131.0  311.0     16.0      6.0    0.50\n",
      "14  15.0  166.0  400.0     34.0      6.0    0.73\n",
      "15  16.0  160.0  337.0     31.0      5.0   -0.52\n",
      "16  17.0  186.0  423.0     42.0      9.0    0.90\n",
      "17  18.0  125.0  334.0     26.0      8.0    0.40\n",
      "18  19.0  218.0  533.0     16.0      6.0   -0.78\n",
      "19  20.0  146.0  344.0     22.0      5.0   -0.56\n"
     ]
    }
   ],
   "source": [
    "print(Table1)"
   ]
  },
  {
   "cell_type": "code",
   "execution_count": null,
   "metadata": {},
   "outputs": [],
   "source": []
  }
 ],
 "metadata": {
  "kernelspec": {
   "display_name": "Python 3",
   "language": "python",
   "name": "python3"
  },
  "language_info": {
   "codemirror_mode": {
    "name": "ipython",
    "version": 3
   },
   "file_extension": ".py",
   "mimetype": "text/x-python",
   "name": "python",
   "nbconvert_exporter": "python",
   "pygments_lexer": "ipython3",
   "version": "3.7.3"
  }
 },
 "nbformat": 4,
 "nbformat_minor": 2
}
