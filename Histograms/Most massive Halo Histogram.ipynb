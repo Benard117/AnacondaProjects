{
 "cells": [
  {
   "cell_type": "code",
   "execution_count": 32,
   "metadata": {},
   "outputs": [],
   "source": [
    "from astropy.table import Table, Column\n",
    "import numpy as np\n",
    "import pandas as pd\n",
    "import matplotlib.pyplot as plt\n",
    "from matplotlib import colors\n",
    "import os\n",
    "import urllib.request"
   ]
  },
  {
   "cell_type": "code",
   "execution_count": 33,
   "metadata": {},
   "outputs": [
    {
     "data": {
      "text/plain": [
       "'C:\\\\Users\\\\Roberto Benard Orci\\\\Documents\\\\UNI\\\\Verano Investigacion\\\\Simulation data'"
      ]
     },
     "execution_count": 33,
     "metadata": {},
     "output_type": "execute_result"
    }
   ],
   "source": [
    "os.chdir(\"/Users/Roberto Benard Orci/Documents/UNI/Verano Investigacion/Simulation data\")\n",
    "os.getcwd()"
   ]
  },
  {
   "cell_type": "code",
   "execution_count": 34,
   "metadata": {},
   "outputs": [],
   "source": [
    "Halos = np.load(\"/Users/Roberto Benard Orci/Documents/UNI/Verano Investigacion/Simulation data/halos.npy\")"
   ]
  },
  {
   "cell_type": "code",
   "execution_count": 35,
   "metadata": {},
   "outputs": [],
   "source": [
    "MostMassiveHalo = Halos[:,0].max()\n",
    "IDMostMassiveHalo = 0\n",
    "\n",
    "for x in Halos[:,0]:\n",
    "    if x == MostMassiveHalo:\n",
    "        break\n",
    "    IDMostMassiveHalo = IDMostMassiveHalo+1"
   ]
  },
  {
   "cell_type": "code",
   "execution_count": 36,
   "metadata": {},
   "outputs": [],
   "source": [
    "x0 = Halos[IDMostMassiveHalo,1].item()\n",
    "y0 = Halos[IDMostMassiveHalo,2].item()\n",
    "\n",
    "x0SupLim = x0+5\n",
    "x0InfLim = x0-5\n",
    "y0SupLim = y0+5\n",
    "y0InfLim = y0-5"
   ]
  },
  {
   "cell_type": "code",
   "execution_count": 37,
   "metadata": {},
   "outputs": [],
   "source": [
    "DarkMatterParticles = np.load(\"/Users/Roberto Benard Orci/Documents/UNI/Verano Investigacion/Simulation data/dm_cat_ds_100.npy\")"
   ]
  },
  {
   "cell_type": "code",
   "execution_count": 38,
   "metadata": {},
   "outputs": [],
   "source": [
    "#Box = []\n",
    "#Cylinder = []\n",
    "\n",
    "#for x, y, z in zip(DarkMatterParticles[:,1], DarkMatterParticles[:,2], DarkMatterParticles[:,6]) :\n",
    "#    if (x <= x0SupLim) & (x >= x0InfLim) & (y <= y0SupLim) & (y >= y0InfLim) :\n",
    "#        Box.append([x, y, z])\n",
    "\n",
    "#Box = np.array(Box)\n",
    "\n",
    "#for x, y, z in zip(Box[:,0], Box[:,1], Box[:,2]) :\n",
    "#    if ((x-x0)**2)+((y-y0)**2)<=25 :\n",
    "#        Cylinder.append([x, y, z])\n",
    "\n",
    "#This process takes too long, so we use the one on the cell below."
   ]
  },
  {
   "cell_type": "code",
   "execution_count": 58,
   "metadata": {},
   "outputs": [],
   "source": [
    "Box = []\n",
    "Cylinder = []\n",
    "\n",
    "for x, y, z in zip(DarkMatterParticles[:,1], DarkMatterParticles[:,2], DarkMatterParticles[:,6]) :\n",
    "    if (x <= x0SupLim) & (x >= x0InfLim) & (y <= y0SupLim) & (y >= y0InfLim) :\n",
    "        Box.append([x, y, z])\n",
    "        \n",
    "Box = np.array(Box)\n",
    "\n",
    "Delta = np.zeros((np.size(Box[:,0]),2))\n",
    "\n",
    "Delta[:,0]= Box[:,0]-x0\n",
    "Delta[:,1]= Box[:,1]-y0\n",
    "\n",
    "DistanceSquared = Delta[:,0]**2 + Delta[:,1]**2\n",
    "\n",
    "# np.where(DistanceSquared<=25)\n",
    "\n",
    "for x, y, z, w in zip(Box[:,0], Box[:,1], Box[:,2], DistanceSquared) :\n",
    "    if w<=25 :\n",
    "        Cylinder.append([x, y, z])\n",
    "        \n",
    "#\n",
    "#\n",
    "#\n",
    "#There is no need to put the coordinates on the array Cylinder, we only need Vz (a.k.a. variable z)\n",
    "#\n",
    "#\n",
    "#"
   ]
  },
  {
   "cell_type": "code",
   "execution_count": 40,
   "metadata": {},
   "outputs": [],
   "source": [
    "MostMassiveHaloVelocity = Halos[IDMostMassiveHalo,6]"
   ]
  },
  {
   "cell_type": "code",
   "execution_count": 41,
   "metadata": {},
   "outputs": [],
   "source": [
    "Cylinder = np.array(Cylinder)"
   ]
  },
  {
   "cell_type": "code",
   "execution_count": 42,
   "metadata": {},
   "outputs": [],
   "source": [
    "FinalVelocities = []\n",
    "\n",
    "for x in Cylinder[:,2] :\n",
    "    VelocityOfDMParticlesRelativeToTheMMH = x - MostMassiveHaloVelocity\n",
    "    FinalVelocities.append(VelocityOfDMParticlesRelativeToTheMMH)"
   ]
  },
  {
   "cell_type": "code",
   "execution_count": 52,
   "metadata": {},
   "outputs": [
    {
     "data": {
      "image/png": "[encoded data removed]",
      "text/plain": [
       "<Figure size 432x288 with 1 Axes>"
      ]
     },
     "metadata": {
      "needs_background": "light"
     },
     "output_type": "display_data"
    }
   ],
   "source": [
    "plt.hist(FinalVelocities, density=True, bins=250)\n",
    "plt.ylabel('Probability');"
   ]
  },
  {
   "cell_type": "code",
   "execution_count": 44,
   "metadata": {},
   "outputs": [
    {
     "data": {
      "image/png": "[encoded data removed]",
      "text/plain": [
       "<Figure size 432x288 with 1 Axes>"
      ]
     },
     "metadata": {
      "needs_background": "light"
     },
     "output_type": "display_data"
    }
   ],
   "source": [
    "plt.hist(FinalVelocities, bins=250)\n",
    "plt.ylabel('Number of Particles');"
   ]
  },
  {
   "cell_type": "code",
   "execution_count": 45,
   "metadata": {},
   "outputs": [],
   "source": [
    "DarkMatterParticlesMediumDS = np.load(\"/Users/Roberto Benard Orci/Documents/UNI/Verano Investigacion/Simulation data/dm_cat_ds_1000.npy\")\n",
    "DarkMatterParticlesHighDS = np.load(\"/Users/Roberto Benard Orci/Documents/UNI/Verano Investigacion/Simulation data/dm_cat_ds_10000.npy\")"
   ]
  },
  {
   "cell_type": "code",
   "execution_count": 53,
   "metadata": {},
   "outputs": [],
   "source": [
    "BoxMDS = []\n",
    "CylinderMDS = []\n",
    "\n",
    "for x, y, z in zip(DarkMatterParticlesMediumDS[:,1], DarkMatterParticlesMediumDS[:,2], DarkMatterParticlesMediumDS[:,6]) :\n",
    "    if (x <= x0SupLim) & (x >= x0InfLim) & (y <= y0SupLim) & (y >= y0InfLim) :\n",
    "        BoxMDS.append([x, y, z])\n",
    "        \n",
    "BoxMDS = np.array(BoxMDS)\n",
    "\n",
    "DeltaMDS = np.zeros((np.size(BoxMDS[:,0]),2))\n",
    "\n",
    "DeltaMDS[:,0]= BoxMDS[:,0]-x0\n",
    "DeltaMDS[:,1]= BoxMDS[:,1]-y0\n",
    "\n",
    "DistanceSquaredMDS = DeltaMDS[:,0]**2 + DeltaMDS[:,1]**2\n",
    "\n",
    "for x, y, z, w in zip(BoxMDS[:,0], BoxMDS[:,1], BoxMDS[:,2], DistanceSquaredMDS) :\n",
    "    if w<=25 :\n",
    "        CylinderMDS.append([x, y, z])\n",
    "\n",
    "#########################\n",
    "\n",
    "BoxHDS = []\n",
    "CylinderHDS = []\n",
    "\n",
    "for x, y, z in zip(DarkMatterParticlesHighDS[:,1], DarkMatterParticlesHighDS[:,2], DarkMatterParticlesHighDS[:,6]) :\n",
    "    if (x <= x0SupLim) & (x >= x0InfLim) & (y <= y0SupLim) & (y >= y0InfLim) :\n",
    "        BoxHDS.append([x, y, z])\n",
    "        \n",
    "BoxHDS = np.array(BoxHDS)\n",
    "\n",
    "DeltaHDS = np.zeros((np.size(BoxHDS[:,0]),2))\n",
    "\n",
    "DeltaHDS[:,0]= BoxHDS[:,0]-x0\n",
    "DeltaHDS[:,1]= BoxHDS[:,1]-y0\n",
    "\n",
    "DistanceSquaredHDS = DeltaHDS[:,0]**2 + DeltaHDS[:,1]**2\n",
    "\n",
    "for x, y, z, w in zip(BoxHDS[:,0], BoxHDS[:,1], BoxHDS[:,2], DistanceSquaredHDS) :\n",
    "    if w<=25 :\n",
    "        CylinderHDS.append([x, y, z])"
   ]
  },
  {
   "cell_type": "code",
   "execution_count": 54,
   "metadata": {},
   "outputs": [],
   "source": [
    "CylinderMDS = np.array(CylinderMDS)\n",
    "CylinderHDS = np.array(CylinderHDS)"
   ]
  },
  {
   "cell_type": "code",
   "execution_count": 55,
   "metadata": {},
   "outputs": [],
   "source": [
    "FinalVelocitiesMDS = []\n",
    "\n",
    "for x in CylinderMDS[:,2] :\n",
    "    VelocityOfDMParticlesRelativeToTheMMH = x - MostMassiveHaloVelocity\n",
    "    FinalVelocitiesMDS.append(VelocityOfDMParticlesRelativeToTheMMH)\n",
    "\n",
    "FinalVelocitiesHDS = []\n",
    "\n",
    "for x in CylinderHDS[:,2] :\n",
    "    VelocityOfDMParticlesRelativeToTheMMH = x - MostMassiveHaloVelocity\n",
    "    FinalVelocitiesHDS.append(VelocityOfDMParticlesRelativeToTheMMH)"
   ]
  },
  {
   "cell_type": "code",
   "execution_count": 56,
   "metadata": {},
   "outputs": [
    {
     "data": {
      "image/png": "[encoded data removed]",
      "text/plain": [
       "<Figure size 432x288 with 1 Axes>"
      ]
     },
     "metadata": {
      "needs_background": "light"
     },
     "output_type": "display_data"
    }
   ],
   "source": [
    "plt.hist(FinalVelocitiesMDS, density=True, bins=100)\n",
    "plt.ylabel('Probability');"
   ]
  },
  {
   "cell_type": "code",
   "execution_count": 57,
   "metadata": {},
   "outputs": [
    {
     "data": {
      "image/png": "[encoded data removed]",
      "text/plain": [
       "<Figure size 432x288 with 1 Axes>"
      ]
     },
     "metadata": {
      "needs_background": "light"
     },
     "output_type": "display_data"
    }
   ],
   "source": [
    "plt.hist(FinalVelocitiesHDS, density=True, bins=40)\n",
    "plt.ylabel('Probability');"
   ]
  },
  {
   "cell_type": "code",
   "execution_count": 51,
   "metadata": {},
   "outputs": [],
   "source": [
    "#Las formas (\"shapes\") de los numpy arrays van entre parentesis \n",
    "Delta = np.zeros((np.size(CylinderHDS[:,0]),3))"
   ]
  }
 ],
 "metadata": {
  "kernelspec": {
   "display_name": "Python 3",
   "language": "python",
   "name": "python3"
  },
  "language_info": {
   "codemirror_mode": {
    "name": "ipython",
    "version": 3
   },
   "file_extension": ".py",
   "mimetype": "text/x-python",
   "name": "python",
   "nbconvert_exporter": "python",
   "pygments_lexer": "ipython3",
   "version": "3.7.3"
  }
 },
 "nbformat": 4,
 "nbformat_minor": 2
}
