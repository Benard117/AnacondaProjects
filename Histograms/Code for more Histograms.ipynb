{
 "cells": [
  {
   "cell_type": "code",
   "execution_count": 2,
   "metadata": {},
   "outputs": [],
   "source": [
    "from astropy.table import Table, Column\n",
    "import numpy as np\n",
    "import pandas as pd\n",
    "import matplotlib.pyplot as plt\n",
    "from matplotlib import colors\n",
    "import os\n",
    "import urllib.request"
   ]
  },
  {
   "cell_type": "code",
   "execution_count": 3,
   "metadata": {},
   "outputs": [
    {
     "data": {
      "text/plain": [
       "'C:\\\\Users\\\\Roberto Benard Orci\\\\Documents\\\\UNI\\\\Verano Investigacion\\\\Simulation data'"
      ]
     },
     "execution_count": 3,
     "metadata": {},
     "output_type": "execute_result"
    }
   ],
   "source": [
    "os.chdir(\"/Users/Roberto Benard Orci/Documents/UNI/Verano Investigacion/Simulation data\")\n",
    "os.getcwd()"
   ]
  },
  {
   "cell_type": "code",
   "execution_count": 4,
   "metadata": {},
   "outputs": [],
   "source": [
    "Halos = np.load(\"/Users/Roberto Benard Orci/Documents/UNI/Verano Investigacion/Simulation data/halos.npy\")"
   ]
  },
  {
   "cell_type": "code",
   "execution_count": 5,
   "metadata": {},
   "outputs": [
    {
     "name": "stdout",
     "output_type": "stream",
     "text": [
      "4506300000000000.0\n"
     ]
    }
   ],
   "source": [
    "MostMassiveHalo = Halos[:,0].max()\n",
    "IDMostMassiveHalo = 0\n",
    "\n",
    "print(MostMassiveHalo)"
   ]
  },
  {
   "cell_type": "code",
   "execution_count": 6,
   "metadata": {},
   "outputs": [
    {
     "name": "stdout",
     "output_type": "stream",
     "text": [
      "4395400000000000.0\n"
     ]
    }
   ],
   "source": [
    "MMH2 = sorted(Halos[:,0])[-2]\n",
    "print(MMH2)"
   ]
  },
  {
   "cell_type": "code",
   "execution_count": 7,
   "metadata": {},
   "outputs": [
    {
     "name": "stdout",
     "output_type": "stream",
     "text": [
      "706836\n"
     ]
    }
   ],
   "source": [
    "IDMostMassiveHalo = 0\n",
    "\n",
    "for x in Halos[:,0]:\n",
    "    if x == MostMassiveHalo:\n",
    "        break\n",
    "    IDMostMassiveHalo = IDMostMassiveHalo+1\n",
    "\n",
    "print(IDMostMassiveHalo)"
   ]
  },
  {
   "cell_type": "code",
   "execution_count": 8,
   "metadata": {},
   "outputs": [
    {
     "name": "stdout",
     "output_type": "stream",
     "text": [
      "[ 4.50630000e+15  1.00997205e+03  3.87196380e+02  2.02351940e+02\n",
      " -7.97300000e+01  2.33050000e+02 -6.15690000e+02]\n"
     ]
    }
   ],
   "source": [
    "print(Halos[IDMostMassiveHalo,:])"
   ]
  },
  {
   "cell_type": "code",
   "execution_count": 9,
   "metadata": {},
   "outputs": [],
   "source": [
    "x0 = Halos[IDMostMassiveHalo,1].item()\n",
    "y0 = Halos[IDMostMassiveHalo,2].item()\n",
    "z0 = Halos[IDMostMassiveHalo,3].item()\n",
    "\n",
    "x0SupLim = x0+1\n",
    "x0InfLim = x0-1\n",
    "y0SupLim = y0+1\n",
    "y0InfLim = y0-1\n",
    "z0SupLim = z0+50\n",
    "z0InfLim = z0-50"
   ]
  },
  {
   "cell_type": "code",
   "execution_count": 10,
   "metadata": {},
   "outputs": [
    {
     "name": "stdout",
     "output_type": "stream",
     "text": [
      "1009.97205 387.19638 202.35193999999998\n"
     ]
    }
   ],
   "source": [
    "print(x0,y0,z0)"
   ]
  },
  {
   "cell_type": "code",
   "execution_count": 11,
   "metadata": {},
   "outputs": [
    {
     "name": "stdout",
     "output_type": "stream",
     "text": [
      "1010.97205 1008.97205 388.19638 386.19638 252.35193999999998 152.35193999999998\n"
     ]
    }
   ],
   "source": [
    "print(x0SupLim,x0InfLim,y0SupLim,y0InfLim,z0SupLim,z0InfLim)"
   ]
  },
  {
   "cell_type": "code",
   "execution_count": 12,
   "metadata": {},
   "outputs": [],
   "source": [
    "DMP = np.load(\"/Users/Roberto Benard Orci/Documents/UNI/Verano Investigacion/Simulation data/dm_cat_ds_100.npy\")"
   ]
  },
  {
   "cell_type": "code",
   "execution_count": 13,
   "metadata": {},
   "outputs": [],
   "source": [
    "Box = []\n",
    "Cylinder = []\n",
    "\n",
    "for x, y, z, w in zip(DMP[:,1], DMP[:,2], DMP[:,3], DMP[:,6]) :\n",
    "    if (x <= x0SupLim) & (x >= x0InfLim) & (y <= y0SupLim) & (y >= y0InfLim) & (z <= z0SupLim) & (z >= z0InfLim) :\n",
    "        Box.append([x, y, z, w])\n",
    "        \n",
    "Box = np.array(Box)\n",
    "\n",
    "Delta = np.zeros((np.size(Box[:,0]),2))\n",
    "\n",
    "Delta[:,0]= Box[:,0]-x0\n",
    "Delta[:,1]= Box[:,1]-y0\n",
    "\n",
    "DistanceSquared = Delta[:,0]**2 + Delta[:,1]**2\n",
    "\n",
    "DMPIndex = np.zeros((np.size(np.where(DistanceSquared<=25)),1))\n",
    "IndexNumbers = np.array(np.where(DistanceSquared<=25))\n",
    "DMPIndex[:,0] = IndexNumbers\n",
    "\n",
    "for x in DMPIndex[:,0] :\n",
    "    w = int(x)\n",
    "    Cylinder.append([Box[w,0], Box[w,1], Box[w,2], Box[w,3]])\n",
    "\n",
    "\n",
    "#for x, y, z, w, q in zip(Box[:,0], Box[:,1], Box[:,2], Box[:,3], DistanceSquared) :\n",
    " #   if q<=25 :\n",
    "  #      Cylinder.append([x, y, z, w])\n",
    "\n",
    "#Cylinder.append([Box[x,0], Box[x,1], Box[x,2], Box[x,3]])\n",
    "\n",
    "#IndexError: only integers, slices (`:`), ellipsis (`...`), numpy.newaxis (`None`) and \n",
    "#integer or boolean arrays are valid indices"
   ]
  },
  {
   "cell_type": "code",
   "execution_count": 14,
   "metadata": {},
   "outputs": [],
   "source": [
    "MMHVelocity = Halos[IDMostMassiveHalo,6]\n",
    "\n",
    "Cylinder = np.array(Cylinder)"
   ]
  },
  {
   "cell_type": "code",
   "execution_count": 15,
   "metadata": {},
   "outputs": [],
   "source": [
    "FinalVelocities = []\n",
    "\n",
    "for x in Cylinder[:,3] :\n",
    "    VelocityOfDMPRelativeToTheMMH = x - MMHVelocity\n",
    "    FinalVelocities.append(VelocityOfDMPRelativeToTheMMH)"
   ]
  },
  {
   "cell_type": "code",
   "execution_count": 16,
   "metadata": {},
   "outputs": [
    {
     "data": {
      "image/png": "[encoded data removed]",
      "text/plain": [
       "<Figure size 432x288 with 1 Axes>"
      ]
     },
     "metadata": {
      "needs_background": "light"
     },
     "output_type": "display_data"
    }
   ],
   "source": [
    "plt.hist(FinalVelocities, density=True, bins=40)\n",
    "plt.ylabel('Probability');"
   ]
  },
  {
   "cell_type": "code",
   "execution_count": 21,
   "metadata": {},
   "outputs": [
    {
     "ename": "TypeError",
     "evalue": "only size-1 arrays can be converted to Python scalars",
     "output_type": "error",
     "traceback": [
      "\u001b[1;31m---------------------------------------------------------------------------\u001b[0m",
      "\u001b[1;31mTypeError\u001b[0m                                 Traceback (most recent call last)",
      "\u001b[1;32m<ipython-input-21-bee15214425a>\u001b[0m in \u001b[0;36m<module>\u001b[1;34m\u001b[0m\n\u001b[0;32m      1\u001b[0m \u001b[0mHalosMassRange\u001b[0m \u001b[1;33m=\u001b[0m \u001b[0mHalos\u001b[0m\u001b[1;33m[\u001b[0m\u001b[1;33m:\u001b[0m\u001b[1;33m,\u001b[0m\u001b[1;36m0\u001b[0m\u001b[1;33m]\u001b[0m\u001b[1;33m\u001b[0m\u001b[1;33m\u001b[0m\u001b[0m\n\u001b[1;32m----> 2\u001b[1;33m \u001b[0mHalosMassRange\u001b[0m \u001b[1;33m=\u001b[0m \u001b[0mint\u001b[0m\u001b[1;33m(\u001b[0m\u001b[0mHalosMassRange\u001b[0m\u001b[1;33m)\u001b[0m\u001b[1;33m\u001b[0m\u001b[1;33m\u001b[0m\u001b[0m\n\u001b[0m\u001b[0;32m      3\u001b[0m \u001b[0mrange\u001b[0m\u001b[1;33m(\u001b[0m\u001b[0mHalosMassRange\u001b[0m\u001b[1;33m)\u001b[0m\u001b[1;33m\u001b[0m\u001b[1;33m\u001b[0m\u001b[0m\n",
      "\u001b[1;31mTypeError\u001b[0m: only size-1 arrays can be converted to Python scalars"
     ]
    }
   ],
   "source": [
    "HalosMassRange = Halos[:,0]\n",
    "HalosMassRange = int(HalosMassRange)\n",
    "range(HalosMassRange)"
   ]
  },
  {
   "cell_type": "code",
   "execution_count": 22,
   "metadata": {},
   "outputs": [
    {
     "name": "stdout",
     "output_type": "stream",
     "text": [
      "4506300000000000.0 7455000000000.0\n"
     ]
    }
   ],
   "source": [
    "print(Halos[:,0].max(),Halos[:,0].min())"
   ]
  },
  {
   "cell_type": "code",
   "execution_count": 24,
   "metadata": {},
   "outputs": [
    {
     "data": {
      "text/plain": [
       "(4506.3, 7.455)"
      ]
     },
     "execution_count": 24,
     "metadata": {},
     "output_type": "execute_result"
    }
   ],
   "source": [
    "Halos[:,0].max()/10**12, Halos[:,0].min()/10**12"
   ]
  },
  {
   "cell_type": "code",
   "execution_count": null,
   "metadata": {},
   "outputs": [],
   "source": [
    "#x0 = Halos[IDMMH2,1].item()\n",
    "#y0 = Halos[IDMMH2,2].item()\n",
    "#z0 = Halos[IDMMH2,3].item()\n",
    "\n",
    "x0 = 0.3\n",
    "y0 = 2.1\n",
    "z0 = 444.4\n",
    "\n",
    "\n",
    "if x0 < 1 :\n",
    "    x0UpperLim = x0+1\n",
    "    x0LowerLim = x0+1049\n",
    "    DummyXVar = 3000\n",
    "elif x0 > 1049 :\n",
    "    x0UpperLim = x0-1049\n",
    "    x0LowerLim = x0-1\n",
    "    DummyXVar = 2000\n",
    "else :\n",
    "    x0UpperLim = x0+1\n",
    "    x0LowerLim = x0-1\n",
    "    DummyXVar = 1000\n",
    "\n",
    "if y0 < 1 :\n",
    "    y0UpperLim = y0+1\n",
    "    y0LowerLim = y0+1049\n",
    "    DummyYVar = 300\n",
    "elif y0 > 1049 :\n",
    "    y0UpperLim = y0-1049\n",
    "    y0LowerLim = y0-1\n",
    "    DummyYVar = 200\n",
    "else :\n",
    "    y0UpperLim = y0+1\n",
    "    y0LowerLim = y0-11\n",
    "    DummyYVar = 100\n",
    "\n",
    "if z0 < 50 :\n",
    "    z0UpperLim = z0+50\n",
    "    z0LowerLim = z0+1000\n",
    "    DummyZVar = 30\n",
    "elif z0 > 1000 :\n",
    "    z0UpperLim = z0-1000\n",
    "    z0LowerLim = z0-50\n",
    "    DummyZVar = 20\n",
    "else :\n",
    "    z0UpperLim = z0+50\n",
    "    z0LowerLim = z0-50\n",
    "    DummyZVar = 10\n",
    "    \n",
    "DummyVariable = DummyXVar + DummyYVar + DummyZVar"
   ]
  },
  {
   "cell_type": "code",
   "execution_count": null,
   "metadata": {},
   "outputs": [],
   "source": [
    "Box = []\n",
    "Cylinder = []\n",
    "\n",
    "for x, y, z, w in zip(DMP[:,1], DMP[:,2], DMP[:,3], DMP[:,6]) :\n",
    "    if DummyVariable == 1110 :\n",
    "        if (x <= x0SupLim) & (x >= x0InfLim) & (y <= y0SupLim) & (y >= y0InfLim) & (z <= z0SupLim) & (z >= z0InfLim) :\n",
    "        Box.append([x, y, z, w])\n",
    "    elif DummyVariable == 1120 :\n",
    "        ...\n",
    "        ...\n",
    "    ...\n",
    "    .\n",
    "    .\n",
    "    .\n",
    "    \n",
    "        \n",
    "Box = np.array(Box)\n",
    "\n",
    "Delta = np.zeros((np.size(Box[:,0]),2))\n",
    "\n",
    "Delta[:,0]= Box[:,0]-x0\n",
    "Delta[:,1]= Box[:,1]-y0\n",
    "\n",
    "DistanceSquared = Delta[:,0]**2 + Delta[:,1]**2\n",
    "\n",
    "DMPIndex = np.zeros((np.size(np.where(DistanceSquared<=25)),1))\n",
    "IndexNumbers = np.array(np.where(DistanceSquared<=25))\n",
    "DMPIndex[:,0] = IndexNumbers\n",
    "\n",
    "for x in DMPIndex[:,0] :\n",
    "    w = int(x)\n",
    "    Cylinder.append([Box[w,0], Box[w,1], Box[w,2], Box[w,3]])"
   ]
  },
  {
   "cell_type": "code",
   "execution_count": null,
   "metadata": {},
   "outputs": [],
   "source": [
    "DMPCopy = DMP\n",
    "\n",
    "DMP[:,1] = DMP[:,1] + 1 \n",
    "DMP[:,2] = DMP[:,2] + 1 \n",
    "DMP[:,3] = DMP[:,3] + 50\n",
    "\n",
    "for m, x, y, z, Vx, Vy, Vz in zip(DMPCopy[:,0], DMPCopy[:,1], DMPCopy[:,2], DMPCopy[:,3], DMPCopy[:,4], DMPCopy[:,5], DMPCopy[:,6]) :\n",
    "    if  x < 1 :\n",
    "        if y < 1 :\n",
    "            if z < 50 :\n",
    "                DMP.extend([m, x+1051, y+1051, z+1100, Vx, Vy, Vz]) #PUNTO\n",
    "            elif z > 1000 :\n",
    "                DMP.extend([m, x+1051, y+1051, z-1000, Vx, Vy, Vz]) #PUNTO\n",
    "                \n",
    "            DMP.extend([m, x+1051, y+1051, z+50, Vx, Vy, Vz]) #ARISTA\n",
    "            \n",
    "        elif y > 1049 :\n",
    "            if z < 50 :\n",
    "                DMP.extend([m, x+1051, y-1049, z+1100, Vx, Vy, Vz]) #PUNTO\n",
    "            elif z > 1000 :\n",
    "                DMP.extend([m, x+1051, y-1049, z-1000, Vx, Vy, Vz]) #PUNTO\n",
    "                \n",
    "            DMP.extend([m, x+1051, y-1049, z+50, Vx, Vy, Vz]) #ARISTA\n",
    "        \n",
    "        DMP.extend([m, x+1051, y+1, z+50, Vx, Vy, Vz]) #CARA\n",
    "        \n",
    "    elif y < 1 :\n",
    "        if z < 50 :\n",
    "            DMP.extend([m, x+1, y+1051, z+1100, Vx, Vy, Vz]) #ARISTA\n",
    "        elif z > 1000 :\n",
    "            DMP.extend([m, x+1, y+1051, z-1000, Vx, Vy, Vz]) #ARISTA\n",
    "        \n",
    "        DMP.extend([m, x+1, y+1051, z+50, Vx, Vy, Vz]) #CARA\n",
    "        \n",
    "    elif z < 50 :\n",
    "        if x < 1 :\n",
    "            DMP.extend([m, x+1051, y+1, z+1100, Vx, Vy, Vz]) #ARISTA\n",
    "        elif x > 1049 :\n",
    "            DMP.extend([m, x-1049, y+1, z+1100, Vx, Vy, Vz]) #ARISTA\n",
    "        \n",
    "        DMP.extend([m, x+1, y+1, z+1100, Vx, Vy, Vz]) #CARA\n",
    "        \n",
    "    elif  x > 1049 :\n",
    "        if y < 1 :\n",
    "            if z < 50 :\n",
    "                DMP.extend([m, x-1049, y+1051, z+1100, Vx, Vy, Vz]) #PUNTO\n",
    "            elif z > 1000 :\n",
    "                DMP.extend([m, x-1049, y+1051, z-1000, Vx, Vy, Vz]) #PUNTO\n",
    "                \n",
    "            DMP.extend([m, x-1049, y+1051, z+50, Vx, Vy, Vz]) #ARISTA\n",
    "            \n",
    "        elif y > 1049 :\n",
    "            if z < 50 :\n",
    "                DMP.extend([m, x-1049, y-1049, z+1100, Vx, Vy, Vz]) #PUNTO\n",
    "            elif z > 1000 :\n",
    "                DMP.extend([m, x-1049, y-1049, z-1000, Vx, Vy, Vz]) #PUNTO\n",
    "                \n",
    "            DMP.extend([m, x-1049, y-1049, z+50, Vx, Vy, Vz]) #ARISTA\n",
    "        \n",
    "        DMP.extend([m, x-1049, y+1, z+50, Vx, Vy, Vz]) #CARA\n",
    "        \n",
    "    elif y > 1049 :\n",
    "        if z < 50 :\n",
    "            DMP.extend([m, x+1, y-1049, z+1100, Vx, Vy, Vz]) #ARISTA\n",
    "        elif z > 1000 :\n",
    "            DMP.extend([m, x+1, y-1049, z-1000, Vx, Vy, Vz]) #ARISTA\n",
    "        \n",
    "        DMP.extend([m, x+1, y-1049, z+50, Vx, Vy, Vz]) #CARA\n",
    "        \n",
    "    elif z > 1000 :\n",
    "        if x < 1 :\n",
    "            DMP.extend([m, x+1051, y+1, z-1000, Vx, Vy, Vz]) #ARISTA\n",
    "        elif x > 1049 :\n",
    "            DMP.extend([m, x-1049, y+1, z-1000, Vx, Vy, Vz]) #ARISTA\n",
    "        \n",
    "        DMP.extend([m, x+1, y+1, z-1000, Vx, Vy, Vz]) #CARA"
   ]
  },
  {
   "cell_type": "code",
   "execution_count": null,
   "metadata": {},
   "outputs": [],
   "source": [
    "DMP = np.array(DMP)\n",
    "\n",
    "DMPCopy = DMP\n",
    "\n",
    "DMPCopy = np.array(DMPCopy)\n",
    "\n",
    "DMP[:,1] = DMP[:,1] + 1 \n",
    "DMP[:,2] = DMP[:,2] + 1 \n",
    "DMP[:,3] = DMP[:,3] + 50\n",
    "\n",
    "NewDMPBoxShell = []\n",
    "\n",
    "for m, x, y, z in zip(DMPCopy[:,0], DMPCopy[:,1], DMPCopy[:,2], DMPCopy[:,3]) :\n",
    "    if  x < 1 :\n",
    "        if y < 1 :\n",
    "            if z < 50 :\n",
    "                NewDMPBoxShell.append([m, x+1051, y+1051, z+1100]) #PUNTO\n",
    "                print(\"a\",m)\n",
    "            elif z > 1000 :\n",
    "                NewDMPBoxShell.append([m, x+1051, y+1051, z-1000]) #PUNTO\n",
    "                print(\"b\",m)\n",
    "            else :    \n",
    "                NewDMPBoxShell.append([m, x+1051, y+1051, z+50]) #ARISTA\n",
    "                print(\"c\",m)\n",
    "            \n",
    "        elif y > 1049 :\n",
    "            if z < 50 :\n",
    "                NewDMPBoxShell.append([m, x+1051, y-1049, z+1100]) #PUNTO\n",
    "                print(\"d\",m)\n",
    "            elif z > 1000 :\n",
    "                NewDMPBoxShell.append([m, x+1051, y-1049, z-1000]) #PUNTO\n",
    "                print(\"e\",m)\n",
    "            else :    \n",
    "                NewDMPBoxShell.append([m, x+1051, y-1049, z+50]) #ARISTA\n",
    "                print(\"f\",m)\n",
    "        else :\n",
    "            NewDMPBoxShell.append([m, x+1051, y+1, z+50]) #CARA\n",
    "            print(\"g\",m)\n",
    "            \n",
    "    elif  x > 1049 :\n",
    "        if y < 1 :\n",
    "            if z < 50 :\n",
    "                NewDMPBoxShell.append([m, x-1049, y+1051, z+1100]) #PUNTO\n",
    "                print(\"n\",m)\n",
    "            elif z > 1000 :\n",
    "                NewDMPBoxShell.append([m, x-1049, y+1051, z-1000]) #PUNTO\n",
    "                print(\"o\",m)\n",
    "            else :    \n",
    "                NewDMPBoxShell.append([m, x-1049, y+1051, z+50]) #ARISTA\n",
    "                print(\"p\",m)\n",
    "            \n",
    "        elif y > 1049 :\n",
    "            if z < 50 :\n",
    "                NewDMPBoxShell.append([m, x-1049, y-1049, z+1100]) #PUNTO\n",
    "                print(\"q\",m)\n",
    "            elif z > 1000 :\n",
    "                NewDMPBoxShell.append([m, x-1049, y-1049, z-1000]) #PUNTO\n",
    "                print(\"r\",m)\n",
    "            else :    \n",
    "                NewDMPBoxShell.append([m, x-1049, y-1049, z+50]) #ARISTA\n",
    "                print(\"s\",m)\n",
    "        else :\n",
    "            NewDMPBoxShell.append([m, x-1049, y+1, z+50]) #CARA\n",
    "            print(\"t\",m)\n",
    "        \n",
    "    elif y < 1 :\n",
    "        if z < 50 :\n",
    "            NewDMPBoxShell.append([m, x+1, y+1051, z+1100]) #ARISTA\n",
    "            print(\"h\",m)\n",
    "        elif z > 1000 :\n",
    "            NewDMPBoxShell.append([m, x+1, y+1051, z-1000]) #ARISTA\n",
    "            print(\"i\",m)\n",
    "        else :\n",
    "            NewDMPBoxShell.append([m, x+1, y+1051, z+50]) #CARA\n",
    "            print(\"j\",m)\n",
    "        \n",
    "    elif z < 50 :\n",
    "        if x < 1 :\n",
    "            NewDMPBoxShell.append([m, x+1051, y+1, z+1100]) #ARISTA\n",
    "            print(\"k\",m)\n",
    "        elif x > 1049 :\n",
    "            NewDMPBoxShell.append([m, x-1049, y+1, z+1100]) #ARISTA\n",
    "            print(\"l\",m)\n",
    "        else :\n",
    "            NewDMPBoxShell.append([m, x+1, y+1, z+1100]) #CARA\n",
    "            print(\"m\",m)\n",
    "        \n",
    "    elif y > 1049 :\n",
    "        if z < 50 :\n",
    "            NewDMPBoxShell.append([m, x+1, y-1049, z+1100]) #ARISTA\n",
    "            print(\"u\",m)\n",
    "        elif z > 1000 :\n",
    "            NewDMPBoxShell.append([m, x+1, y-1049, z-1000]) #ARISTA\n",
    "            print(\"v\",m)\n",
    "        else :\n",
    "            NewDMPBoxShell.append([m, x+1, y-1049, z+50]) #CARA\n",
    "            print(\"w\",m)\n",
    "        \n",
    "    elif z > 1000 :\n",
    "        if x < 1 :\n",
    "            NewDMPBoxShell.append([m, x+1051, y+1, z-1000]) #ARISTA\n",
    "            print(\"x\",m)\n",
    "        elif x > 1049 :\n",
    "            NewDMPBoxShell.append([m, x-1049, y+1, z-1000]) #ARISTA\n",
    "            print(\"y\",m)\n",
    "        else :\n",
    "            NewDMPBoxShell.append([m, x+1, y+1, z-1000]) #CARA\n",
    "            print(\"z\",m)"
   ]
  }
 ],
 "metadata": {
  "kernelspec": {
   "display_name": "Python 3",
   "language": "python",
   "name": "python3"
  },
  "language_info": {
   "codemirror_mode": {
    "name": "ipython",
    "version": 3
   },
   "file_extension": ".py",
   "mimetype": "text/x-python",
   "name": "python",
   "nbconvert_exporter": "python",
   "pygments_lexer": "ipython3",
   "version": "3.7.3"
  }
 },
 "nbformat": 4,
 "nbformat_minor": 2
}
