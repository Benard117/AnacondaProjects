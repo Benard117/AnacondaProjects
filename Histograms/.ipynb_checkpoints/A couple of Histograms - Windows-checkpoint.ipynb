{
 "cells": [
  {
   "cell_type": "code",
   "execution_count": 24,
   "metadata": {},
   "outputs": [],
   "source": [
    "from astropy.table import Table, Column\n",
    "import numpy as np\n",
    "import pandas as pd\n",
    "import matplotlib.pyplot as plt\n",
    "from matplotlib import colors\n",
    "import os\n",
    "import urllib.request"
   ]
  },
  {
   "cell_type": "code",
   "execution_count": 25,
   "metadata": {},
   "outputs": [
    {
     "data": {
      "text/plain": [
       "'C:\\\\Users\\\\Roberto Benard Orci\\\\Documents\\\\UNI\\\\Verano Investigacion\\\\Simulation data'"
      ]
     },
     "execution_count": 25,
     "metadata": {},
     "output_type": "execute_result"
    }
   ],
   "source": [
    "os.chdir(\"/Users/Roberto Benard Orci/Documents/UNI/Verano Investigacion/Simulation data\")\n",
    "os.getcwd()"
   ]
  },
  {
   "cell_type": "code",
   "execution_count": 26,
   "metadata": {},
   "outputs": [],
   "source": [
    "Halos = np.load(\"/Users/Roberto Benard Orci/Documents/UNI/Verano Investigacion/Simulation data/halos.npy\")\n",
    "DMP = np.load(\"/Users/Roberto Benard Orci/Documents/UNI/Verano Investigacion/Simulation data/dm_cat_ds_1000.npy\")\n",
    "CheckingEverythingIsAlright = 1"
   ]
  },
  {
   "cell_type": "code",
   "execution_count": 27,
   "metadata": {},
   "outputs": [],
   "source": [
    "# MassBins, where:  \n",
    "\n",
    "MassBin1 = []    #         MB < 1e13\n",
    "MassBin2 = []    # 1e13 <= MB <5e13\n",
    "MassBin3 = []    # 5e13 <= MB <1e14\n",
    "MassBin4 = []    # 1e14 <= MB <5e14\n",
    "MassBin5 = []    # 5e14 <= MB <1e15\n",
    "MassBin6 = []    #         MB >= 1e15\n",
    "\n",
    "for m, x, y, z, Vx, Vy, Vz in zip(Halos[:,0], Halos[:,1], Halos[:,2], Halos[:,3], Halos[:,4], Halos[:,5], Halos[:,6]) :\n",
    "    if m >= 1.0*10**15 :\n",
    "        MassBin1.append([m, x, y, z, Vx, Vy, Vz])\n",
    "    elif m >= 5.0*10**14 :\n",
    "        MassBin2.append([m, x, y, z, Vx, Vy, Vz])\n",
    "    elif m >= 1.0*10**14 :\n",
    "        MassBin3.append([m, x, y, z, Vx, Vy, Vz])\n",
    "    elif m >= 5.0*10**13 :\n",
    "        MassBin4.append([m, x, y, z, Vx, Vy, Vz])\n",
    "    elif m >= 1.0*10**13 :\n",
    "        MassBin5.append([m, x, y, z, Vx, Vy, Vz])\n",
    "    else :\n",
    "        MassBin6.append([m, x, y, z, Vx, Vy, Vz])\n",
    "\n",
    "MassBin1 = np.array(MassBin1)\n",
    "MassBin2 = np.array(MassBin2)\n",
    "MassBin3 = np.array(MassBin3)\n",
    "MassBin4 = np.array(MassBin4)\n",
    "MassBin5 = np.array(MassBin5)\n",
    "MassBin6 = np.array(MassBin6)"
   ]
  },
  {
   "cell_type": "code",
   "execution_count": 28,
   "metadata": {},
   "outputs": [
    {
     "name": "stdout",
     "output_type": "stream",
     "text": [
      "1\n"
     ]
    }
   ],
   "source": [
    "print(CheckingEverythingIsAlright)"
   ]
  },
  {
   "cell_type": "code",
   "execution_count": 47,
   "metadata": {},
   "outputs": [
    {
     "data": {
      "text/plain": [
       "2372"
      ]
     },
     "execution_count": 47,
     "metadata": {},
     "output_type": "execute_result"
    }
   ],
   "source": [
    "np.size(MassBin2[:,0])"
   ]
  },
  {
   "cell_type": "code",
   "execution_count": 30,
   "metadata": {},
   "outputs": [],
   "source": [
    "DMP = np.array(DMP)\n",
    "DMPCopy = DMP\n",
    "DMPCopy = np.array(DMPCopy)\n",
    "\n",
    "DMP[:,1] = DMP[:,1] + 1 \n",
    "DMP[:,2] = DMP[:,2] + 1 \n",
    "DMP[:,3] = DMP[:,3] + 50\n",
    "\n",
    "NewDMPBoxShell = []\n",
    "\n",
    "for m, x, y, z, Vx, Vy, Vz in zip(DMPCopy[:,0], DMPCopy[:,1], DMPCopy[:,2], DMPCopy[:,3], DMPCopy[:,4], DMPCopy[:,5], DMPCopy[:,6]) :\n",
    "    if  x < 1 :\n",
    "        if y < 1 :\n",
    "            if z < 50 :\n",
    "                NewDMPBoxShell.append([m, x+1051, y+1051, z+1100, Vx, Vy, Vz]) #PUNTO\n",
    "            elif z > 1000 :\n",
    "                NewDMPBoxShell.append([m, x+1051, y+1051, z-1000, Vx, Vy, Vz]) #PUNTO\n",
    "            else :    \n",
    "                NewDMPBoxShell.append([m, x+1051, y+1051, z+50, Vx, Vy, Vz]) #ARISTA\n",
    "            \n",
    "        elif y > 1049 :\n",
    "            if z < 50 :\n",
    "                NewDMPBoxShell.append([m, x+1051, y-1049, z+1100, Vx, Vy, Vz]) #PUNTO\n",
    "            elif z > 1000 :\n",
    "                NewDMPBoxShell.append([m, x+1051, y-1049, z-1000, Vx, Vy, Vz]) #PUNTO\n",
    "            else :    \n",
    "                NewDMPBoxShell.append([m, x+1051, y-1049, z+50, Vx, Vy, Vz]) #ARISTA\n",
    "                \n",
    "        elif z < 50 :\n",
    "            NewDMPBoxShell.append([m, x+1051, y+1, z+1100, Vx, Vy, Vz]) #ARISTA\n",
    "        elif z > 1000 :\n",
    "            NewDMPBoxShell.append([m, x+1051, y+1, z-1000, Vx, Vy, Vz]) #ARISTA  \n",
    "            \n",
    "        else :\n",
    "            NewDMPBoxShell.append([m, x+1051, y+1, z+50, Vx, Vy, Vz]) #CARA\n",
    "            \n",
    "    elif  x > 1049 :\n",
    "        if y < 1 :\n",
    "            if z < 50 :\n",
    "                NewDMPBoxShell.append([m, x-1049, y+1051, z+1100, Vx, Vy, Vz]) #PUNTO\n",
    "            elif z > 1000 :\n",
    "                NewDMPBoxShell.append([m, x-1049, y+1051, z-1000, Vx, Vy, Vz]) #PUNTO\n",
    "            else :    \n",
    "                NewDMPBoxShell.append([m, x-1049, y+1051, z+50, Vx, Vy, Vz]) #ARISTA\n",
    "            \n",
    "        elif y > 1049 :\n",
    "            if z < 50 :\n",
    "                NewDMPBoxShell.append([m, x-1049, y-1049, z+1100, Vx, Vy, Vz]) #PUNTO\n",
    "            elif z > 1000 :\n",
    "                NewDMPBoxShell.append([m, x-1049, y-1049, z-1000, Vx, Vy, Vz]) #PUNTO\n",
    "            else :    \n",
    "                NewDMPBoxShell.append([m, x-1049, y-1049, z+50, Vx, Vy, Vz]) #ARISTA\n",
    "                \n",
    "        elif z < 50 :\n",
    "            NewDMPBoxShell.append([m, x-1049, y+1, z+1100, Vx, Vy, Vz]) #ARISTA\n",
    "        elif z > 1000 :\n",
    "            NewDMPBoxShell.append([m, x-1049, y+1, z-1000, Vx, Vy, Vz]) #ARISTA\n",
    "            \n",
    "        else :\n",
    "            NewDMPBoxShell.append([m, x-1049, y+1, z+50, Vx, Vy, Vz]) #CARA\n",
    "        \n",
    "    elif y < 1 :\n",
    "        if z < 50 :\n",
    "            NewDMPBoxShell.append([m, x+1, y+1051, z+1100, Vx, Vy, Vz]) #ARISTA\n",
    "        elif z > 1000 :\n",
    "            NewDMPBoxShell.append([m, x+1, y+1051, z-1000, Vx, Vy, Vz]) #ARISTA\n",
    "        else :\n",
    "            NewDMPBoxShell.append([m, x+1, y+1051, z+50, Vx, Vy, Vz]) #CARA\n",
    "        \n",
    "    elif y > 1049 :\n",
    "        if z < 50 :\n",
    "            NewDMPBoxShell.append([m, x+1, y-1049, z+1100, Vx, Vy, Vz]) #ARISTA\n",
    "        elif z > 1000 :\n",
    "            NewDMPBoxShell.append([m, x+1, y-1049, z-1000, Vx, Vy, Vz]) #ARISTA\n",
    "        else :\n",
    "            NewDMPBoxShell.append([m, x+1, y-1049, z+50, Vx, Vy, Vz]) #CARA\n",
    "        \n",
    "    elif z < 50 :\n",
    "        NewDMPBoxShell.append([m, x+1, y+1, z+1100, Vx, Vy, Vz]) #CARA             \n",
    "                  \n",
    "    elif z > 1000 :\n",
    "        NewDMPBoxShell.append([m, x+1, y+1, z-1000, Vx, Vy, Vz]) #CARA"
   ]
  },
  {
   "cell_type": "code",
   "execution_count": 31,
   "metadata": {},
   "outputs": [
    {
     "name": "stdout",
     "output_type": "stream",
     "text": [
      "1\n"
     ]
    }
   ],
   "source": [
    "print(CheckingEverythingIsAlright)"
   ]
  },
  {
   "cell_type": "code",
   "execution_count": 32,
   "metadata": {},
   "outputs": [],
   "source": [
    "NewDMPBox = np.concatenate((DMP, NewDMPBoxShell))"
   ]
  },
  {
   "cell_type": "code",
   "execution_count": 33,
   "metadata": {},
   "outputs": [
    {
     "name": "stdout",
     "output_type": "stream",
     "text": [
      "1\n"
     ]
    }
   ],
   "source": [
    "print(CheckingEverythingIsAlright)"
   ]
  },
  {
   "cell_type": "code",
   "execution_count": 34,
   "metadata": {},
   "outputs": [],
   "source": [
    "ID = 0\n",
    "\n",
    "FinalVelocities = []\n",
    "\n",
    "for QQ in MassBin2[:,0] :\n",
    "    \n",
    "    x0 = MassBin2[ID,1].item() + 1\n",
    "    y0 = MassBin2[ID,2].item() + 1\n",
    "    z0 = MassBin2[ID,3].item() +50\n",
    "\n",
    "    x0SupLim = x0+1\n",
    "    x0InfLim = x0-1\n",
    "    y0SupLim = y0+1\n",
    "    y0InfLim = y0-1\n",
    "    z0SupLim = z0+50\n",
    "    z0InfLim = z0-50\n",
    "    \n",
    "    Box = []\n",
    "    Cylinder = []\n",
    "\n",
    "    for x, y, z ,Vz in zip(NewDMPBox[:,1], NewDMPBox[:,2], NewDMPBox[:,3], NewDMPBox[:,6]) :\n",
    "        if (x <= x0SupLim) & (x >= x0InfLim) & (y <= y0SupLim) & (y >= y0InfLim) & (z <= z0SupLim) & (z >= z0InfLim) :\n",
    "            Box.append([x, y, z, Vz])\n",
    "        \n",
    "    Box = np.array(Box)\n",
    "\n",
    "    Delta = np.zeros((np.size(Box[:,0]),2))\n",
    "\n",
    "    Delta[:,0]= Box[:,0]-x0\n",
    "    Delta[:,1]= Box[:,1]-y0\n",
    "\n",
    "    DistanceSquared = Delta[:,0]**2 + Delta[:,1]**2\n",
    "\n",
    "    NewDMPBoxIndex = np.zeros((np.size(np.where(DistanceSquared<=1)),1))\n",
    "    IndexNumbers = np.array(np.where(DistanceSquared<=1))\n",
    "    NewDMPBoxIndex[:,0] = IndexNumbers\n",
    "\n",
    "    for x in NewDMPBoxIndex[:,0] :\n",
    "        w = int(x)\n",
    "        Cylinder.append([Box[w,0], Box[w,1], Box[w,2], Box[w,3]])\n",
    "    \n",
    "    MBElementVelocity = MassBin2[ID,6]\n",
    "\n",
    "    Cylinder = np.array(Cylinder)\n",
    "    \n",
    "    for x in Cylinder[:,3] :\n",
    "        FinalVelocities.append(x - MBElementVelocity)\n",
    "    \n",
    "    ID = ID+1"
   ]
  },
  {
   "cell_type": "code",
   "execution_count": 35,
   "metadata": {},
   "outputs": [
    {
     "name": "stdout",
     "output_type": "stream",
     "text": [
      "1\n"
     ]
    }
   ],
   "source": [
    "print(CheckingEverythingIsAlright)"
   ]
  },
  {
   "cell_type": "code",
   "execution_count": 36,
   "metadata": {},
   "outputs": [
    {
     "data": {
      "text/plain": [
       "23.93757423400879"
      ]
     },
     "execution_count": 36,
     "metadata": {},
     "output_type": "execute_result"
    }
   ],
   "source": [
    "FinalVelocities[1]"
   ]
  },
  {
   "cell_type": "code",
   "execution_count": 37,
   "metadata": {},
   "outputs": [
    {
     "data": {
      "text/plain": [
       "35880"
      ]
     },
     "execution_count": 37,
     "metadata": {},
     "output_type": "execute_result"
    }
   ],
   "source": [
    "np.size(FinalVelocities)"
   ]
  },
  {
   "cell_type": "code",
   "execution_count": 38,
   "metadata": {},
   "outputs": [
    {
     "name": "stdout",
     "output_type": "stream",
     "text": [
      "1\n"
     ]
    }
   ],
   "source": [
    "print(CheckingEverythingIsAlright)"
   ]
  },
  {
   "cell_type": "code",
   "execution_count": 39,
   "metadata": {},
   "outputs": [],
   "source": [
    "np.savetxt(\"/Users/Roberto Benard Orci/Documents/UNI/Verano Investigacion/Simulation data/Many Histograms/MassBin2HistogramsDS1000.txt\",FinalVelocities,fmt='%s')"
   ]
  },
  {
   "cell_type": "code",
   "execution_count": 40,
   "metadata": {},
   "outputs": [
    {
     "name": "stdout",
     "output_type": "stream",
     "text": [
      "1\n"
     ]
    }
   ],
   "source": [
    "print(CheckingEverythingIsAlright)"
   ]
  },
  {
   "cell_type": "code",
   "execution_count": 41,
   "metadata": {},
   "outputs": [],
   "source": [
    "np.save(\"/Users/Roberto Benard Orci/Documents/UNI/Verano Investigacion/Simulation data/Many Histograms/MassBin2HistogramsDS1000.npy\",FinalVelocities)"
   ]
  },
  {
   "cell_type": "code",
   "execution_count": 42,
   "metadata": {},
   "outputs": [
    {
     "name": "stdout",
     "output_type": "stream",
     "text": [
      "1\n"
     ]
    }
   ],
   "source": [
    "print(CheckingEverythingIsAlright)"
   ]
  },
  {
   "cell_type": "code",
   "execution_count": 43,
   "metadata": {},
   "outputs": [],
   "source": [
    "#plt.hist(FinalVelocities, bins=100, histtype='bar', stacked=True)\n",
    "#plt.savefig(\"/Users/Roberto Benard Orci/Documents/UNI/Verano Investigacion/Simulation data/Many Histograms/MassBin1HistogramsDS1000.png\")"
   ]
  },
  {
   "cell_type": "code",
   "execution_count": 44,
   "metadata": {},
   "outputs": [
    {
     "name": "stdout",
     "output_type": "stream",
     "text": [
      "1\n"
     ]
    }
   ],
   "source": [
    "print(CheckingEverythingIsAlright)"
   ]
  },
  {
   "cell_type": "code",
   "execution_count": 45,
   "metadata": {},
   "outputs": [
    {
     "data": {
      "image/png": "[encoded data removed]",
      "text/plain": [
       "<Figure size 432x288 with 1 Axes>"
      ]
     },
     "metadata": {
      "needs_background": "light"
     },
     "output_type": "display_data"
    }
   ],
   "source": [
    "plt.hist(FinalVelocities, bins=100) #density=True\n",
    "plt.savefig(\"/Users/Roberto Benard Orci/Documents/UNI/Verano Investigacion/Simulation data/Many Histograms/MassBin2HistogramsDS1000.png\")"
   ]
  },
  {
   "cell_type": "code",
   "execution_count": null,
   "metadata": {},
   "outputs": [],
   "source": []
  }
 ],
 "metadata": {
  "kernelspec": {
   "display_name": "Python 3",
   "language": "python",
   "name": "python3"
  },
  "language_info": {
   "codemirror_mode": {
    "name": "ipython",
    "version": 3
   },
   "file_extension": ".py",
   "mimetype": "text/x-python",
   "name": "python",
   "nbconvert_exporter": "python",
   "pygments_lexer": "ipython3",
   "version": "3.7.3"
  }
 },
 "nbformat": 4,
 "nbformat_minor": 2
}
