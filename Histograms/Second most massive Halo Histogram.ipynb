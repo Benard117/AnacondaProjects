{
 "cells": [
  {
   "cell_type": "code",
   "execution_count": 1,
   "metadata": {},
   "outputs": [],
   "source": [
    "from astropy.table import Table, Column\n",
    "import numpy as np\n",
    "import pandas as pd\n",
    "import matplotlib.pyplot as plt\n",
    "from matplotlib import colors\n",
    "import os\n",
    "import urllib.request"
   ]
  },
  {
   "cell_type": "code",
   "execution_count": 2,
   "metadata": {},
   "outputs": [
    {
     "data": {
      "text/plain": [
       "'C:\\\\Users\\\\Roberto Benard Orci\\\\Documents\\\\UNI\\\\Verano Investigacion\\\\Simulation data'"
      ]
     },
     "execution_count": 2,
     "metadata": {},
     "output_type": "execute_result"
    }
   ],
   "source": [
    "os.chdir(\"/Users/Roberto Benard Orci/Documents/UNI/Verano Investigacion/Simulation data\")\n",
    "os.getcwd()"
   ]
  },
  {
   "cell_type": "code",
   "execution_count": 3,
   "metadata": {},
   "outputs": [],
   "source": [
    "Halos = np.load(\"/Users/Roberto Benard Orci/Documents/UNI/Verano Investigacion/Simulation data/halos.npy\")\n",
    "DMP = np.load(\"/Users/Roberto Benard Orci/Documents/UNI/Verano Investigacion/Simulation data/dm_cat_ds_100.npy\")"
   ]
  },
  {
   "cell_type": "code",
   "execution_count": 4,
   "metadata": {},
   "outputs": [],
   "source": [
    "MMH2 = sorted(Halos[:,0])[-2]\n",
    "IDMMH2 = 0\n",
    "\n",
    "for x in Halos[:,0]:\n",
    "    if x == MMH2:\n",
    "        break\n",
    "    IDMMH2 = IDMMH2+1"
   ]
  },
  {
   "cell_type": "code",
   "execution_count": 5,
   "metadata": {},
   "outputs": [],
   "source": [
    "x0 = Halos[IDMMH2,1].item()\n",
    "y0 = Halos[IDMMH2,2].item()\n",
    "z0 = Halos[IDMMH2,3].item()\n",
    "\n",
    "x0SupLim = x0+1\n",
    "x0InfLim = x0-1\n",
    "y0SupLim = y0+1\n",
    "y0InfLim = y0-1\n",
    "z0SupLim = z0+50\n",
    "z0InfLim = z0-50"
   ]
  },
  {
   "cell_type": "code",
   "execution_count": 6,
   "metadata": {},
   "outputs": [],
   "source": [
    "Box2 = []\n",
    "Cylinder2 = []\n",
    "\n",
    "for x, y, z, w in zip(DMP[:,1], DMP[:,2], DMP[:,3], DMP[:,6]) :\n",
    "    if (x <= x0SupLim) & (x >= x0InfLim) & (y <= y0SupLim) & (y >= y0InfLim) & (z <= z0SupLim) & (z >= z0InfLim) :\n",
    "        Box2.append([x, y, z, w])\n",
    "        \n",
    "Box2 = np.array(Box2)\n",
    "\n",
    "Delta2 = np.zeros((np.size(Box2[:,0]),2))\n",
    "\n",
    "Delta2[:,0]= Box2[:,0]-x0\n",
    "Delta2[:,1]= Box2[:,1]-y0\n",
    "\n",
    "DistanceSquared2 = Delta2[:,0]**2 + Delta2[:,1]**2\n",
    "\n",
    "DMPIndex2 = np.zeros((np.size(np.where(DistanceSquared2<=1)),1))\n",
    "IndexNumbers2 = np.array(np.where(DistanceSquared2<=1))\n",
    "DMPIndex2[:,0] = IndexNumbers2\n",
    "\n",
    "for x in DMPIndex2[:,0] :\n",
    "    w = int(x)\n",
    "    Cylinder2.append([Box2[w,0], Box2[w,1], Box2[w,2], Box2[w,3]])"
   ]
  },
  {
   "cell_type": "code",
   "execution_count": 7,
   "metadata": {},
   "outputs": [],
   "source": [
    "MMH2Velocity = Halos[IDMMH2,6]\n",
    "\n",
    "Cylinder2 = np.array(Cylinder2)"
   ]
  },
  {
   "cell_type": "code",
   "execution_count": 8,
   "metadata": {},
   "outputs": [],
   "source": [
    "FinalVelocities2 = []\n",
    "\n",
    "for x in Cylinder2[:,3] :\n",
    "    VelocityOfDMPRelativeToTheMMH2 = x - MMH2Velocity\n",
    "    FinalVelocities2.append(VelocityOfDMPRelativeToTheMMH2)"
   ]
  },
  {
   "cell_type": "code",
   "execution_count": 9,
   "metadata": {},
   "outputs": [
    {
     "data": {
      "image/png": "[encoded data removed]",
      "text/plain": [
       "<Figure size 432x288 with 1 Axes>"
      ]
     },
     "metadata": {
      "needs_background": "light"
     },
     "output_type": "display_data"
    }
   ],
   "source": [
    "plt.hist(FinalVelocities2, density=True, bins=40)\n",
    "plt.ylabel('Probability');"
   ]
  },
  {
   "cell_type": "code",
   "execution_count": null,
   "metadata": {},
   "outputs": [],
   "source": []
  }
 ],
 "metadata": {
  "kernelspec": {
   "display_name": "Python 3",
   "language": "python",
   "name": "python3"
  },
  "language_info": {
   "codemirror_mode": {
    "name": "ipython",
    "version": 3
   },
   "file_extension": ".py",
   "mimetype": "text/x-python",
   "name": "python",
   "nbconvert_exporter": "python",
   "pygments_lexer": "ipython3",
   "version": "3.7.3"
  }
 },
 "nbformat": 4,
 "nbformat_minor": 2
}
