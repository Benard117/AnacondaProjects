{
 "cells": [
  {
   "cell_type": "code",
   "execution_count": 1,
   "metadata": {},
   "outputs": [
    {
     "name": "stdout",
     "output_type": "stream",
     "text": [
      "0\n",
      "1\n",
      "1\n",
      "2\n",
      "3\n",
      "5\n",
      "8\n",
      "13\n",
      "21\n",
      "34\n",
      "55\n",
      "89\n",
      "144\n",
      "233\n",
      "377\n",
      "610\n",
      "987\n"
     ]
    }
   ],
   "source": [
    "x, y = 0, 1\n",
    "while x < 1000:\n",
    "    print(x)\n",
    "    x, y = y, x+y"
   ]
  },
  {
   "cell_type": "code",
   "execution_count": 2,
   "metadata": {},
   "outputs": [],
   "source": [
    "from astropy.table import Table, Column\n",
    "import numpy as np"
   ]
  },
  {
   "cell_type": "code",
   "execution_count": 3,
   "metadata": {},
   "outputs": [
    {
     "name": "stdout",
     "output_type": "stream",
     "text": [
      "[[0. 1. 0. 0. 0.]\n",
      " [0. 0. 1. 0. 0.]\n",
      " [0. 0. 0. 1. 0.]\n",
      " [0. 0. 0. 0. 1.]\n",
      " [0. 0. 0. 0. 0.]]\n"
     ]
    }
   ],
   "source": [
    "import numpy as np\n",
    "print( np.diag(np.ones(4), 1) )"
   ]
  },
  {
   "cell_type": "code",
   "execution_count": 4,
   "metadata": {},
   "outputs": [
    {
     "data": {
      "text/plain": [
       "array([ 1,  3,  5,  7,  9, 11, 13])"
      ]
     },
     "execution_count": 4,
     "metadata": {},
     "output_type": "execute_result"
    }
   ],
   "source": [
    "import numpy as np\n",
    "A = np.arange(17)\n",
    "A[1:14:2]"
   ]
  },
  {
   "cell_type": "code",
   "execution_count": 5,
   "metadata": {},
   "outputs": [
    {
     "data": {
      "text/plain": [
       "array([1, 2, 3])"
      ]
     },
     "execution_count": 5,
     "metadata": {},
     "output_type": "execute_result"
    }
   ],
   "source": [
    "A[1:4]"
   ]
  },
  {
   "cell_type": "code",
   "execution_count": 6,
   "metadata": {},
   "outputs": [],
   "source": [
    "n=5\n",
    "def funtest(n):\n",
    "    s = (n,n)\n",
    "    Y = zeros(s)\n",
    "    for i in range(0,n-1):\n",
    "        Y[i,i+1]=1          \n",
    "    return Y"
   ]
  },
  {
   "cell_type": "code",
   "execution_count": 7,
   "metadata": {},
   "outputs": [
    {
     "data": {
      "text/plain": [
       "array([[0, 1, 0, 0, 0],\n",
       "       [0, 0, 1, 0, 0],\n",
       "       [0, 0, 0, 1, 0],\n",
       "       [0, 0, 0, 0, 1],\n",
       "       [0, 0, 0, 0, 0]])"
      ]
     },
     "execution_count": 7,
     "metadata": {},
     "output_type": "execute_result"
    }
   ],
   "source": [
    "np.diagflat(np.ones(4,int),1)"
   ]
  },
  {
   "cell_type": "code",
   "execution_count": 8,
   "metadata": {},
   "outputs": [
    {
     "data": {
      "text/plain": [
       "array([[0, 1, 0, 0, 0],\n",
       "       [0, 0, 1, 0, 0],\n",
       "       [0, 0, 0, 1, 0],\n",
       "       [0, 0, 0, 0, 1],\n",
       "       [0, 0, 0, 0, 0]])"
      ]
     },
     "execution_count": 8,
     "metadata": {},
     "output_type": "execute_result"
    }
   ],
   "source": [
    "np.tril(np.triu(np.ones((5,5),int),1),1)"
   ]
  },
  {
   "cell_type": "code",
   "execution_count": 9,
   "metadata": {},
   "outputs": [
    {
     "data": {
      "text/plain": [
       "array([[0, 1, 1, 1, 1],\n",
       "       [0, 0, 1, 1, 1],\n",
       "       [0, 0, 0, 1, 1],\n",
       "       [0, 0, 0, 0, 1],\n",
       "       [0, 0, 0, 0, 0]])"
      ]
     },
     "execution_count": 9,
     "metadata": {},
     "output_type": "execute_result"
    }
   ],
   "source": [
    "np.triu(np.ones((5,5),int),1)"
   ]
  },
  {
   "cell_type": "code",
   "execution_count": 10,
   "metadata": {},
   "outputs": [
    {
     "data": {
      "text/plain": [
       "array([[0., 1., 0., 0., 0.],\n",
       "       [0., 0., 1., 0., 0.],\n",
       "       [0., 0., 0., 1., 0.],\n",
       "       [0., 0., 0., 0., 1.],\n",
       "       [0., 0., 0., 0., 0.]])"
      ]
     },
     "execution_count": 10,
     "metadata": {},
     "output_type": "execute_result"
    }
   ],
   "source": [
    "np.diag(np.ones(4),1)"
   ]
  },
  {
   "cell_type": "code",
   "execution_count": 11,
   "metadata": {},
   "outputs": [
    {
     "name": "stdout",
     "output_type": "stream",
     "text": [
      "[ 0.          0.32323232  0.64646465  0.96969697  1.29292929  1.61616162\n",
      "  1.93939394  2.26262626  2.58585859  2.90909091  3.23232323  3.55555556\n",
      "  3.87878788  4.2020202   4.52525253  4.84848485  5.17171717  5.49494949\n",
      "  5.81818182  6.14141414  6.46464646  6.78787879  7.11111111  7.43434343\n",
      "  7.75757576  8.08080808  8.4040404   8.72727273  9.05050505  9.37373737\n",
      "  9.6969697  10.02020202 10.34343434 10.66666667 10.98989899 11.31313131\n",
      " 11.63636364 11.95959596 12.28282828 12.60606061 12.92929293 13.25252525\n",
      " 13.57575758 13.8989899  14.22222222 14.54545455 14.86868687 15.19191919\n",
      " 15.51515152 15.83838384 16.16161616 16.48484848 16.80808081 17.13131313\n",
      " 17.45454545 17.77777778 18.1010101  18.42424242 18.74747475 19.07070707\n",
      " 19.39393939 19.71717172 20.04040404 20.36363636 20.68686869 21.01010101\n",
      " 21.33333333 21.65656566 21.97979798 22.3030303  22.62626263 22.94949495\n",
      " 23.27272727 23.5959596  23.91919192 24.24242424 24.56565657 24.88888889\n",
      " 25.21212121 25.53535354 25.85858586 26.18181818 26.50505051 26.82828283\n",
      " 27.15151515 27.47474747 27.7979798  28.12121212 28.44444444 28.76767677\n",
      " 29.09090909 29.41414141 29.73737374 30.06060606 30.38383838 30.70707071\n",
      " 31.03030303 31.35353535 31.67676768 32.        ]\n",
      "[0.00000000e+00 1.04479135e-01 4.17916539e-01 9.40312213e-01\n",
      " 1.67166616e+00 2.61197837e+00 3.76124885e+00 5.11947760e+00\n",
      " 6.68666463e+00 8.46280992e+00 1.04479135e+01 1.26419753e+01\n",
      " 1.50449954e+01 1.76569738e+01 2.04779104e+01 2.35078053e+01\n",
      " 2.67466585e+01 3.01944700e+01 3.38512397e+01 3.77169677e+01\n",
      " 4.17916539e+01 4.60752984e+01 5.05679012e+01 5.52694623e+01\n",
      " 6.01799816e+01 6.52994592e+01 7.06278951e+01 7.61652893e+01\n",
      " 8.19116417e+01 8.78669524e+01 9.40312213e+01 1.00404449e+02\n",
      " 1.06986634e+02 1.13777778e+02 1.20777880e+02 1.27986940e+02\n",
      " 1.35404959e+02 1.43031936e+02 1.50867871e+02 1.58912764e+02\n",
      " 1.67166616e+02 1.75629426e+02 1.84301194e+02 1.93181920e+02\n",
      " 2.02271605e+02 2.11570248e+02 2.21077849e+02 2.30794409e+02\n",
      " 2.40719927e+02 2.50854403e+02 2.61197837e+02 2.71750230e+02\n",
      " 2.82511580e+02 2.93481890e+02 3.04661157e+02 3.16049383e+02\n",
      " 3.27646567e+02 3.39452709e+02 3.51467809e+02 3.63691868e+02\n",
      " 3.76124885e+02 3.88766861e+02 4.01617794e+02 4.14677686e+02\n",
      " 4.27946536e+02 4.41424344e+02 4.55111111e+02 4.69006836e+02\n",
      " 4.83111519e+02 4.97425161e+02 5.11947760e+02 5.26679318e+02\n",
      " 5.41619835e+02 5.56769309e+02 5.72127742e+02 5.87695133e+02\n",
      " 6.03471483e+02 6.19456790e+02 6.35651056e+02 6.52054280e+02\n",
      " 6.68666463e+02 6.85487603e+02 7.02517702e+02 7.19756760e+02\n",
      " 7.37204775e+02 7.54861749e+02 7.72727681e+02 7.90802571e+02\n",
      " 8.09086420e+02 8.27579227e+02 8.46280992e+02 8.65191715e+02\n",
      " 8.84311397e+02 9.03640037e+02 9.23177635e+02 9.42924191e+02\n",
      " 9.62879706e+02 9.83044179e+02 1.00341761e+03 1.02400000e+03]\n"
     ]
    }
   ],
   "source": [
    "a = np.linspace(0, 32, 100)\n",
    "print(a)\n",
    "for i in range(len(a)):\n",
    "    a[i] = a[i]*a[i]\n",
    "print(a)"
   ]
  },
  {
   "cell_type": "code",
   "execution_count": 12,
   "metadata": {},
   "outputs": [
    {
     "name": "stdout",
     "output_type": "stream",
     "text": [
      "100\n"
     ]
    }
   ],
   "source": [
    "print(len(a))"
   ]
  },
  {
   "cell_type": "code",
   "execution_count": 13,
   "metadata": {},
   "outputs": [],
   "source": [
    "n=16"
   ]
  },
  {
   "cell_type": "code",
   "execution_count": 14,
   "metadata": {},
   "outputs": [
    {
     "name": "stdout",
     "output_type": "stream",
     "text": [
      "[1. 1. 1. 1. 1. 1. 1. 1. 1. 1. 1. 1. 1. 1. 1. 1.]\n",
      "[1. 1. 1. 1. 1. 1. 1. 1. 1. 1. 1. 1. 1. 1. 1. 1.]\n"
     ]
    }
   ],
   "source": [
    "a = np.linspace(1, 1, 16)\n",
    "print(a)\n",
    "for i in range(len(a)):\n",
    "    a[i] = a[i]*a[i]\n",
    "print(a)"
   ]
  },
  {
   "cell_type": "code",
   "execution_count": 15,
   "metadata": {},
   "outputs": [
    {
     "name": "stdout",
     "output_type": "stream",
     "text": [
      "[1. 1. 1. 1. 1. 1. 1. 1. 1. 1. 1. 1. 1. 1. 1. 1.]\n"
     ]
    }
   ],
   "source": [
    "a = np.linspace(1, 1, n)\n",
    "print(a)"
   ]
  },
  {
   "cell_type": "code",
   "execution_count": 16,
   "metadata": {},
   "outputs": [
    {
     "name": "stdout",
     "output_type": "stream",
     "text": [
      "[1. 1. 1. 1. 1. 1. 1. 1. 1. 1. 1. 1. 1. 1. 1. 1.]\n"
     ]
    }
   ],
   "source": [
    "for i in range(len(a)):\n",
    "    a[i] = a[i]*a[i]\n",
    "print(a)"
   ]
  },
  {
   "cell_type": "code",
   "execution_count": 17,
   "metadata": {},
   "outputs": [],
   "source": [
    "import pandas as pd"
   ]
  },
  {
   "cell_type": "code",
   "execution_count": 18,
   "metadata": {},
   "outputs": [
    {
     "name": "stdout",
     "output_type": "stream",
     "text": [
      "      0\n",
      "0   1.0\n",
      "1   1.0\n",
      "2   1.0\n",
      "3   1.0\n",
      "4   1.0\n",
      "5   1.0\n",
      "6   1.0\n",
      "7   1.0\n",
      "8   1.0\n",
      "9   1.0\n",
      "10  1.0\n",
      "11  1.0\n",
      "12  1.0\n",
      "13  1.0\n",
      "14  1.0\n",
      "15  1.0\n"
     ]
    }
   ],
   "source": [
    "print(pd.DataFrame(a))"
   ]
  },
  {
   "cell_type": "code",
   "execution_count": 19,
   "metadata": {},
   "outputs": [],
   "source": [
    "import os\n",
    "import numpy as np\n",
    "import urllib.request"
   ]
  },
  {
   "cell_type": "code",
   "execution_count": 20,
   "metadata": {},
   "outputs": [
    {
     "data": {
      "text/plain": [
       "'C:\\\\Users\\\\Roberto Benard Orci\\\\Documents\\\\Python Scripts'"
      ]
     },
     "execution_count": 20,
     "metadata": {},
     "output_type": "execute_result"
    }
   ],
   "source": [
    "os.chdir(\"/Users/Roberto Benard Orci/Documents/Python Scripts\")\n",
    "os.getcwd()"
   ]
  },
  {
   "cell_type": "code",
   "execution_count": 21,
   "metadata": {},
   "outputs": [],
   "source": [
    "Table1 = np.loadtxt(fname = \"/Users/Roberto Benard Orci/Documents/Python Scripts/Table1.txt\")"
   ]
  },
  {
   "cell_type": "code",
   "execution_count": 22,
   "metadata": {},
   "outputs": [
    {
     "name": "stdout",
     "output_type": "stream",
     "text": [
      "[[ 1.00e+00  2.01e+02  5.92e+02  6.10e+01  9.00e+00 -8.40e-01]\n",
      " [ 2.00e+00  2.44e+02  4.01e+02  2.50e+01  4.00e+00  3.10e-01]\n",
      " [ 3.00e+00  4.70e+01  5.83e+02  3.80e+01  1.10e+01  6.40e-01]\n",
      " [ 4.00e+00  2.87e+02  4.02e+02  1.50e+01  7.00e+00 -2.70e-01]\n",
      " [ 5.00e+00  2.03e+02  4.95e+02  2.10e+01  5.00e+00 -3.30e-01]\n",
      " [ 6.00e+00  5.80e+01  1.73e+02  1.50e+01  9.00e+00  6.70e-01]\n",
      " [ 7.00e+00  2.10e+02  4.79e+02  2.70e+01  4.00e+00 -2.00e-02]\n",
      " [ 8.00e+00  2.02e+02  5.04e+02  1.40e+01  4.00e+00 -5.00e-02]\n",
      " [ 9.00e+00  1.98e+02  5.10e+02  3.00e+01  1.10e+01 -8.40e-01]\n",
      " [ 1.00e+01  1.58e+02  4.16e+02  1.60e+01  7.00e+00 -6.90e-01]\n",
      " [ 1.10e+01  1.65e+02  3.93e+02  1.40e+01  5.00e+00  3.00e-01]\n",
      " [ 1.20e+01  2.01e+02  4.42e+02  2.50e+01  5.00e+00 -4.60e-01]\n",
      " [ 1.30e+01  1.57e+02  3.17e+02  5.20e+01  5.00e+00 -3.00e-02]\n",
      " [ 1.40e+01  1.31e+02  3.11e+02  1.60e+01  6.00e+00  5.00e-01]\n",
      " [ 1.50e+01  1.66e+02  4.00e+02  3.40e+01  6.00e+00  7.30e-01]\n",
      " [ 1.60e+01  1.60e+02  3.37e+02  3.10e+01  5.00e+00 -5.20e-01]\n",
      " [ 1.70e+01  1.86e+02  4.23e+02  4.20e+01  9.00e+00  9.00e-01]\n",
      " [ 1.80e+01  1.25e+02  3.34e+02  2.60e+01  8.00e+00  4.00e-01]\n",
      " [ 1.90e+01  2.18e+02  5.33e+02  1.60e+01  6.00e+00 -7.80e-01]\n",
      " [ 2.00e+01  1.46e+02  3.44e+02  2.20e+01  5.00e+00 -5.60e-01]]\n"
     ]
    }
   ],
   "source": [
    "print(Table1)"
   ]
  },
  {
   "cell_type": "code",
   "execution_count": 23,
   "metadata": {},
   "outputs": [],
   "source": [
    "Table2 = np.loadtxt(fname = \"/Users/Roberto Benard Orci/Documents/Python Scripts/Table2.txt\")"
   ]
  },
  {
   "cell_type": "code",
   "execution_count": 24,
   "metadata": {},
   "outputs": [
    {
     "name": "stdout",
     "output_type": "stream",
     "text": [
      "[[  5. 203. 495.  21.]\n",
      " [  6.  58. 173.  15.]\n",
      " [  7. 210. 479.  27.]\n",
      " [  8. 202. 504.  14.]\n",
      " [  9. 198. 510.  30.]\n",
      " [ 10. 158. 416.  16.]\n",
      " [ 11. 165. 393.  14.]\n",
      " [ 12. 201. 442.  25.]\n",
      " [ 13. 157. 317.  52.]\n",
      " [ 14. 131. 311.  16.]\n",
      " [ 15. 166. 400.  34.]\n",
      " [ 16. 160. 337.  31.]\n",
      " [ 17. 186. 423.  42.]\n",
      " [ 18. 125. 334.  26.]\n",
      " [ 19. 218. 533.  16.]\n",
      " [ 20. 146. 344.  22.]]\n"
     ]
    }
   ],
   "source": [
    "print(Table2)"
   ]
  },
  {
   "cell_type": "code",
   "execution_count": 25,
   "metadata": {
    "scrolled": true
   },
   "outputs": [
    {
     "name": "stdout",
     "output_type": "stream",
     "text": [
      "[ 5.  6.  7.  8.  9. 10. 11. 12. 13. 14. 15. 16. 17. 18. 19. 20.]\n",
      "[  6.  58. 173.  15.]\n",
      "58.0\n"
     ]
    }
   ],
   "source": [
    "#Print first column\n",
    "print(Table2[:,0])\n",
    "\n",
    "#Print second row\n",
    "print(Table2[1,:])\n",
    "\n",
    "print(Table2[1,1])"
   ]
  },
  {
   "cell_type": "code",
   "execution_count": 26,
   "metadata": {},
   "outputs": [],
   "source": [
    "column_names = ['a', 'b', 'c','d']\n",
    "\n",
    "Table2 = pd.DataFrame(Table2, columns=column_names)"
   ]
  },
  {
   "cell_type": "code",
   "execution_count": 27,
   "metadata": {},
   "outputs": [
    {
     "name": "stdout",
     "output_type": "stream",
     "text": [
      "       a      b      c     d\n",
      "0    5.0  203.0  495.0  21.0\n",
      "1    6.0   58.0  173.0  15.0\n",
      "2    7.0  210.0  479.0  27.0\n",
      "3    8.0  202.0  504.0  14.0\n",
      "4    9.0  198.0  510.0  30.0\n",
      "5   10.0  158.0  416.0  16.0\n",
      "6   11.0  165.0  393.0  14.0\n",
      "7   12.0  201.0  442.0  25.0\n",
      "8   13.0  157.0  317.0  52.0\n",
      "9   14.0  131.0  311.0  16.0\n",
      "10  15.0  166.0  400.0  34.0\n",
      "11  16.0  160.0  337.0  31.0\n",
      "12  17.0  186.0  423.0  42.0\n",
      "13  18.0  125.0  334.0  26.0\n",
      "14  19.0  218.0  533.0  16.0\n",
      "15  20.0  146.0  344.0  22.0\n"
     ]
    }
   ],
   "source": [
    "print(Table2)"
   ]
  },
  {
   "cell_type": "code",
   "execution_count": 28,
   "metadata": {},
   "outputs": [
    {
     "data": {
      "text/plain": [
       "True"
      ]
     },
     "execution_count": 28,
     "metadata": {},
     "output_type": "execute_result"
    }
   ],
   "source": [
    "Table2.index.name is None"
   ]
  },
  {
   "cell_type": "code",
   "execution_count": 29,
   "metadata": {},
   "outputs": [
    {
     "name": "stdout",
     "output_type": "stream",
     "text": [
      "       a      b      c     d\n",
      "0    5.0  203.0  495.0  21.0\n",
      "1    6.0   58.0  173.0  15.0\n",
      "2    7.0  210.0  479.0  27.0\n",
      "3    8.0  202.0  504.0  14.0\n",
      "4    9.0  198.0  510.0  30.0\n",
      "5   10.0  158.0  416.0  16.0\n",
      "6   11.0  165.0  393.0  14.0\n",
      "7   12.0  201.0  442.0  25.0\n",
      "8   13.0  157.0  317.0  52.0\n",
      "9   14.0  131.0  311.0  16.0\n",
      "10  15.0  166.0  400.0  34.0\n",
      "11  16.0  160.0  337.0  31.0\n",
      "12  17.0  186.0  423.0  42.0\n",
      "13  18.0  125.0  334.0  26.0\n",
      "14  19.0  218.0  533.0  16.0\n",
      "15  20.0  146.0  344.0  22.0\n"
     ]
    }
   ],
   "source": [
    "print(Table2)"
   ]
  },
  {
   "cell_type": "code",
   "execution_count": 30,
   "metadata": {},
   "outputs": [
    {
     "data": {
      "text/plain": [
       "a    15\n",
       "b    14\n",
       "c    14\n",
       "d     8\n",
       "dtype: int64"
      ]
     },
     "execution_count": 30,
     "metadata": {},
     "output_type": "execute_result"
    }
   ],
   "source": [
    "Table2.idxmax()"
   ]
  },
  {
   "cell_type": "code",
   "execution_count": 31,
   "metadata": {},
   "outputs": [
    {
     "data": {
      "text/plain": [
       "15"
      ]
     },
     "execution_count": 31,
     "metadata": {},
     "output_type": "execute_result"
    }
   ],
   "source": [
    "Table2['a'].idxmax()"
   ]
  },
  {
   "cell_type": "code",
   "execution_count": 32,
   "metadata": {},
   "outputs": [
    {
     "ename": "NameError",
     "evalue": "name 'df' is not defined",
     "output_type": "error",
     "traceback": [
      "\u001b[1;31m---------------------------------------------------------------------------\u001b[0m",
      "\u001b[1;31mNameError\u001b[0m                                 Traceback (most recent call last)",
      "\u001b[1;32m<ipython-input-32-95a8b24225f9>\u001b[0m in \u001b[0;36m<module>\u001b[1;34m\u001b[0m\n\u001b[1;32m----> 1\u001b[1;33m \u001b[1;33m(\u001b[0m\u001b[0mdf\u001b[0m\u001b[1;33m[\u001b[0m\u001b[1;33m(\u001b[0m\u001b[0mTable2\u001b[0m\u001b[1;33m[\u001b[0m\u001b[1;34m'a'\u001b[0m\u001b[1;33m]\u001b[0m \u001b[1;33m>=\u001b[0m \u001b[1;36m5\u001b[0m\u001b[1;33m)\u001b[0m \u001b[1;33m&\u001b[0m \u001b[1;33m(\u001b[0m\u001b[0mdf\u001b[0m\u001b[1;33m[\u001b[0m\u001b[1;34m'a'\u001b[0m\u001b[1;33m]\u001b[0m \u001b[1;33m<\u001b[0m \u001b[1;36m8\u001b[0m\u001b[1;33m)\u001b[0m\u001b[1;33m]\u001b[0m\u001b[1;33m)\u001b[0m\u001b[1;33m\u001b[0m\u001b[1;33m\u001b[0m\u001b[0m\n\u001b[0m",
      "\u001b[1;31mNameError\u001b[0m: name 'df' is not defined"
     ]
    }
   ],
   "source": [
    "(df[(Table2['a'] >= 5) & (df['a'] < 8)])"
   ]
  },
  {
   "cell_type": "code",
   "execution_count": 33,
   "metadata": {},
   "outputs": [
    {
     "ename": "NameError",
     "evalue": "name 'df' is not defined",
     "output_type": "error",
     "traceback": [
      "\u001b[1;31m---------------------------------------------------------------------------\u001b[0m",
      "\u001b[1;31mNameError\u001b[0m                                 Traceback (most recent call last)",
      "\u001b[1;32m<ipython-input-33-861841bcf222>\u001b[0m in \u001b[0;36m<module>\u001b[1;34m\u001b[0m\n\u001b[1;32m----> 1\u001b[1;33m \u001b[0mprint\u001b[0m\u001b[1;33m(\u001b[0m\u001b[0mdf\u001b[0m\u001b[1;33m.\u001b[0m\u001b[0mloc\u001b[0m\u001b[1;33m[\u001b[0m\u001b[1;33m(\u001b[0m\u001b[0mTable2\u001b[0m\u001b[1;33m[\u001b[0m\u001b[1;34m'a'\u001b[0m\u001b[1;33m]\u001b[0m \u001b[1;33m>=\u001b[0m \u001b[1;36m5\u001b[0m\u001b[1;33m)\u001b[0m \u001b[1;33m&\u001b[0m \u001b[1;33m(\u001b[0m\u001b[0mdf\u001b[0m\u001b[1;33m[\u001b[0m\u001b[1;34m'a'\u001b[0m\u001b[1;33m]\u001b[0m \u001b[1;33m<\u001b[0m \u001b[1;36m8\u001b[0m\u001b[1;33m)\u001b[0m\u001b[1;33m,\u001b[0m \u001b[1;34m'b'\u001b[0m\u001b[1;33m]\u001b[0m\u001b[1;33m)\u001b[0m\u001b[1;33m\u001b[0m\u001b[1;33m\u001b[0m\u001b[0m\n\u001b[0m",
      "\u001b[1;31mNameError\u001b[0m: name 'df' is not defined"
     ]
    }
   ],
   "source": [
    "print(df.loc[(Table2['a'] >= 5) & (df['a'] < 8), 'b'])"
   ]
  },
  {
   "cell_type": "code",
   "execution_count": 34,
   "metadata": {},
   "outputs": [
    {
     "data": {
      "text/plain": [
       "array([0. , 0.1, 0.2, 0.3, 0.4, 0.5, 0.6, 0.7, 0.8, 0.9, 1. ])"
      ]
     },
     "execution_count": 34,
     "metadata": {},
     "output_type": "execute_result"
    }
   ],
   "source": [
    "np.linspace(0,1,11)"
   ]
  },
  {
   "cell_type": "code",
   "execution_count": 35,
   "metadata": {},
   "outputs": [
    {
     "data": {
      "text/plain": [
       "array([0. , 0.1, 0.2, 0.3, 0.4, 0.5, 0.6, 0.7, 0.8, 0.9])"
      ]
     },
     "execution_count": 35,
     "metadata": {},
     "output_type": "execute_result"
    }
   ],
   "source": [
    "np.linspace(0,1,10,endpoint=False)"
   ]
  },
  {
   "cell_type": "code",
   "execution_count": 36,
   "metadata": {},
   "outputs": [
    {
     "data": {
      "text/plain": [
       "array([0. , 0.1, 0.2, 0.3, 0.4, 0.5, 0.6, 0.7, 0.8, 0.9])"
      ]
     },
     "execution_count": 36,
     "metadata": {},
     "output_type": "execute_result"
    }
   ],
   "source": [
    "np.arange(0.0, 1.0, 0.1)"
   ]
  },
  {
   "cell_type": "code",
   "execution_count": 45,
   "metadata": {},
   "outputs": [
    {
     "name": "stdout",
     "output_type": "stream",
     "text": [
      "4\n",
      "5\n"
     ]
    }
   ],
   "source": [
    "y=1234\n",
    "x=0.2\n",
    "z=10\n",
    "\n",
    "\n",
    "if  x < 1 :\n",
    "    if y < 1 :\n",
    "        if z < 50 :               \n",
    "            print(1)\n",
    "        elif z > 1000 :\n",
    "            print(2)\n",
    "        \n",
    "        print(3)\n",
    "    elif y > 1049 :\n",
    "        print(4)\n",
    "    print(5)    "
   ]
  },
  {
   "cell_type": "code",
   "execution_count": null,
   "metadata": {},
   "outputs": [],
   "source": []
  }
 ],
 "metadata": {
  "kernelspec": {
   "display_name": "Python 3",
   "language": "python",
   "name": "python3"
  },
  "language_info": {
   "codemirror_mode": {
    "name": "ipython",
    "version": 3
   },
   "file_extension": ".py",
   "mimetype": "text/x-python",
   "name": "python",
   "nbconvert_exporter": "python",
   "pygments_lexer": "ipython3",
   "version": "3.7.3"
  }
 },
 "nbformat": 4,
 "nbformat_minor": 2
}
